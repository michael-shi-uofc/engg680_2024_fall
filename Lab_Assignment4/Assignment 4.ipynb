{
 "cells": [
  {
   "cell_type": "markdown",
   "metadata": {},
   "source": [
    "# **ENGG680 - Introduction to Digital Engineering**\n",
    "## *Lab Assignment 4: ML Applications - Vehicle Motion State Classification*"
   ]
  },
  {
   "cell_type": "markdown",
   "metadata": {},
   "source": [
    "## Preliminary: Certificate of Work\n"
   ]
  },
  {
   "cell_type": "markdown",
   "metadata": {},
   "source": [
    "*We, the undersigned, certify that this is our own work, which has been done expressly for this course, either without the assistance of any other party or where appropriate we have acknowledged the work of others. Further, we have read and understood the section in the university calendar on plagiarism/cheating/other academic misconduct and we are aware of the implications thereof. We request that the total mark for this assignment be distributed as follows among group members:*"
   ]
  },
  {
   "cell_type": "markdown",
   "metadata": {},
   "source": [
    "|          | First Name | Last Name | Signature (Full Name, Date) | Hours | Contribution % |\n",
    "|----------|------------|-----------|-----------------------------|-------|----------------|\n",
    "| Member 1: | Michael | Shi | Michael Shi, 11-25-2024 | 8 | 25% |\n",
    "| Member 2: | Hlayn | Toe Wai | Hlayn Toe Wai, 11-28-2024 | 8 | 25% |\n",
    "| Member 3: | Sheinn | Min Thu | Sheinn Min Thu, 11-28-2024 | 8 | 25% |\n",
    "| Member 4: | Hsu Hsu | Sandi | Hsu Hsu Sandi, 11-28-2024 | 8 | 25% |\n"
   ]
  },
  {
   "cell_type": "markdown",
   "metadata": {},
   "source": [
    "---"
   ]
  },
  {
   "cell_type": "markdown",
   "metadata": {},
   "source": [
    "## Section 1 - Motion Classification Using *All Features* Derived From Inertial Sensor Data (33 Marks)"
   ]
  },
  {
   "cell_type": "markdown",
   "metadata": {},
   "source": [
    "---"
   ]
  },
  {
   "cell_type": "markdown",
   "metadata": {},
   "source": [
    "### 1.1 Assignment datasets import (6 Marks)"
   ]
  },
  {
   "cell_type": "markdown",
   "metadata": {},
   "source": [
    "---"
   ]
  },
  {
   "cell_type": "code",
   "execution_count": 1,
   "metadata": {},
   "outputs": [],
   "source": [
    "# some library imports\n",
    "import pandas as pd"
   ]
  },
  {
   "cell_type": "markdown",
   "metadata": {},
   "source": [
    "First load the following datasets into dataframes. \n",
    "* *UrbanNav-HK_Whampoa-20210521_sensors.csv* to dataframe variable named *cv_set*. This dataset is to be used for model training and hyper parameter tuning. \n",
    "* *UrbanNav-HK_TST-20210517_sensors.csv* to dataframe variable named *test_set1*. This is first independent test dataset. \n",
    "* *2020-03-14-16-45-35.csv* to dataframe variable named *test_set2*. This is the second independent test dataset."
   ]
  },
  {
   "cell_type": "code",
   "execution_count": 2,
   "metadata": {},
   "outputs": [],
   "source": [
    "# (2 marks)\n",
    "# TODO: Load cross validation/training dataset (UrbanNav-HK_Whampoa-20210521_sensors.csv) to 'cv_set' dataframe\n",
    "\n",
    "# uncomment and compelete below\n",
    "cv_set = pd.read_csv(\"UrbanNav-HK_Whampoa-20210521_sensors.csv\")\n",
    "\n",
    "# TODO: Load UrbanNav-HK_TST-20210517_sensors.csv to 'test_set1' dataframe\n",
    "test_set1 = pd.read_csv(\"UrbanNav-HK_TST-20210517_sensors.csv\")\n",
    "\n",
    "# TODO: Load 2020-03-14-16-45-35.csv to 'test_set2' dataframe\n",
    "test_set2 = pd.read_csv(\"2020-03-14-16-45-35.csv\")"
   ]
  },
  {
   "cell_type": "markdown",
   "metadata": {},
   "source": [
    "For the *cv_set*, look at the dataframe head and info, and print the list of all columns. The *test_set1* and *test_set2* have the same schema as *cv_set*, however, have different number of rows (samples). "
   ]
  },
  {
   "cell_type": "code",
   "execution_count": 3,
   "metadata": {},
   "outputs": [
    {
     "name": "stdout",
     "output_type": "stream",
     "text": [
      "     ax_sum    ay_sum    az_sum    gx_sum    gy_sum    gz_sum     a_sum  \\\n",
      "0 -0.003929 -0.093081  9.789349 -0.002649  0.001406 -0.001391  9.797418   \n",
      "1 -0.000966 -0.092417  9.789095 -0.001806  0.000103 -0.001943  9.798815   \n",
      "\n",
      "      g_sum        ax_var        ay_var  ...     g_min    ax_max    ay_max  \\\n",
      "0  0.022554  8.046094e-07  1.319665e-07  ...  0.000003  0.001496  0.000544   \n",
      "1  0.021731  1.032619e-06  1.073067e-07  ...  0.000006  0.001865  0.000615   \n",
      "\n",
      "     az_max    gx_max    gy_max    gz_max     a_max     g_max  motion_state  \n",
      "0  0.024992  0.000110  0.000075  0.000078  0.024997  0.000187          rest  \n",
      "1  0.024828  0.000124  0.000098  0.000090  0.024829  0.000144          rest  \n",
      "\n",
      "[2 rows x 33 columns]\n"
     ]
    }
   ],
   "source": [
    "# TODO: Display first two rows of cv_set \n",
    "# (1 mark)\n",
    "print(cv_set.head(2))"
   ]
  },
  {
   "cell_type": "code",
   "execution_count": 4,
   "metadata": {},
   "outputs": [
    {
     "name": "stdout",
     "output_type": "stream",
     "text": [
      "<class 'pandas.core.frame.DataFrame'>\n",
      "RangeIndex: 1534 entries, 0 to 1533\n",
      "Data columns (total 33 columns):\n",
      " #   Column        Non-Null Count  Dtype  \n",
      "---  ------        --------------  -----  \n",
      " 0   ax_sum        1534 non-null   float64\n",
      " 1   ay_sum        1534 non-null   float64\n",
      " 2   az_sum        1534 non-null   float64\n",
      " 3   gx_sum        1534 non-null   float64\n",
      " 4   gy_sum        1534 non-null   float64\n",
      " 5   gz_sum        1534 non-null   float64\n",
      " 6   a_sum         1534 non-null   float64\n",
      " 7   g_sum         1534 non-null   float64\n",
      " 8   ax_var        1534 non-null   float64\n",
      " 9   ay_var        1534 non-null   float64\n",
      " 10  az_var        1534 non-null   float64\n",
      " 11  gx_var        1534 non-null   float64\n",
      " 12  gy_var        1534 non-null   float64\n",
      " 13  gz_var        1534 non-null   float64\n",
      " 14  a_var         1534 non-null   float64\n",
      " 15  g_var         1534 non-null   float64\n",
      " 16  ax_min        1534 non-null   float64\n",
      " 17  ay_min        1534 non-null   float64\n",
      " 18  az_min        1534 non-null   float64\n",
      " 19  gx_min        1534 non-null   float64\n",
      " 20  gy_min        1534 non-null   float64\n",
      " 21  gz_min        1534 non-null   float64\n",
      " 22  a_min         1534 non-null   float64\n",
      " 23  g_min         1534 non-null   float64\n",
      " 24  ax_max        1534 non-null   float64\n",
      " 25  ay_max        1534 non-null   float64\n",
      " 26  az_max        1534 non-null   float64\n",
      " 27  gx_max        1534 non-null   float64\n",
      " 28  gy_max        1534 non-null   float64\n",
      " 29  gz_max        1534 non-null   float64\n",
      " 30  a_max         1534 non-null   float64\n",
      " 31  g_max         1534 non-null   float64\n",
      " 32  motion_state  1534 non-null   object \n",
      "dtypes: float64(32), object(1)\n",
      "memory usage: 395.6+ KB\n"
     ]
    }
   ],
   "source": [
    "# TODO: Load the info method of cv_set\n",
    "# (1 mark)\n",
    "cv_set.info()"
   ]
  },
  {
   "cell_type": "code",
   "execution_count": 5,
   "metadata": {},
   "outputs": [
    {
     "name": "stdout",
     "output_type": "stream",
     "text": [
      "'cv_set' has 1534 rows and 33 columns\n",
      "'test_set1' has 783 rows and 33 columns\n",
      "'test_set2' has 297 rows and 33 columns\n"
     ]
    }
   ],
   "source": [
    "# TODO: Display the number of rows and columns  of all three datasets\n",
    "# (1 mark)\n",
    "print(f\"'cv_set' has {cv_set.shape[0]} rows and {cv_set.shape[1]} columns\")\n",
    "print(f\"'test_set1' has {test_set1.shape[0]} rows and {test_set1.shape[1]} columns\")\n",
    "print(f\"'test_set2' has {test_set2.shape[0]} rows and {test_set2.shape[1]} columns\")"
   ]
  },
  {
   "cell_type": "code",
   "execution_count": 6,
   "metadata": {},
   "outputs": [
    {
     "name": "stdout",
     "output_type": "stream",
     "text": [
      "['ax_sum', 'ay_sum', 'az_sum', 'gx_sum', 'gy_sum', 'gz_sum', 'a_sum', 'g_sum', 'ax_var', 'ay_var', 'az_var', 'gx_var', 'gy_var', 'gz_var', 'a_var', 'g_var', 'ax_min', 'ay_min', 'az_min', 'gx_min', 'gy_min', 'gz_min', 'a_min', 'g_min', 'ax_max', 'ay_max', 'az_max', 'gx_max', 'gy_max', 'gz_max', 'a_max', 'g_max', 'motion_state']\n"
     ]
    }
   ],
   "source": [
    "# TODO: Display all columns in cv_set \n",
    "# (1 mark)\n",
    "print(cv_set.columns.tolist())"
   ]
  },
  {
   "cell_type": "markdown",
   "metadata": {},
   "source": [
    "In all three dataframes, target vector is stored in the *motion_state* column. All other columns are features. "
   ]
  },
  {
   "cell_type": "markdown",
   "metadata": {},
   "source": [
    "___"
   ]
  },
  {
   "cell_type": "markdown",
   "metadata": {},
   "source": [
    "### 1.2 - Grid Search with Cross Validation (18 Marks)"
   ]
  },
  {
   "cell_type": "markdown",
   "metadata": {},
   "source": [
    "___"
   ]
  },
  {
   "cell_type": "markdown",
   "metadata": {},
   "source": [
    "#### 1.2.1 - Extract all features and target from cv_set"
   ]
  },
  {
   "cell_type": "markdown",
   "metadata": {},
   "source": [
    "___"
   ]
  },
  {
   "cell_type": "markdown",
   "metadata": {},
   "source": [
    "From the *cv_set*, load the target vector stored in the *motion_state* column into a new variable *y* "
   ]
  },
  {
   "cell_type": "code",
   "execution_count": 7,
   "metadata": {},
   "outputs": [],
   "source": [
    "# TODO - Load target vector into y\n",
    "# (1 mark) \n",
    "y = cv_set['motion_state']"
   ]
  },
  {
   "cell_type": "markdown",
   "metadata": {},
   "source": [
    "From *cv_set*, load all features, that is all columns except for the target vector, in a new dataframe variable *X*"
   ]
  },
  {
   "cell_type": "code",
   "execution_count": 8,
   "metadata": {},
   "outputs": [
    {
     "data": {
      "text/html": [
       "<div>\n",
       "<style scoped>\n",
       "    .dataframe tbody tr th:only-of-type {\n",
       "        vertical-align: middle;\n",
       "    }\n",
       "\n",
       "    .dataframe tbody tr th {\n",
       "        vertical-align: top;\n",
       "    }\n",
       "\n",
       "    .dataframe thead th {\n",
       "        text-align: right;\n",
       "    }\n",
       "</style>\n",
       "<table border=\"1\" class=\"dataframe\">\n",
       "  <thead>\n",
       "    <tr style=\"text-align: right;\">\n",
       "      <th></th>\n",
       "      <th>ax_sum</th>\n",
       "      <th>ay_sum</th>\n",
       "      <th>az_sum</th>\n",
       "      <th>gx_sum</th>\n",
       "      <th>gy_sum</th>\n",
       "      <th>gz_sum</th>\n",
       "      <th>a_sum</th>\n",
       "      <th>g_sum</th>\n",
       "      <th>ax_var</th>\n",
       "      <th>ay_var</th>\n",
       "      <th>...</th>\n",
       "      <th>a_min</th>\n",
       "      <th>g_min</th>\n",
       "      <th>ax_max</th>\n",
       "      <th>ay_max</th>\n",
       "      <th>az_max</th>\n",
       "      <th>gx_max</th>\n",
       "      <th>gy_max</th>\n",
       "      <th>gz_max</th>\n",
       "      <th>a_max</th>\n",
       "      <th>g_max</th>\n",
       "    </tr>\n",
       "  </thead>\n",
       "  <tbody>\n",
       "    <tr>\n",
       "      <th>0</th>\n",
       "      <td>-0.003929</td>\n",
       "      <td>-0.093081</td>\n",
       "      <td>9.789349</td>\n",
       "      <td>-0.002649</td>\n",
       "      <td>0.001406</td>\n",
       "      <td>-0.001391</td>\n",
       "      <td>9.797418</td>\n",
       "      <td>0.022554</td>\n",
       "      <td>8.046094e-07</td>\n",
       "      <td>1.319665e-07</td>\n",
       "      <td>...</td>\n",
       "      <td>0.023871</td>\n",
       "      <td>0.000003</td>\n",
       "      <td>0.001496</td>\n",
       "      <td>0.000544</td>\n",
       "      <td>0.024992</td>\n",
       "      <td>0.000110</td>\n",
       "      <td>0.000075</td>\n",
       "      <td>0.000078</td>\n",
       "      <td>0.024997</td>\n",
       "      <td>0.000187</td>\n",
       "    </tr>\n",
       "    <tr>\n",
       "      <th>1</th>\n",
       "      <td>-0.000966</td>\n",
       "      <td>-0.092417</td>\n",
       "      <td>9.789095</td>\n",
       "      <td>-0.001806</td>\n",
       "      <td>0.000103</td>\n",
       "      <td>-0.001943</td>\n",
       "      <td>9.798815</td>\n",
       "      <td>0.021731</td>\n",
       "      <td>1.032619e-06</td>\n",
       "      <td>1.073067e-07</td>\n",
       "      <td>...</td>\n",
       "      <td>0.024153</td>\n",
       "      <td>0.000006</td>\n",
       "      <td>0.001865</td>\n",
       "      <td>0.000615</td>\n",
       "      <td>0.024828</td>\n",
       "      <td>0.000124</td>\n",
       "      <td>0.000098</td>\n",
       "      <td>0.000090</td>\n",
       "      <td>0.024829</td>\n",
       "      <td>0.000144</td>\n",
       "    </tr>\n",
       "  </tbody>\n",
       "</table>\n",
       "<p>2 rows × 32 columns</p>\n",
       "</div>"
      ],
      "text/plain": [
       "     ax_sum    ay_sum    az_sum    gx_sum    gy_sum    gz_sum     a_sum  \\\n",
       "0 -0.003929 -0.093081  9.789349 -0.002649  0.001406 -0.001391  9.797418   \n",
       "1 -0.000966 -0.092417  9.789095 -0.001806  0.000103 -0.001943  9.798815   \n",
       "\n",
       "      g_sum        ax_var        ay_var  ...     a_min     g_min    ax_max  \\\n",
       "0  0.022554  8.046094e-07  1.319665e-07  ...  0.023871  0.000003  0.001496   \n",
       "1  0.021731  1.032619e-06  1.073067e-07  ...  0.024153  0.000006  0.001865   \n",
       "\n",
       "     ay_max    az_max    gx_max    gy_max    gz_max     a_max     g_max  \n",
       "0  0.000544  0.024992  0.000110  0.000075  0.000078  0.024997  0.000187  \n",
       "1  0.000615  0.024828  0.000124  0.000098  0.000090  0.024829  0.000144  \n",
       "\n",
       "[2 rows x 32 columns]"
      ]
     },
     "execution_count": 8,
     "metadata": {},
     "output_type": "execute_result"
    }
   ],
   "source": [
    "# TODO - Load all features from cv_set to X\n",
    "# (2 marks)\n",
    "X = cv_set.drop(columns=['motion_state'])\n",
    "X.head(2)"
   ]
  },
  {
   "cell_type": "markdown",
   "metadata": {},
   "source": [
    "___"
   ]
  },
  {
   "cell_type": "markdown",
   "metadata": {},
   "source": [
    "#### 1.2.2 - Configure and Perform Grid Search with Cross-Validation"
   ]
  },
  {
   "cell_type": "markdown",
   "metadata": {},
   "source": [
    "___"
   ]
  },
  {
   "cell_type": "code",
   "execution_count": 9,
   "metadata": {},
   "outputs": [],
   "source": [
    "from sklearn.pipeline import Pipeline\n",
    "from sklearn.model_selection import train_test_split\n",
    "from sklearn.svm import SVC\n",
    "from sklearn.preprocessing import StandardScaler, RobustScaler, MinMaxScaler, Normalizer\n",
    "from sklearn.model_selection import GridSearchCV"
   ]
  },
  {
   "cell_type": "markdown",
   "metadata": {},
   "source": [
    "The dataset *(X, y)*, must be split into training/validation *(X_train, y_train)* and testing *(X_test, y_test)* sets. Use the `train_test_split` function from sklearn to create the split, where  **30%** of data is used for testing. Set the `random_state=42`, and `stratify=y`.  "
   ]
  },
  {
   "cell_type": "code",
   "execution_count": 10,
   "metadata": {},
   "outputs": [
    {
     "name": "stdout",
     "output_type": "stream",
     "text": [
      "Training set: 1073 samples, Testing set: 461 samples\n"
     ]
    }
   ],
   "source": [
    "# TODO - Perform test/train split \n",
    "# (1 mark)\n",
    "X_train, X_test, y_train, y_test = train_test_split(\n",
    "    X, y, test_size=0.30, random_state=42, stratify=y\n",
    ")\n",
    "print(f\"Training set: {X_train.shape[0]} samples, Testing set: {X_test.shape[0]} samples\")"
   ]
  },
  {
   "cell_type": "markdown",
   "metadata": {},
   "source": [
    "Initialize a `Pipeline`, consisting of a *scaler* and a *classifer*, set the default values to *StandardScaler()*, and *SVC()*, respectively. "
   ]
  },
  {
   "cell_type": "code",
   "execution_count": 11,
   "metadata": {},
   "outputs": [],
   "source": [
    "# TODO - Initialize Pipeline into variable pipe\n",
    "# (2 marks)\n",
    "pipe = Pipeline([\n",
    "    ('scaler', StandardScaler()),\n",
    "    ('classifier', SVC())\n",
    "])"
   ]
  },
  {
   "cell_type": "markdown",
   "metadata": {},
   "source": [
    "Define the grid search configuration (*param_grid*) for training and hyper parameter tuning of the *support vector classifier*. Tune, the hyper-parameter *C*, over the interval `C=[0.01, 0.1, 1 ,10,100]`, *gamma*, over the interval `gamma=[0.001, 0.01, 0.1,1]`, and use the *radial basis function* as the kernel. For the *scaler* parameter, test with the `StandardScaler`, `RobustScaler`, and `None` options. "
   ]
  },
  {
   "cell_type": "code",
   "execution_count": 12,
   "metadata": {},
   "outputs": [],
   "source": [
    "# TODO - Setup grid set \n",
    "# (4 marks)\n",
    "\n",
    "param_grid = {\n",
    "    'scaler': [StandardScaler(), RobustScaler(), None],\n",
    "    'classifier__C': [0.01, 0.1, 1, 10, 100],\n",
    "    'classifier__gamma': [0.001, 0.01, 0.1, 1],\n",
    "    'classifier__kernel': ['rbf']  # Radial Basis Function\n",
    "}"
   ]
  },
  {
   "cell_type": "code",
   "execution_count": 13,
   "metadata": {},
   "outputs": [
    {
     "data": {
      "text/html": [
       "<style>#sk-container-id-1 {\n",
       "  /* Definition of color scheme common for light and dark mode */\n",
       "  --sklearn-color-text: black;\n",
       "  --sklearn-color-line: gray;\n",
       "  /* Definition of color scheme for unfitted estimators */\n",
       "  --sklearn-color-unfitted-level-0: #fff5e6;\n",
       "  --sklearn-color-unfitted-level-1: #f6e4d2;\n",
       "  --sklearn-color-unfitted-level-2: #ffe0b3;\n",
       "  --sklearn-color-unfitted-level-3: chocolate;\n",
       "  /* Definition of color scheme for fitted estimators */\n",
       "  --sklearn-color-fitted-level-0: #f0f8ff;\n",
       "  --sklearn-color-fitted-level-1: #d4ebff;\n",
       "  --sklearn-color-fitted-level-2: #b3dbfd;\n",
       "  --sklearn-color-fitted-level-3: cornflowerblue;\n",
       "\n",
       "  /* Specific color for light theme */\n",
       "  --sklearn-color-text-on-default-background: var(--sg-text-color, var(--theme-code-foreground, var(--jp-content-font-color1, black)));\n",
       "  --sklearn-color-background: var(--sg-background-color, var(--theme-background, var(--jp-layout-color0, white)));\n",
       "  --sklearn-color-border-box: var(--sg-text-color, var(--theme-code-foreground, var(--jp-content-font-color1, black)));\n",
       "  --sklearn-color-icon: #696969;\n",
       "\n",
       "  @media (prefers-color-scheme: dark) {\n",
       "    /* Redefinition of color scheme for dark theme */\n",
       "    --sklearn-color-text-on-default-background: var(--sg-text-color, var(--theme-code-foreground, var(--jp-content-font-color1, white)));\n",
       "    --sklearn-color-background: var(--sg-background-color, var(--theme-background, var(--jp-layout-color0, #111)));\n",
       "    --sklearn-color-border-box: var(--sg-text-color, var(--theme-code-foreground, var(--jp-content-font-color1, white)));\n",
       "    --sklearn-color-icon: #878787;\n",
       "  }\n",
       "}\n",
       "\n",
       "#sk-container-id-1 {\n",
       "  color: var(--sklearn-color-text);\n",
       "}\n",
       "\n",
       "#sk-container-id-1 pre {\n",
       "  padding: 0;\n",
       "}\n",
       "\n",
       "#sk-container-id-1 input.sk-hidden--visually {\n",
       "  border: 0;\n",
       "  clip: rect(1px 1px 1px 1px);\n",
       "  clip: rect(1px, 1px, 1px, 1px);\n",
       "  height: 1px;\n",
       "  margin: -1px;\n",
       "  overflow: hidden;\n",
       "  padding: 0;\n",
       "  position: absolute;\n",
       "  width: 1px;\n",
       "}\n",
       "\n",
       "#sk-container-id-1 div.sk-dashed-wrapped {\n",
       "  border: 1px dashed var(--sklearn-color-line);\n",
       "  margin: 0 0.4em 0.5em 0.4em;\n",
       "  box-sizing: border-box;\n",
       "  padding-bottom: 0.4em;\n",
       "  background-color: var(--sklearn-color-background);\n",
       "}\n",
       "\n",
       "#sk-container-id-1 div.sk-container {\n",
       "  /* jupyter's `normalize.less` sets `[hidden] { display: none; }`\n",
       "     but bootstrap.min.css set `[hidden] { display: none !important; }`\n",
       "     so we also need the `!important` here to be able to override the\n",
       "     default hidden behavior on the sphinx rendered scikit-learn.org.\n",
       "     See: https://github.com/scikit-learn/scikit-learn/issues/21755 */\n",
       "  display: inline-block !important;\n",
       "  position: relative;\n",
       "}\n",
       "\n",
       "#sk-container-id-1 div.sk-text-repr-fallback {\n",
       "  display: none;\n",
       "}\n",
       "\n",
       "div.sk-parallel-item,\n",
       "div.sk-serial,\n",
       "div.sk-item {\n",
       "  /* draw centered vertical line to link estimators */\n",
       "  background-image: linear-gradient(var(--sklearn-color-text-on-default-background), var(--sklearn-color-text-on-default-background));\n",
       "  background-size: 2px 100%;\n",
       "  background-repeat: no-repeat;\n",
       "  background-position: center center;\n",
       "}\n",
       "\n",
       "/* Parallel-specific style estimator block */\n",
       "\n",
       "#sk-container-id-1 div.sk-parallel-item::after {\n",
       "  content: \"\";\n",
       "  width: 100%;\n",
       "  border-bottom: 2px solid var(--sklearn-color-text-on-default-background);\n",
       "  flex-grow: 1;\n",
       "}\n",
       "\n",
       "#sk-container-id-1 div.sk-parallel {\n",
       "  display: flex;\n",
       "  align-items: stretch;\n",
       "  justify-content: center;\n",
       "  background-color: var(--sklearn-color-background);\n",
       "  position: relative;\n",
       "}\n",
       "\n",
       "#sk-container-id-1 div.sk-parallel-item {\n",
       "  display: flex;\n",
       "  flex-direction: column;\n",
       "}\n",
       "\n",
       "#sk-container-id-1 div.sk-parallel-item:first-child::after {\n",
       "  align-self: flex-end;\n",
       "  width: 50%;\n",
       "}\n",
       "\n",
       "#sk-container-id-1 div.sk-parallel-item:last-child::after {\n",
       "  align-self: flex-start;\n",
       "  width: 50%;\n",
       "}\n",
       "\n",
       "#sk-container-id-1 div.sk-parallel-item:only-child::after {\n",
       "  width: 0;\n",
       "}\n",
       "\n",
       "/* Serial-specific style estimator block */\n",
       "\n",
       "#sk-container-id-1 div.sk-serial {\n",
       "  display: flex;\n",
       "  flex-direction: column;\n",
       "  align-items: center;\n",
       "  background-color: var(--sklearn-color-background);\n",
       "  padding-right: 1em;\n",
       "  padding-left: 1em;\n",
       "}\n",
       "\n",
       "\n",
       "/* Toggleable style: style used for estimator/Pipeline/ColumnTransformer box that is\n",
       "clickable and can be expanded/collapsed.\n",
       "- Pipeline and ColumnTransformer use this feature and define the default style\n",
       "- Estimators will overwrite some part of the style using the `sk-estimator` class\n",
       "*/\n",
       "\n",
       "/* Pipeline and ColumnTransformer style (default) */\n",
       "\n",
       "#sk-container-id-1 div.sk-toggleable {\n",
       "  /* Default theme specific background. It is overwritten whether we have a\n",
       "  specific estimator or a Pipeline/ColumnTransformer */\n",
       "  background-color: var(--sklearn-color-background);\n",
       "}\n",
       "\n",
       "/* Toggleable label */\n",
       "#sk-container-id-1 label.sk-toggleable__label {\n",
       "  cursor: pointer;\n",
       "  display: block;\n",
       "  width: 100%;\n",
       "  margin-bottom: 0;\n",
       "  padding: 0.5em;\n",
       "  box-sizing: border-box;\n",
       "  text-align: center;\n",
       "}\n",
       "\n",
       "#sk-container-id-1 label.sk-toggleable__label-arrow:before {\n",
       "  /* Arrow on the left of the label */\n",
       "  content: \"▸\";\n",
       "  float: left;\n",
       "  margin-right: 0.25em;\n",
       "  color: var(--sklearn-color-icon);\n",
       "}\n",
       "\n",
       "#sk-container-id-1 label.sk-toggleable__label-arrow:hover:before {\n",
       "  color: var(--sklearn-color-text);\n",
       "}\n",
       "\n",
       "/* Toggleable content - dropdown */\n",
       "\n",
       "#sk-container-id-1 div.sk-toggleable__content {\n",
       "  max-height: 0;\n",
       "  max-width: 0;\n",
       "  overflow: hidden;\n",
       "  text-align: left;\n",
       "  /* unfitted */\n",
       "  background-color: var(--sklearn-color-unfitted-level-0);\n",
       "}\n",
       "\n",
       "#sk-container-id-1 div.sk-toggleable__content.fitted {\n",
       "  /* fitted */\n",
       "  background-color: var(--sklearn-color-fitted-level-0);\n",
       "}\n",
       "\n",
       "#sk-container-id-1 div.sk-toggleable__content pre {\n",
       "  margin: 0.2em;\n",
       "  border-radius: 0.25em;\n",
       "  color: var(--sklearn-color-text);\n",
       "  /* unfitted */\n",
       "  background-color: var(--sklearn-color-unfitted-level-0);\n",
       "}\n",
       "\n",
       "#sk-container-id-1 div.sk-toggleable__content.fitted pre {\n",
       "  /* unfitted */\n",
       "  background-color: var(--sklearn-color-fitted-level-0);\n",
       "}\n",
       "\n",
       "#sk-container-id-1 input.sk-toggleable__control:checked~div.sk-toggleable__content {\n",
       "  /* Expand drop-down */\n",
       "  max-height: 200px;\n",
       "  max-width: 100%;\n",
       "  overflow: auto;\n",
       "}\n",
       "\n",
       "#sk-container-id-1 input.sk-toggleable__control:checked~label.sk-toggleable__label-arrow:before {\n",
       "  content: \"▾\";\n",
       "}\n",
       "\n",
       "/* Pipeline/ColumnTransformer-specific style */\n",
       "\n",
       "#sk-container-id-1 div.sk-label input.sk-toggleable__control:checked~label.sk-toggleable__label {\n",
       "  color: var(--sklearn-color-text);\n",
       "  background-color: var(--sklearn-color-unfitted-level-2);\n",
       "}\n",
       "\n",
       "#sk-container-id-1 div.sk-label.fitted input.sk-toggleable__control:checked~label.sk-toggleable__label {\n",
       "  background-color: var(--sklearn-color-fitted-level-2);\n",
       "}\n",
       "\n",
       "/* Estimator-specific style */\n",
       "\n",
       "/* Colorize estimator box */\n",
       "#sk-container-id-1 div.sk-estimator input.sk-toggleable__control:checked~label.sk-toggleable__label {\n",
       "  /* unfitted */\n",
       "  background-color: var(--sklearn-color-unfitted-level-2);\n",
       "}\n",
       "\n",
       "#sk-container-id-1 div.sk-estimator.fitted input.sk-toggleable__control:checked~label.sk-toggleable__label {\n",
       "  /* fitted */\n",
       "  background-color: var(--sklearn-color-fitted-level-2);\n",
       "}\n",
       "\n",
       "#sk-container-id-1 div.sk-label label.sk-toggleable__label,\n",
       "#sk-container-id-1 div.sk-label label {\n",
       "  /* The background is the default theme color */\n",
       "  color: var(--sklearn-color-text-on-default-background);\n",
       "}\n",
       "\n",
       "/* On hover, darken the color of the background */\n",
       "#sk-container-id-1 div.sk-label:hover label.sk-toggleable__label {\n",
       "  color: var(--sklearn-color-text);\n",
       "  background-color: var(--sklearn-color-unfitted-level-2);\n",
       "}\n",
       "\n",
       "/* Label box, darken color on hover, fitted */\n",
       "#sk-container-id-1 div.sk-label.fitted:hover label.sk-toggleable__label.fitted {\n",
       "  color: var(--sklearn-color-text);\n",
       "  background-color: var(--sklearn-color-fitted-level-2);\n",
       "}\n",
       "\n",
       "/* Estimator label */\n",
       "\n",
       "#sk-container-id-1 div.sk-label label {\n",
       "  font-family: monospace;\n",
       "  font-weight: bold;\n",
       "  display: inline-block;\n",
       "  line-height: 1.2em;\n",
       "}\n",
       "\n",
       "#sk-container-id-1 div.sk-label-container {\n",
       "  text-align: center;\n",
       "}\n",
       "\n",
       "/* Estimator-specific */\n",
       "#sk-container-id-1 div.sk-estimator {\n",
       "  font-family: monospace;\n",
       "  border: 1px dotted var(--sklearn-color-border-box);\n",
       "  border-radius: 0.25em;\n",
       "  box-sizing: border-box;\n",
       "  margin-bottom: 0.5em;\n",
       "  /* unfitted */\n",
       "  background-color: var(--sklearn-color-unfitted-level-0);\n",
       "}\n",
       "\n",
       "#sk-container-id-1 div.sk-estimator.fitted {\n",
       "  /* fitted */\n",
       "  background-color: var(--sklearn-color-fitted-level-0);\n",
       "}\n",
       "\n",
       "/* on hover */\n",
       "#sk-container-id-1 div.sk-estimator:hover {\n",
       "  /* unfitted */\n",
       "  background-color: var(--sklearn-color-unfitted-level-2);\n",
       "}\n",
       "\n",
       "#sk-container-id-1 div.sk-estimator.fitted:hover {\n",
       "  /* fitted */\n",
       "  background-color: var(--sklearn-color-fitted-level-2);\n",
       "}\n",
       "\n",
       "/* Specification for estimator info (e.g. \"i\" and \"?\") */\n",
       "\n",
       "/* Common style for \"i\" and \"?\" */\n",
       "\n",
       ".sk-estimator-doc-link,\n",
       "a:link.sk-estimator-doc-link,\n",
       "a:visited.sk-estimator-doc-link {\n",
       "  float: right;\n",
       "  font-size: smaller;\n",
       "  line-height: 1em;\n",
       "  font-family: monospace;\n",
       "  background-color: var(--sklearn-color-background);\n",
       "  border-radius: 1em;\n",
       "  height: 1em;\n",
       "  width: 1em;\n",
       "  text-decoration: none !important;\n",
       "  margin-left: 1ex;\n",
       "  /* unfitted */\n",
       "  border: var(--sklearn-color-unfitted-level-1) 1pt solid;\n",
       "  color: var(--sklearn-color-unfitted-level-1);\n",
       "}\n",
       "\n",
       ".sk-estimator-doc-link.fitted,\n",
       "a:link.sk-estimator-doc-link.fitted,\n",
       "a:visited.sk-estimator-doc-link.fitted {\n",
       "  /* fitted */\n",
       "  border: var(--sklearn-color-fitted-level-1) 1pt solid;\n",
       "  color: var(--sklearn-color-fitted-level-1);\n",
       "}\n",
       "\n",
       "/* On hover */\n",
       "div.sk-estimator:hover .sk-estimator-doc-link:hover,\n",
       ".sk-estimator-doc-link:hover,\n",
       "div.sk-label-container:hover .sk-estimator-doc-link:hover,\n",
       ".sk-estimator-doc-link:hover {\n",
       "  /* unfitted */\n",
       "  background-color: var(--sklearn-color-unfitted-level-3);\n",
       "  color: var(--sklearn-color-background);\n",
       "  text-decoration: none;\n",
       "}\n",
       "\n",
       "div.sk-estimator.fitted:hover .sk-estimator-doc-link.fitted:hover,\n",
       ".sk-estimator-doc-link.fitted:hover,\n",
       "div.sk-label-container:hover .sk-estimator-doc-link.fitted:hover,\n",
       ".sk-estimator-doc-link.fitted:hover {\n",
       "  /* fitted */\n",
       "  background-color: var(--sklearn-color-fitted-level-3);\n",
       "  color: var(--sklearn-color-background);\n",
       "  text-decoration: none;\n",
       "}\n",
       "\n",
       "/* Span, style for the box shown on hovering the info icon */\n",
       ".sk-estimator-doc-link span {\n",
       "  display: none;\n",
       "  z-index: 9999;\n",
       "  position: relative;\n",
       "  font-weight: normal;\n",
       "  right: .2ex;\n",
       "  padding: .5ex;\n",
       "  margin: .5ex;\n",
       "  width: min-content;\n",
       "  min-width: 20ex;\n",
       "  max-width: 50ex;\n",
       "  color: var(--sklearn-color-text);\n",
       "  box-shadow: 2pt 2pt 4pt #999;\n",
       "  /* unfitted */\n",
       "  background: var(--sklearn-color-unfitted-level-0);\n",
       "  border: .5pt solid var(--sklearn-color-unfitted-level-3);\n",
       "}\n",
       "\n",
       ".sk-estimator-doc-link.fitted span {\n",
       "  /* fitted */\n",
       "  background: var(--sklearn-color-fitted-level-0);\n",
       "  border: var(--sklearn-color-fitted-level-3);\n",
       "}\n",
       "\n",
       ".sk-estimator-doc-link:hover span {\n",
       "  display: block;\n",
       "}\n",
       "\n",
       "/* \"?\"-specific style due to the `<a>` HTML tag */\n",
       "\n",
       "#sk-container-id-1 a.estimator_doc_link {\n",
       "  float: right;\n",
       "  font-size: 1rem;\n",
       "  line-height: 1em;\n",
       "  font-family: monospace;\n",
       "  background-color: var(--sklearn-color-background);\n",
       "  border-radius: 1rem;\n",
       "  height: 1rem;\n",
       "  width: 1rem;\n",
       "  text-decoration: none;\n",
       "  /* unfitted */\n",
       "  color: var(--sklearn-color-unfitted-level-1);\n",
       "  border: var(--sklearn-color-unfitted-level-1) 1pt solid;\n",
       "}\n",
       "\n",
       "#sk-container-id-1 a.estimator_doc_link.fitted {\n",
       "  /* fitted */\n",
       "  border: var(--sklearn-color-fitted-level-1) 1pt solid;\n",
       "  color: var(--sklearn-color-fitted-level-1);\n",
       "}\n",
       "\n",
       "/* On hover */\n",
       "#sk-container-id-1 a.estimator_doc_link:hover {\n",
       "  /* unfitted */\n",
       "  background-color: var(--sklearn-color-unfitted-level-3);\n",
       "  color: var(--sklearn-color-background);\n",
       "  text-decoration: none;\n",
       "}\n",
       "\n",
       "#sk-container-id-1 a.estimator_doc_link.fitted:hover {\n",
       "  /* fitted */\n",
       "  background-color: var(--sklearn-color-fitted-level-3);\n",
       "}\n",
       "</style><div id=\"sk-container-id-1\" class=\"sk-top-container\"><div class=\"sk-text-repr-fallback\"><pre>GridSearchCV(cv=5,\n",
       "             estimator=Pipeline(steps=[(&#x27;scaler&#x27;, StandardScaler()),\n",
       "                                       (&#x27;classifier&#x27;, SVC())]),\n",
       "             param_grid={&#x27;classifier__C&#x27;: [0.01, 0.1, 1, 10, 100],\n",
       "                         &#x27;classifier__gamma&#x27;: [0.001, 0.01, 0.1, 1],\n",
       "                         &#x27;classifier__kernel&#x27;: [&#x27;rbf&#x27;],\n",
       "                         &#x27;scaler&#x27;: [StandardScaler(), RobustScaler(), None]},\n",
       "             return_train_score=True, scoring=&#x27;accuracy&#x27;)</pre><b>In a Jupyter environment, please rerun this cell to show the HTML representation or trust the notebook. <br />On GitHub, the HTML representation is unable to render, please try loading this page with nbviewer.org.</b></div><div class=\"sk-container\" hidden><div class=\"sk-item sk-dashed-wrapped\"><div class=\"sk-label-container\"><div class=\"sk-label fitted sk-toggleable\"><input class=\"sk-toggleable__control sk-hidden--visually\" id=\"sk-estimator-id-1\" type=\"checkbox\" ><label for=\"sk-estimator-id-1\" class=\"sk-toggleable__label fitted sk-toggleable__label-arrow fitted\">&nbsp;&nbsp;GridSearchCV<a class=\"sk-estimator-doc-link fitted\" rel=\"noreferrer\" target=\"_blank\" href=\"https://scikit-learn.org/1.5/modules/generated/sklearn.model_selection.GridSearchCV.html\">?<span>Documentation for GridSearchCV</span></a><span class=\"sk-estimator-doc-link fitted\">i<span>Fitted</span></span></label><div class=\"sk-toggleable__content fitted\"><pre>GridSearchCV(cv=5,\n",
       "             estimator=Pipeline(steps=[(&#x27;scaler&#x27;, StandardScaler()),\n",
       "                                       (&#x27;classifier&#x27;, SVC())]),\n",
       "             param_grid={&#x27;classifier__C&#x27;: [0.01, 0.1, 1, 10, 100],\n",
       "                         &#x27;classifier__gamma&#x27;: [0.001, 0.01, 0.1, 1],\n",
       "                         &#x27;classifier__kernel&#x27;: [&#x27;rbf&#x27;],\n",
       "                         &#x27;scaler&#x27;: [StandardScaler(), RobustScaler(), None]},\n",
       "             return_train_score=True, scoring=&#x27;accuracy&#x27;)</pre></div> </div></div><div class=\"sk-parallel\"><div class=\"sk-parallel-item\"><div class=\"sk-item\"><div class=\"sk-label-container\"><div class=\"sk-label fitted sk-toggleable\"><input class=\"sk-toggleable__control sk-hidden--visually\" id=\"sk-estimator-id-2\" type=\"checkbox\" ><label for=\"sk-estimator-id-2\" class=\"sk-toggleable__label fitted sk-toggleable__label-arrow fitted\">best_estimator_: Pipeline</label><div class=\"sk-toggleable__content fitted\"><pre>Pipeline(steps=[(&#x27;scaler&#x27;, RobustScaler()),\n",
       "                (&#x27;classifier&#x27;, SVC(C=100, gamma=0.01))])</pre></div> </div></div><div class=\"sk-serial\"><div class=\"sk-item\"><div class=\"sk-serial\"><div class=\"sk-item\"><div class=\"sk-estimator fitted sk-toggleable\"><input class=\"sk-toggleable__control sk-hidden--visually\" id=\"sk-estimator-id-3\" type=\"checkbox\" ><label for=\"sk-estimator-id-3\" class=\"sk-toggleable__label fitted sk-toggleable__label-arrow fitted\">&nbsp;RobustScaler<a class=\"sk-estimator-doc-link fitted\" rel=\"noreferrer\" target=\"_blank\" href=\"https://scikit-learn.org/1.5/modules/generated/sklearn.preprocessing.RobustScaler.html\">?<span>Documentation for RobustScaler</span></a></label><div class=\"sk-toggleable__content fitted\"><pre>RobustScaler()</pre></div> </div></div><div class=\"sk-item\"><div class=\"sk-estimator fitted sk-toggleable\"><input class=\"sk-toggleable__control sk-hidden--visually\" id=\"sk-estimator-id-4\" type=\"checkbox\" ><label for=\"sk-estimator-id-4\" class=\"sk-toggleable__label fitted sk-toggleable__label-arrow fitted\">&nbsp;SVC<a class=\"sk-estimator-doc-link fitted\" rel=\"noreferrer\" target=\"_blank\" href=\"https://scikit-learn.org/1.5/modules/generated/sklearn.svm.SVC.html\">?<span>Documentation for SVC</span></a></label><div class=\"sk-toggleable__content fitted\"><pre>SVC(C=100, gamma=0.01)</pre></div> </div></div></div></div></div></div></div></div></div></div></div>"
      ],
      "text/plain": [
       "GridSearchCV(cv=5,\n",
       "             estimator=Pipeline(steps=[('scaler', StandardScaler()),\n",
       "                                       ('classifier', SVC())]),\n",
       "             param_grid={'classifier__C': [0.01, 0.1, 1, 10, 100],\n",
       "                         'classifier__gamma': [0.001, 0.01, 0.1, 1],\n",
       "                         'classifier__kernel': ['rbf'],\n",
       "                         'scaler': [StandardScaler(), RobustScaler(), None]},\n",
       "             return_train_score=True, scoring='accuracy')"
      ]
     },
     "execution_count": 13,
     "metadata": {},
     "output_type": "execute_result"
    }
   ],
   "source": [
    "# Perform the grid search to train model and tune hyper parameters\n",
    "grid = GridSearchCV(pipe, param_grid, cv=5, scoring='accuracy', return_train_score=True)\n",
    "grid.fit(X_train, y_train) "
   ]
  },
  {
   "cell_type": "markdown",
   "metadata": {},
   "source": [
    "___"
   ]
  },
  {
   "cell_type": "markdown",
   "metadata": {},
   "source": [
    "#### 1.2.3 - Visualize Grid Search Results"
   ]
  },
  {
   "cell_type": "markdown",
   "metadata": {},
   "source": [
    "___"
   ]
  },
  {
   "cell_type": "markdown",
   "metadata": {},
   "source": [
    "Print the results from the grid search. The following outputs must be printed.\n",
    "* Best parameter set\n",
    "* Best cross-validation train score\n",
    "* Best cross-validation test score\n",
    "* Test set accuracy"
   ]
  },
  {
   "cell_type": "code",
   "execution_count": 14,
   "metadata": {},
   "outputs": [
    {
     "name": "stdout",
     "output_type": "stream",
     "text": [
      "Best params:\n",
      "{'classifier__C': 100, 'classifier__gamma': 0.01, 'classifier__kernel': 'rbf', 'scaler': RobustScaler()}\n",
      "\n",
      "Best cross-validation train score: 1.00\n",
      "Best cross-validation validation score: 0.95\n",
      "Test-set score: 0.96\n"
     ]
    }
   ],
   "source": [
    "# TODO: Print the results from the grid search\n",
    "# (2 marks)\n",
    "\n",
    "from sklearn.metrics import accuracy_score\n",
    "\n",
    "print(\"Best params:\\n{}\\n\".format(grid.best_params_))\n",
    "print(\"Best cross-validation train score: {:.2f}\".format(max(grid.cv_results_['mean_train_score'])))\n",
    "print(\"Best cross-validation validation score: {:.2f}\".format(grid.best_score_))\n",
    "\n",
    "test_set_score = accuracy_score(y_test, grid.best_estimator_.predict(X_test))\n",
    "print(\"Test-set score: {:.2f}\".format(test_set_score))"
   ]
  },
  {
   "cell_type": "markdown",
   "metadata": {},
   "source": [
    "Display the confusion matrix and print the classification report for the trained model. Use the *(X_test, y_test)* dataset. **Hint** - You can use your code from assignment 3."
   ]
  },
  {
   "cell_type": "code",
   "execution_count": 15,
   "metadata": {},
   "outputs": [
    {
     "name": "stdout",
     "output_type": "stream",
     "text": [
      "\n",
      "Confusion Matrix:\n",
      "[[153   2   0]\n",
      " [ 10 192   5]\n",
      " [  0   3  96]]\n",
      "\n",
      "Classification Report:\n",
      "              precision    recall  f1-score   support\n",
      "\n",
      "        rest       0.94      0.99      0.96       155\n",
      "    straight       0.97      0.93      0.95       207\n",
      "        turn       0.95      0.97      0.96        99\n",
      "\n",
      "    accuracy                           0.96       461\n",
      "   macro avg       0.95      0.96      0.96       461\n",
      "weighted avg       0.96      0.96      0.96       461\n",
      "\n"
     ]
    }
   ],
   "source": [
    "# TODO - Display confusion matrix and print classification report for (X_test, y_test)\n",
    "# (2 marks)\n",
    "\n",
    "from sklearn.metrics import confusion_matrix, classification_report\n",
    "\n",
    "y_pred = grid.best_estimator_.predict(X_test)\n",
    "\n",
    "print(\"\\nConfusion Matrix:\")\n",
    "print(confusion_matrix(y_test, y_pred))\n",
    "\n",
    "print(\"\\nClassification Report:\")\n",
    "print(classification_report(y_test, y_pred))"
   ]
  },
  {
   "cell_type": "markdown",
   "metadata": {},
   "source": [
    "___"
   ]
  },
  {
   "cell_type": "markdown",
   "metadata": {},
   "source": [
    "#### 1.2.4 - Questions"
   ]
  },
  {
   "cell_type": "markdown",
   "metadata": {},
   "source": [
    "1. Comment on the fit of the model to the dataset? (2 marks)\n",
    "2. In the grid search, are the intervals used for *C* and *gamma* hyperparameters suitable? Why or why not? (2 marks)"
   ]
  },
  {
   "cell_type": "markdown",
   "metadata": {},
   "source": [
    "#### 1.2.4 - Answers\n",
    "1. The model fits the dataset very well, achieving high accuracy (96%) on the test set and strong cross-validation performance (95% validation score). The best cross-validation train score is 1.00, indicating the model fits the training data almost perfectly. The classification report shows balanced precision, recall, and F1-scores: high precision (0.94–0.97), recall (0.93–0.99), and F1-scores (0.95–0.96) across all motion states (rest, straight, turn). The confusion matrix shows low misclassification rates, for example there are only 10 \"straight\" samples misclassified as \"rest\". This indicates minimal misclassification, good generalization, and minimal overfitting.\n",
    "\n",
    "2. The intervals for C (0.01–100) and gamma (0.001–1) are suitable, as the grid search identified optimal parameters within these ranges (C=100 and gamma=0.01, both within the specified intervals). The chosen value of C (100) indicates the model prefers weaker regularization. The optimal value of gamma (0.01) suggests a moderate influence radius. Optimizing the ranges for these values could potentially further improve performance."
   ]
  },
  {
   "cell_type": "markdown",
   "metadata": {},
   "source": [
    "___"
   ]
  },
  {
   "cell_type": "markdown",
   "metadata": {},
   "source": [
    "### 1.3 - Model Evaluation on Test Datasets 1 and 2 (9 Marks)"
   ]
  },
  {
   "cell_type": "markdown",
   "metadata": {},
   "source": [
    "___"
   ]
  },
  {
   "cell_type": "markdown",
   "metadata": {},
   "source": [
    "#### 1.3.1 - Extract all features and targets from test datasets"
   ]
  },
  {
   "cell_type": "markdown",
   "metadata": {},
   "source": [
    "Next, the model trained in 1.2 will be tested on independent datasets, that is *test_set1* and *test_set2*. <br>\n",
    "The test_sets must be seperated into features (Xs) and targets (ys)."
   ]
  },
  {
   "cell_type": "code",
   "execution_count": 16,
   "metadata": {},
   "outputs": [
    {
     "data": {
      "text/html": [
       "<div>\n",
       "<style scoped>\n",
       "    .dataframe tbody tr th:only-of-type {\n",
       "        vertical-align: middle;\n",
       "    }\n",
       "\n",
       "    .dataframe tbody tr th {\n",
       "        vertical-align: top;\n",
       "    }\n",
       "\n",
       "    .dataframe thead th {\n",
       "        text-align: right;\n",
       "    }\n",
       "</style>\n",
       "<table border=\"1\" class=\"dataframe\">\n",
       "  <thead>\n",
       "    <tr style=\"text-align: right;\">\n",
       "      <th></th>\n",
       "      <th>ax_sum</th>\n",
       "      <th>ay_sum</th>\n",
       "      <th>az_sum</th>\n",
       "      <th>gx_sum</th>\n",
       "      <th>gy_sum</th>\n",
       "      <th>gz_sum</th>\n",
       "      <th>a_sum</th>\n",
       "      <th>g_sum</th>\n",
       "      <th>ax_var</th>\n",
       "      <th>ay_var</th>\n",
       "      <th>...</th>\n",
       "      <th>a_min</th>\n",
       "      <th>g_min</th>\n",
       "      <th>ax_max</th>\n",
       "      <th>ay_max</th>\n",
       "      <th>az_max</th>\n",
       "      <th>gx_max</th>\n",
       "      <th>gy_max</th>\n",
       "      <th>gz_max</th>\n",
       "      <th>a_max</th>\n",
       "      <th>g_max</th>\n",
       "    </tr>\n",
       "  </thead>\n",
       "  <tbody>\n",
       "    <tr>\n",
       "      <th>0</th>\n",
       "      <td>0.264465</td>\n",
       "      <td>0.089904</td>\n",
       "      <td>9.786930</td>\n",
       "      <td>-0.002305</td>\n",
       "      <td>0.000218</td>\n",
       "      <td>-0.001143</td>\n",
       "      <td>9.801661</td>\n",
       "      <td>0.025634</td>\n",
       "      <td>0.000001</td>\n",
       "      <td>7.749919e-08</td>\n",
       "      <td>...</td>\n",
       "      <td>0.024056</td>\n",
       "      <td>0.000003</td>\n",
       "      <td>0.002506</td>\n",
       "      <td>0.000845</td>\n",
       "      <td>0.024884</td>\n",
       "      <td>0.000155</td>\n",
       "      <td>0.000078</td>\n",
       "      <td>0.000069</td>\n",
       "      <td>0.024886</td>\n",
       "      <td>0.000170</td>\n",
       "    </tr>\n",
       "    <tr>\n",
       "      <th>1</th>\n",
       "      <td>0.264300</td>\n",
       "      <td>0.088882</td>\n",
       "      <td>9.788127</td>\n",
       "      <td>-0.001865</td>\n",
       "      <td>-0.000523</td>\n",
       "      <td>-0.001999</td>\n",
       "      <td>9.802481</td>\n",
       "      <td>0.025218</td>\n",
       "      <td>0.000001</td>\n",
       "      <td>9.243000e-08</td>\n",
       "      <td>...</td>\n",
       "      <td>0.024084</td>\n",
       "      <td>0.000007</td>\n",
       "      <td>0.002427</td>\n",
       "      <td>0.000949</td>\n",
       "      <td>0.024881</td>\n",
       "      <td>0.000201</td>\n",
       "      <td>0.000095</td>\n",
       "      <td>0.000076</td>\n",
       "      <td>0.024883</td>\n",
       "      <td>0.000201</td>\n",
       "    </tr>\n",
       "  </tbody>\n",
       "</table>\n",
       "<p>2 rows × 32 columns</p>\n",
       "</div>"
      ],
      "text/plain": [
       "     ax_sum    ay_sum    az_sum    gx_sum    gy_sum    gz_sum     a_sum  \\\n",
       "0  0.264465  0.089904  9.786930 -0.002305  0.000218 -0.001143  9.801661   \n",
       "1  0.264300  0.088882  9.788127 -0.001865 -0.000523 -0.001999  9.802481   \n",
       "\n",
       "      g_sum    ax_var        ay_var  ...     a_min     g_min    ax_max  \\\n",
       "0  0.025634  0.000001  7.749919e-08  ...  0.024056  0.000003  0.002506   \n",
       "1  0.025218  0.000001  9.243000e-08  ...  0.024084  0.000007  0.002427   \n",
       "\n",
       "     ay_max    az_max    gx_max    gy_max    gz_max     a_max     g_max  \n",
       "0  0.000845  0.024884  0.000155  0.000078  0.000069  0.024886  0.000170  \n",
       "1  0.000949  0.024881  0.000201  0.000095  0.000076  0.024883  0.000201  \n",
       "\n",
       "[2 rows x 32 columns]"
      ]
     },
     "execution_count": 16,
     "metadata": {},
     "output_type": "execute_result"
    }
   ],
   "source": [
    "# TODO - Load the target vector from test_set1 into y1, and all features from test_set1 into X1\n",
    "# (1 marks)\n",
    "y1 = test_set1['motion_state']\n",
    "X1 = test_set1.drop(columns=['motion_state'])\n",
    "X1.head(2)"
   ]
  },
  {
   "cell_type": "code",
   "execution_count": 17,
   "metadata": {},
   "outputs": [
    {
     "data": {
      "text/html": [
       "<div>\n",
       "<style scoped>\n",
       "    .dataframe tbody tr th:only-of-type {\n",
       "        vertical-align: middle;\n",
       "    }\n",
       "\n",
       "    .dataframe tbody tr th {\n",
       "        vertical-align: top;\n",
       "    }\n",
       "\n",
       "    .dataframe thead th {\n",
       "        text-align: right;\n",
       "    }\n",
       "</style>\n",
       "<table border=\"1\" class=\"dataframe\">\n",
       "  <thead>\n",
       "    <tr style=\"text-align: right;\">\n",
       "      <th></th>\n",
       "      <th>ax_sum</th>\n",
       "      <th>ay_sum</th>\n",
       "      <th>az_sum</th>\n",
       "      <th>gx_sum</th>\n",
       "      <th>gy_sum</th>\n",
       "      <th>gz_sum</th>\n",
       "      <th>a_sum</th>\n",
       "      <th>g_sum</th>\n",
       "      <th>ax_var</th>\n",
       "      <th>ay_var</th>\n",
       "      <th>...</th>\n",
       "      <th>a_min</th>\n",
       "      <th>g_min</th>\n",
       "      <th>ax_max</th>\n",
       "      <th>ay_max</th>\n",
       "      <th>az_max</th>\n",
       "      <th>gx_max</th>\n",
       "      <th>gy_max</th>\n",
       "      <th>gz_max</th>\n",
       "      <th>a_max</th>\n",
       "      <th>g_max</th>\n",
       "    </tr>\n",
       "  </thead>\n",
       "  <tbody>\n",
       "    <tr>\n",
       "      <th>0</th>\n",
       "      <td>-0.046400</td>\n",
       "      <td>0.305907</td>\n",
       "      <td>9.791451</td>\n",
       "      <td>-0.002184</td>\n",
       "      <td>0.001311</td>\n",
       "      <td>-0.001901</td>\n",
       "      <td>9.800683</td>\n",
       "      <td>0.012437</td>\n",
       "      <td>0.000002</td>\n",
       "      <td>3.020959e-07</td>\n",
       "      <td>...</td>\n",
       "      <td>0.048406</td>\n",
       "      <td>0.000007</td>\n",
       "      <td>0.002575</td>\n",
       "      <td>0.002993</td>\n",
       "      <td>0.049701</td>\n",
       "      <td>0.000094</td>\n",
       "      <td>0.000115</td>\n",
       "      <td>0.000080</td>\n",
       "      <td>0.049764</td>\n",
       "      <td>0.000142</td>\n",
       "    </tr>\n",
       "    <tr>\n",
       "      <th>1</th>\n",
       "      <td>-0.050073</td>\n",
       "      <td>0.311947</td>\n",
       "      <td>9.785619</td>\n",
       "      <td>-0.003369</td>\n",
       "      <td>0.001898</td>\n",
       "      <td>-0.002051</td>\n",
       "      <td>9.797741</td>\n",
       "      <td>0.013805</td>\n",
       "      <td>0.000003</td>\n",
       "      <td>6.859937e-07</td>\n",
       "      <td>...</td>\n",
       "      <td>0.047696</td>\n",
       "      <td>0.000013</td>\n",
       "      <td>0.003880</td>\n",
       "      <td>0.004106</td>\n",
       "      <td>0.050477</td>\n",
       "      <td>0.000140</td>\n",
       "      <td>0.000140</td>\n",
       "      <td>0.000083</td>\n",
       "      <td>0.050763</td>\n",
       "      <td>0.000151</td>\n",
       "    </tr>\n",
       "  </tbody>\n",
       "</table>\n",
       "<p>2 rows × 32 columns</p>\n",
       "</div>"
      ],
      "text/plain": [
       "     ax_sum    ay_sum    az_sum    gx_sum    gy_sum    gz_sum     a_sum  \\\n",
       "0 -0.046400  0.305907  9.791451 -0.002184  0.001311 -0.001901  9.800683   \n",
       "1 -0.050073  0.311947  9.785619 -0.003369  0.001898 -0.002051  9.797741   \n",
       "\n",
       "      g_sum    ax_var        ay_var  ...     a_min     g_min    ax_max  \\\n",
       "0  0.012437  0.000002  3.020959e-07  ...  0.048406  0.000007  0.002575   \n",
       "1  0.013805  0.000003  6.859937e-07  ...  0.047696  0.000013  0.003880   \n",
       "\n",
       "     ay_max    az_max    gx_max    gy_max    gz_max     a_max     g_max  \n",
       "0  0.002993  0.049701  0.000094  0.000115  0.000080  0.049764  0.000142  \n",
       "1  0.004106  0.050477  0.000140  0.000140  0.000083  0.050763  0.000151  \n",
       "\n",
       "[2 rows x 32 columns]"
      ]
     },
     "execution_count": 17,
     "metadata": {},
     "output_type": "execute_result"
    }
   ],
   "source": [
    "# TODO - Load the target vector from test_set2 into y2, and all features from test_set2 into X2\n",
    "y2 = test_set2['motion_state']\n",
    "X2 = test_set2.drop(columns=['motion_state'])\n",
    "X2.head(2)"
   ]
  },
  {
   "cell_type": "markdown",
   "metadata": {},
   "source": [
    "____"
   ]
  },
  {
   "cell_type": "markdown",
   "metadata": {},
   "source": [
    "#### 1.3.2 - Visualize Results"
   ]
  },
  {
   "cell_type": "markdown",
   "metadata": {},
   "source": [
    "For each test dataset, print the test set accuracy score. "
   ]
  },
  {
   "cell_type": "code",
   "execution_count": 18,
   "metadata": {},
   "outputs": [
    {
     "name": "stdout",
     "output_type": "stream",
     "text": [
      "test_set1 score: 0.92\n",
      "test_set2 score: 0.25\n"
     ]
    }
   ],
   "source": [
    "# TODO - Print test score accuracies for test_set1 and test_set2\n",
    "# (1 marks)\n",
    "\n",
    "test_set1_score = accuracy_score(y1, grid.best_estimator_.predict(X1))\n",
    "test_set2_score = accuracy_score(y2, grid.best_estimator_.predict(X2))\n",
    "\n",
    "print(\"test_set1 score: {:.2f}\".format(test_set1_score))\n",
    "print(\"test_set2 score: {:.2f}\".format(test_set2_score))"
   ]
  },
  {
   "cell_type": "markdown",
   "metadata": {},
   "source": [
    "Display the confusion matrix and print the classification for test_set 1 *(X1, y1)*"
   ]
  },
  {
   "cell_type": "code",
   "execution_count": 19,
   "metadata": {},
   "outputs": [
    {
     "name": "stdout",
     "output_type": "stream",
     "text": [
      "\n",
      "Confusion Matrix for test_set1:\n",
      "[[200  31   0]\n",
      " [  7 387  17]\n",
      " [  0   7 134]]\n",
      "\n",
      "Classification Report for test_set1:\n",
      "              precision    recall  f1-score   support\n",
      "\n",
      "        rest       0.97      0.87      0.91       231\n",
      "    straight       0.91      0.94      0.93       411\n",
      "        turn       0.89      0.95      0.92       141\n",
      "\n",
      "    accuracy                           0.92       783\n",
      "   macro avg       0.92      0.92      0.92       783\n",
      "weighted avg       0.92      0.92      0.92       783\n",
      "\n"
     ]
    }
   ],
   "source": [
    "# TODO - Display confusion matrix and print classification report for (X1, y1)\n",
    "# (1 marks)\n",
    "y1_pred = grid.best_estimator_.predict(X1)\n",
    "\n",
    "print(\"\\nConfusion Matrix for test_set1:\")\n",
    "print(confusion_matrix(y1, y1_pred))\n",
    "\n",
    "print(\"\\nClassification Report for test_set1:\")\n",
    "print(classification_report(y1, y1_pred))"
   ]
  },
  {
   "cell_type": "markdown",
   "metadata": {},
   "source": [
    "Display the confusion matrix and print the classification for test_set 2 *(X2, y2)*"
   ]
  },
  {
   "cell_type": "code",
   "execution_count": 20,
   "metadata": {},
   "outputs": [
    {
     "name": "stdout",
     "output_type": "stream",
     "text": [
      "\n",
      "Confusion Matrix for test_set2:\n",
      "[[  0   0  16]\n",
      " [  0   0 206]\n",
      " [  0   0  75]]\n",
      "\n",
      "Classification Report for test_set2:\n",
      "              precision    recall  f1-score   support\n",
      "\n",
      "        rest       0.00      0.00      0.00        16\n",
      "    straight       0.00      0.00      0.00       206\n",
      "        turn       0.25      1.00      0.40        75\n",
      "\n",
      "    accuracy                           0.25       297\n",
      "   macro avg       0.08      0.33      0.13       297\n",
      "weighted avg       0.06      0.25      0.10       297\n",
      "\n"
     ]
    },
    {
     "name": "stderr",
     "output_type": "stream",
     "text": [
      "c:\\Users\\mjssh\\AppData\\Local\\Programs\\Python\\Python310\\lib\\site-packages\\sklearn\\metrics\\_classification.py:1531: UndefinedMetricWarning: Precision is ill-defined and being set to 0.0 in labels with no predicted samples. Use `zero_division` parameter to control this behavior.\n",
      "  _warn_prf(average, modifier, f\"{metric.capitalize()} is\", len(result))\n",
      "c:\\Users\\mjssh\\AppData\\Local\\Programs\\Python\\Python310\\lib\\site-packages\\sklearn\\metrics\\_classification.py:1531: UndefinedMetricWarning: Precision is ill-defined and being set to 0.0 in labels with no predicted samples. Use `zero_division` parameter to control this behavior.\n",
      "  _warn_prf(average, modifier, f\"{metric.capitalize()} is\", len(result))\n",
      "c:\\Users\\mjssh\\AppData\\Local\\Programs\\Python\\Python310\\lib\\site-packages\\sklearn\\metrics\\_classification.py:1531: UndefinedMetricWarning: Precision is ill-defined and being set to 0.0 in labels with no predicted samples. Use `zero_division` parameter to control this behavior.\n",
      "  _warn_prf(average, modifier, f\"{metric.capitalize()} is\", len(result))\n"
     ]
    }
   ],
   "source": [
    "# TODO - Display confusion matrix and print classification report for (X2, y2)\n",
    "y2_pred = grid.best_estimator_.predict(X2)\n",
    "\n",
    "print(\"\\nConfusion Matrix for test_set2:\")\n",
    "print(confusion_matrix(y2, y2_pred))\n",
    "\n",
    "print(\"\\nClassification Report for test_set2:\")\n",
    "print(classification_report(y2, y2_pred))"
   ]
  },
  {
   "cell_type": "markdown",
   "metadata": {},
   "source": [
    "___"
   ]
  },
  {
   "cell_type": "markdown",
   "metadata": {},
   "source": [
    "#### 1.3.3 - Questions "
   ]
  },
  {
   "cell_type": "markdown",
   "metadata": {},
   "source": [
    "**Based on results so far** \n",
    "1. Comment on the model's performances on the datasets *(X_test, y_test)*, *(X1, y1)*, *(X2, y2)*? A significant difference in performance should be observed, what is this an example of? (3 marks)\n",
    "1. Provide and explain potential causes for the observed behaviour in performance? (3 marks)"
   ]
  },
  {
   "cell_type": "markdown",
   "metadata": {},
   "source": [
    "#### 1.3.3 - Answers\n",
    "1. The model performs well on the (X_test, y_test) dataset with an accuracy of 96%, it also performs well on the first test set (X1, y1) with an accuracy of 92%. However, on the second test set (X2, y2) the accuracy is poor at 25%, as it only able to predict the \"turn\" class correctly while failing to classify \"rest\" and \"straight\" entirely. This significant drop in performance on the second test set suggests domain mismatch or data shift, where the characteristics of the second test set differ significantly from those of the training and validation data.\n",
    "\n",
    "2. Some potential causes for the observed behaviour in performance are:\n",
    "    - Imbalanced Class Representation: The model struggles to classify \"rest\" and \"straight\" in the second test set, possibly because the training data doesn't include enough examples or differences in \"rest\" and \"straight\" that match the conditions in the second test set.\n",
    "    - Feature Distribution Mismatch: The features in the second test set may have a distribution that is different from the training set and first test set.\n",
    "    - Overfitting to Training/Validation Data: The model might have overfit the training data, including biases present in the training set and first test set. This would limit its ability to generalize to new datasets like the second test set.\n",
    "    - Measurement Noise or Errors: The second test set might have noisy or corrupted data, which the model was not trained to handle, leading to misclassfication."
   ]
  },
  {
   "cell_type": "markdown",
   "metadata": {},
   "source": [
    "___"
   ]
  },
  {
   "cell_type": "markdown",
   "metadata": {},
   "source": [
    "## Section 2 - Classification Using *Selected Features* Derived From Inertial Sensor Data (12 Marks)"
   ]
  },
  {
   "cell_type": "markdown",
   "metadata": {},
   "source": [
    "In this second section, an *SVC* model will be trained and tuned using grid search, however, only *selected features* will be used."
   ]
  },
  {
   "cell_type": "markdown",
   "metadata": {},
   "source": [
    "___"
   ]
  },
  {
   "cell_type": "markdown",
   "metadata": {},
   "source": [
    "### 2.1 Grid Search with Cross Validation (5 Marks)"
   ]
  },
  {
   "cell_type": "markdown",
   "metadata": {},
   "source": [
    "___"
   ]
  },
  {
   "cell_type": "markdown",
   "metadata": {},
   "source": [
    "#### 2.1.1 Extract *selected* features and target from *cv_set*"
   ]
  },
  {
   "cell_type": "markdown",
   "metadata": {},
   "source": [
    "From the *cv_set* dataframe, extract the selected features, listed below, and load them in a new dataframe *X*.\n",
    "* *ax_var* - variance of accelerometer readings in x\n",
    "* *ay_var* - variance of accelerometer readings in y\n",
    "* *az_sum* - sum of accelerometer z readings\n",
    "* *a_sum* - sum of the norm of accelerometer x, y, z readings\n",
    "* *gz_var* - variance of gyroscope reading in z"
   ]
  },
  {
   "cell_type": "code",
   "execution_count": 21,
   "metadata": {},
   "outputs": [
    {
     "data": {
      "text/html": [
       "<div>\n",
       "<style scoped>\n",
       "    .dataframe tbody tr th:only-of-type {\n",
       "        vertical-align: middle;\n",
       "    }\n",
       "\n",
       "    .dataframe tbody tr th {\n",
       "        vertical-align: top;\n",
       "    }\n",
       "\n",
       "    .dataframe thead th {\n",
       "        text-align: right;\n",
       "    }\n",
       "</style>\n",
       "<table border=\"1\" class=\"dataframe\">\n",
       "  <thead>\n",
       "    <tr style=\"text-align: right;\">\n",
       "      <th></th>\n",
       "      <th>ax_var</th>\n",
       "      <th>ay_var</th>\n",
       "      <th>az_sum</th>\n",
       "      <th>a_sum</th>\n",
       "      <th>gz_var</th>\n",
       "    </tr>\n",
       "  </thead>\n",
       "  <tbody>\n",
       "    <tr>\n",
       "      <th>0</th>\n",
       "      <td>8.046094e-07</td>\n",
       "      <td>1.319665e-07</td>\n",
       "      <td>9.789349</td>\n",
       "      <td>9.797418</td>\n",
       "      <td>7.446916e-10</td>\n",
       "    </tr>\n",
       "    <tr>\n",
       "      <th>1</th>\n",
       "      <td>1.032619e-06</td>\n",
       "      <td>1.073067e-07</td>\n",
       "      <td>9.789095</td>\n",
       "      <td>9.798815</td>\n",
       "      <td>6.983481e-10</td>\n",
       "    </tr>\n",
       "  </tbody>\n",
       "</table>\n",
       "</div>"
      ],
      "text/plain": [
       "         ax_var        ay_var    az_sum     a_sum        gz_var\n",
       "0  8.046094e-07  1.319665e-07  9.789349  9.797418  7.446916e-10\n",
       "1  1.032619e-06  1.073067e-07  9.789095  9.798815  6.983481e-10"
      ]
     },
     "execution_count": 21,
     "metadata": {},
     "output_type": "execute_result"
    }
   ],
   "source": [
    "# TODO - Load selected features from cv_set to X\n",
    "# (1 marks)\n",
    "selected_features = ['ax_var', 'ay_var', 'az_sum', 'a_sum', 'gz_var']\n",
    "X = cv_set[selected_features]\n",
    "X.head(2)"
   ]
  },
  {
   "cell_type": "code",
   "execution_count": 22,
   "metadata": {},
   "outputs": [
    {
     "data": {
      "text/plain": [
       "0    rest\n",
       "1    rest\n",
       "Name: motion_state, dtype: object"
      ]
     },
     "execution_count": 22,
     "metadata": {},
     "output_type": "execute_result"
    }
   ],
   "source": [
    "# TODO - Load motion_state column (target vector) into y\n",
    "y = cv_set['motion_state']\n",
    "y.head(2)"
   ]
  },
  {
   "cell_type": "markdown",
   "metadata": {},
   "source": [
    "___"
   ]
  },
  {
   "cell_type": "markdown",
   "metadata": {},
   "source": [
    "#### 2.1.2 - Configure and Perform Grid Search with Cross-Validation"
   ]
  },
  {
   "cell_type": "markdown",
   "metadata": {},
   "source": [
    "Follow the steps from **1.2.2** and perform model training and tuning using the selected feature set."
   ]
  },
  {
   "cell_type": "code",
   "execution_count": 23,
   "metadata": {},
   "outputs": [
    {
     "name": "stdout",
     "output_type": "stream",
     "text": [
      "Training set: 1073 samples, Testing set: 461 samples\n"
     ]
    },
    {
     "data": {
      "text/html": [
       "<style>#sk-container-id-2 {\n",
       "  /* Definition of color scheme common for light and dark mode */\n",
       "  --sklearn-color-text: black;\n",
       "  --sklearn-color-line: gray;\n",
       "  /* Definition of color scheme for unfitted estimators */\n",
       "  --sklearn-color-unfitted-level-0: #fff5e6;\n",
       "  --sklearn-color-unfitted-level-1: #f6e4d2;\n",
       "  --sklearn-color-unfitted-level-2: #ffe0b3;\n",
       "  --sklearn-color-unfitted-level-3: chocolate;\n",
       "  /* Definition of color scheme for fitted estimators */\n",
       "  --sklearn-color-fitted-level-0: #f0f8ff;\n",
       "  --sklearn-color-fitted-level-1: #d4ebff;\n",
       "  --sklearn-color-fitted-level-2: #b3dbfd;\n",
       "  --sklearn-color-fitted-level-3: cornflowerblue;\n",
       "\n",
       "  /* Specific color for light theme */\n",
       "  --sklearn-color-text-on-default-background: var(--sg-text-color, var(--theme-code-foreground, var(--jp-content-font-color1, black)));\n",
       "  --sklearn-color-background: var(--sg-background-color, var(--theme-background, var(--jp-layout-color0, white)));\n",
       "  --sklearn-color-border-box: var(--sg-text-color, var(--theme-code-foreground, var(--jp-content-font-color1, black)));\n",
       "  --sklearn-color-icon: #696969;\n",
       "\n",
       "  @media (prefers-color-scheme: dark) {\n",
       "    /* Redefinition of color scheme for dark theme */\n",
       "    --sklearn-color-text-on-default-background: var(--sg-text-color, var(--theme-code-foreground, var(--jp-content-font-color1, white)));\n",
       "    --sklearn-color-background: var(--sg-background-color, var(--theme-background, var(--jp-layout-color0, #111)));\n",
       "    --sklearn-color-border-box: var(--sg-text-color, var(--theme-code-foreground, var(--jp-content-font-color1, white)));\n",
       "    --sklearn-color-icon: #878787;\n",
       "  }\n",
       "}\n",
       "\n",
       "#sk-container-id-2 {\n",
       "  color: var(--sklearn-color-text);\n",
       "}\n",
       "\n",
       "#sk-container-id-2 pre {\n",
       "  padding: 0;\n",
       "}\n",
       "\n",
       "#sk-container-id-2 input.sk-hidden--visually {\n",
       "  border: 0;\n",
       "  clip: rect(1px 1px 1px 1px);\n",
       "  clip: rect(1px, 1px, 1px, 1px);\n",
       "  height: 1px;\n",
       "  margin: -1px;\n",
       "  overflow: hidden;\n",
       "  padding: 0;\n",
       "  position: absolute;\n",
       "  width: 1px;\n",
       "}\n",
       "\n",
       "#sk-container-id-2 div.sk-dashed-wrapped {\n",
       "  border: 1px dashed var(--sklearn-color-line);\n",
       "  margin: 0 0.4em 0.5em 0.4em;\n",
       "  box-sizing: border-box;\n",
       "  padding-bottom: 0.4em;\n",
       "  background-color: var(--sklearn-color-background);\n",
       "}\n",
       "\n",
       "#sk-container-id-2 div.sk-container {\n",
       "  /* jupyter's `normalize.less` sets `[hidden] { display: none; }`\n",
       "     but bootstrap.min.css set `[hidden] { display: none !important; }`\n",
       "     so we also need the `!important` here to be able to override the\n",
       "     default hidden behavior on the sphinx rendered scikit-learn.org.\n",
       "     See: https://github.com/scikit-learn/scikit-learn/issues/21755 */\n",
       "  display: inline-block !important;\n",
       "  position: relative;\n",
       "}\n",
       "\n",
       "#sk-container-id-2 div.sk-text-repr-fallback {\n",
       "  display: none;\n",
       "}\n",
       "\n",
       "div.sk-parallel-item,\n",
       "div.sk-serial,\n",
       "div.sk-item {\n",
       "  /* draw centered vertical line to link estimators */\n",
       "  background-image: linear-gradient(var(--sklearn-color-text-on-default-background), var(--sklearn-color-text-on-default-background));\n",
       "  background-size: 2px 100%;\n",
       "  background-repeat: no-repeat;\n",
       "  background-position: center center;\n",
       "}\n",
       "\n",
       "/* Parallel-specific style estimator block */\n",
       "\n",
       "#sk-container-id-2 div.sk-parallel-item::after {\n",
       "  content: \"\";\n",
       "  width: 100%;\n",
       "  border-bottom: 2px solid var(--sklearn-color-text-on-default-background);\n",
       "  flex-grow: 1;\n",
       "}\n",
       "\n",
       "#sk-container-id-2 div.sk-parallel {\n",
       "  display: flex;\n",
       "  align-items: stretch;\n",
       "  justify-content: center;\n",
       "  background-color: var(--sklearn-color-background);\n",
       "  position: relative;\n",
       "}\n",
       "\n",
       "#sk-container-id-2 div.sk-parallel-item {\n",
       "  display: flex;\n",
       "  flex-direction: column;\n",
       "}\n",
       "\n",
       "#sk-container-id-2 div.sk-parallel-item:first-child::after {\n",
       "  align-self: flex-end;\n",
       "  width: 50%;\n",
       "}\n",
       "\n",
       "#sk-container-id-2 div.sk-parallel-item:last-child::after {\n",
       "  align-self: flex-start;\n",
       "  width: 50%;\n",
       "}\n",
       "\n",
       "#sk-container-id-2 div.sk-parallel-item:only-child::after {\n",
       "  width: 0;\n",
       "}\n",
       "\n",
       "/* Serial-specific style estimator block */\n",
       "\n",
       "#sk-container-id-2 div.sk-serial {\n",
       "  display: flex;\n",
       "  flex-direction: column;\n",
       "  align-items: center;\n",
       "  background-color: var(--sklearn-color-background);\n",
       "  padding-right: 1em;\n",
       "  padding-left: 1em;\n",
       "}\n",
       "\n",
       "\n",
       "/* Toggleable style: style used for estimator/Pipeline/ColumnTransformer box that is\n",
       "clickable and can be expanded/collapsed.\n",
       "- Pipeline and ColumnTransformer use this feature and define the default style\n",
       "- Estimators will overwrite some part of the style using the `sk-estimator` class\n",
       "*/\n",
       "\n",
       "/* Pipeline and ColumnTransformer style (default) */\n",
       "\n",
       "#sk-container-id-2 div.sk-toggleable {\n",
       "  /* Default theme specific background. It is overwritten whether we have a\n",
       "  specific estimator or a Pipeline/ColumnTransformer */\n",
       "  background-color: var(--sklearn-color-background);\n",
       "}\n",
       "\n",
       "/* Toggleable label */\n",
       "#sk-container-id-2 label.sk-toggleable__label {\n",
       "  cursor: pointer;\n",
       "  display: block;\n",
       "  width: 100%;\n",
       "  margin-bottom: 0;\n",
       "  padding: 0.5em;\n",
       "  box-sizing: border-box;\n",
       "  text-align: center;\n",
       "}\n",
       "\n",
       "#sk-container-id-2 label.sk-toggleable__label-arrow:before {\n",
       "  /* Arrow on the left of the label */\n",
       "  content: \"▸\";\n",
       "  float: left;\n",
       "  margin-right: 0.25em;\n",
       "  color: var(--sklearn-color-icon);\n",
       "}\n",
       "\n",
       "#sk-container-id-2 label.sk-toggleable__label-arrow:hover:before {\n",
       "  color: var(--sklearn-color-text);\n",
       "}\n",
       "\n",
       "/* Toggleable content - dropdown */\n",
       "\n",
       "#sk-container-id-2 div.sk-toggleable__content {\n",
       "  max-height: 0;\n",
       "  max-width: 0;\n",
       "  overflow: hidden;\n",
       "  text-align: left;\n",
       "  /* unfitted */\n",
       "  background-color: var(--sklearn-color-unfitted-level-0);\n",
       "}\n",
       "\n",
       "#sk-container-id-2 div.sk-toggleable__content.fitted {\n",
       "  /* fitted */\n",
       "  background-color: var(--sklearn-color-fitted-level-0);\n",
       "}\n",
       "\n",
       "#sk-container-id-2 div.sk-toggleable__content pre {\n",
       "  margin: 0.2em;\n",
       "  border-radius: 0.25em;\n",
       "  color: var(--sklearn-color-text);\n",
       "  /* unfitted */\n",
       "  background-color: var(--sklearn-color-unfitted-level-0);\n",
       "}\n",
       "\n",
       "#sk-container-id-2 div.sk-toggleable__content.fitted pre {\n",
       "  /* unfitted */\n",
       "  background-color: var(--sklearn-color-fitted-level-0);\n",
       "}\n",
       "\n",
       "#sk-container-id-2 input.sk-toggleable__control:checked~div.sk-toggleable__content {\n",
       "  /* Expand drop-down */\n",
       "  max-height: 200px;\n",
       "  max-width: 100%;\n",
       "  overflow: auto;\n",
       "}\n",
       "\n",
       "#sk-container-id-2 input.sk-toggleable__control:checked~label.sk-toggleable__label-arrow:before {\n",
       "  content: \"▾\";\n",
       "}\n",
       "\n",
       "/* Pipeline/ColumnTransformer-specific style */\n",
       "\n",
       "#sk-container-id-2 div.sk-label input.sk-toggleable__control:checked~label.sk-toggleable__label {\n",
       "  color: var(--sklearn-color-text);\n",
       "  background-color: var(--sklearn-color-unfitted-level-2);\n",
       "}\n",
       "\n",
       "#sk-container-id-2 div.sk-label.fitted input.sk-toggleable__control:checked~label.sk-toggleable__label {\n",
       "  background-color: var(--sklearn-color-fitted-level-2);\n",
       "}\n",
       "\n",
       "/* Estimator-specific style */\n",
       "\n",
       "/* Colorize estimator box */\n",
       "#sk-container-id-2 div.sk-estimator input.sk-toggleable__control:checked~label.sk-toggleable__label {\n",
       "  /* unfitted */\n",
       "  background-color: var(--sklearn-color-unfitted-level-2);\n",
       "}\n",
       "\n",
       "#sk-container-id-2 div.sk-estimator.fitted input.sk-toggleable__control:checked~label.sk-toggleable__label {\n",
       "  /* fitted */\n",
       "  background-color: var(--sklearn-color-fitted-level-2);\n",
       "}\n",
       "\n",
       "#sk-container-id-2 div.sk-label label.sk-toggleable__label,\n",
       "#sk-container-id-2 div.sk-label label {\n",
       "  /* The background is the default theme color */\n",
       "  color: var(--sklearn-color-text-on-default-background);\n",
       "}\n",
       "\n",
       "/* On hover, darken the color of the background */\n",
       "#sk-container-id-2 div.sk-label:hover label.sk-toggleable__label {\n",
       "  color: var(--sklearn-color-text);\n",
       "  background-color: var(--sklearn-color-unfitted-level-2);\n",
       "}\n",
       "\n",
       "/* Label box, darken color on hover, fitted */\n",
       "#sk-container-id-2 div.sk-label.fitted:hover label.sk-toggleable__label.fitted {\n",
       "  color: var(--sklearn-color-text);\n",
       "  background-color: var(--sklearn-color-fitted-level-2);\n",
       "}\n",
       "\n",
       "/* Estimator label */\n",
       "\n",
       "#sk-container-id-2 div.sk-label label {\n",
       "  font-family: monospace;\n",
       "  font-weight: bold;\n",
       "  display: inline-block;\n",
       "  line-height: 1.2em;\n",
       "}\n",
       "\n",
       "#sk-container-id-2 div.sk-label-container {\n",
       "  text-align: center;\n",
       "}\n",
       "\n",
       "/* Estimator-specific */\n",
       "#sk-container-id-2 div.sk-estimator {\n",
       "  font-family: monospace;\n",
       "  border: 1px dotted var(--sklearn-color-border-box);\n",
       "  border-radius: 0.25em;\n",
       "  box-sizing: border-box;\n",
       "  margin-bottom: 0.5em;\n",
       "  /* unfitted */\n",
       "  background-color: var(--sklearn-color-unfitted-level-0);\n",
       "}\n",
       "\n",
       "#sk-container-id-2 div.sk-estimator.fitted {\n",
       "  /* fitted */\n",
       "  background-color: var(--sklearn-color-fitted-level-0);\n",
       "}\n",
       "\n",
       "/* on hover */\n",
       "#sk-container-id-2 div.sk-estimator:hover {\n",
       "  /* unfitted */\n",
       "  background-color: var(--sklearn-color-unfitted-level-2);\n",
       "}\n",
       "\n",
       "#sk-container-id-2 div.sk-estimator.fitted:hover {\n",
       "  /* fitted */\n",
       "  background-color: var(--sklearn-color-fitted-level-2);\n",
       "}\n",
       "\n",
       "/* Specification for estimator info (e.g. \"i\" and \"?\") */\n",
       "\n",
       "/* Common style for \"i\" and \"?\" */\n",
       "\n",
       ".sk-estimator-doc-link,\n",
       "a:link.sk-estimator-doc-link,\n",
       "a:visited.sk-estimator-doc-link {\n",
       "  float: right;\n",
       "  font-size: smaller;\n",
       "  line-height: 1em;\n",
       "  font-family: monospace;\n",
       "  background-color: var(--sklearn-color-background);\n",
       "  border-radius: 1em;\n",
       "  height: 1em;\n",
       "  width: 1em;\n",
       "  text-decoration: none !important;\n",
       "  margin-left: 1ex;\n",
       "  /* unfitted */\n",
       "  border: var(--sklearn-color-unfitted-level-1) 1pt solid;\n",
       "  color: var(--sklearn-color-unfitted-level-1);\n",
       "}\n",
       "\n",
       ".sk-estimator-doc-link.fitted,\n",
       "a:link.sk-estimator-doc-link.fitted,\n",
       "a:visited.sk-estimator-doc-link.fitted {\n",
       "  /* fitted */\n",
       "  border: var(--sklearn-color-fitted-level-1) 1pt solid;\n",
       "  color: var(--sklearn-color-fitted-level-1);\n",
       "}\n",
       "\n",
       "/* On hover */\n",
       "div.sk-estimator:hover .sk-estimator-doc-link:hover,\n",
       ".sk-estimator-doc-link:hover,\n",
       "div.sk-label-container:hover .sk-estimator-doc-link:hover,\n",
       ".sk-estimator-doc-link:hover {\n",
       "  /* unfitted */\n",
       "  background-color: var(--sklearn-color-unfitted-level-3);\n",
       "  color: var(--sklearn-color-background);\n",
       "  text-decoration: none;\n",
       "}\n",
       "\n",
       "div.sk-estimator.fitted:hover .sk-estimator-doc-link.fitted:hover,\n",
       ".sk-estimator-doc-link.fitted:hover,\n",
       "div.sk-label-container:hover .sk-estimator-doc-link.fitted:hover,\n",
       ".sk-estimator-doc-link.fitted:hover {\n",
       "  /* fitted */\n",
       "  background-color: var(--sklearn-color-fitted-level-3);\n",
       "  color: var(--sklearn-color-background);\n",
       "  text-decoration: none;\n",
       "}\n",
       "\n",
       "/* Span, style for the box shown on hovering the info icon */\n",
       ".sk-estimator-doc-link span {\n",
       "  display: none;\n",
       "  z-index: 9999;\n",
       "  position: relative;\n",
       "  font-weight: normal;\n",
       "  right: .2ex;\n",
       "  padding: .5ex;\n",
       "  margin: .5ex;\n",
       "  width: min-content;\n",
       "  min-width: 20ex;\n",
       "  max-width: 50ex;\n",
       "  color: var(--sklearn-color-text);\n",
       "  box-shadow: 2pt 2pt 4pt #999;\n",
       "  /* unfitted */\n",
       "  background: var(--sklearn-color-unfitted-level-0);\n",
       "  border: .5pt solid var(--sklearn-color-unfitted-level-3);\n",
       "}\n",
       "\n",
       ".sk-estimator-doc-link.fitted span {\n",
       "  /* fitted */\n",
       "  background: var(--sklearn-color-fitted-level-0);\n",
       "  border: var(--sklearn-color-fitted-level-3);\n",
       "}\n",
       "\n",
       ".sk-estimator-doc-link:hover span {\n",
       "  display: block;\n",
       "}\n",
       "\n",
       "/* \"?\"-specific style due to the `<a>` HTML tag */\n",
       "\n",
       "#sk-container-id-2 a.estimator_doc_link {\n",
       "  float: right;\n",
       "  font-size: 1rem;\n",
       "  line-height: 1em;\n",
       "  font-family: monospace;\n",
       "  background-color: var(--sklearn-color-background);\n",
       "  border-radius: 1rem;\n",
       "  height: 1rem;\n",
       "  width: 1rem;\n",
       "  text-decoration: none;\n",
       "  /* unfitted */\n",
       "  color: var(--sklearn-color-unfitted-level-1);\n",
       "  border: var(--sklearn-color-unfitted-level-1) 1pt solid;\n",
       "}\n",
       "\n",
       "#sk-container-id-2 a.estimator_doc_link.fitted {\n",
       "  /* fitted */\n",
       "  border: var(--sklearn-color-fitted-level-1) 1pt solid;\n",
       "  color: var(--sklearn-color-fitted-level-1);\n",
       "}\n",
       "\n",
       "/* On hover */\n",
       "#sk-container-id-2 a.estimator_doc_link:hover {\n",
       "  /* unfitted */\n",
       "  background-color: var(--sklearn-color-unfitted-level-3);\n",
       "  color: var(--sklearn-color-background);\n",
       "  text-decoration: none;\n",
       "}\n",
       "\n",
       "#sk-container-id-2 a.estimator_doc_link.fitted:hover {\n",
       "  /* fitted */\n",
       "  background-color: var(--sklearn-color-fitted-level-3);\n",
       "}\n",
       "</style><div id=\"sk-container-id-2\" class=\"sk-top-container\"><div class=\"sk-text-repr-fallback\"><pre>GridSearchCV(cv=5,\n",
       "             estimator=Pipeline(steps=[(&#x27;scaler&#x27;, StandardScaler()),\n",
       "                                       (&#x27;classifier&#x27;, SVC())]),\n",
       "             param_grid={&#x27;classifier__C&#x27;: [0.01, 0.1, 1, 10, 100],\n",
       "                         &#x27;classifier__gamma&#x27;: [0.001, 0.01, 0.1, 1],\n",
       "                         &#x27;classifier__kernel&#x27;: [&#x27;rbf&#x27;],\n",
       "                         &#x27;scaler&#x27;: [StandardScaler(), RobustScaler(), None]},\n",
       "             return_train_score=True, scoring=&#x27;accuracy&#x27;)</pre><b>In a Jupyter environment, please rerun this cell to show the HTML representation or trust the notebook. <br />On GitHub, the HTML representation is unable to render, please try loading this page with nbviewer.org.</b></div><div class=\"sk-container\" hidden><div class=\"sk-item sk-dashed-wrapped\"><div class=\"sk-label-container\"><div class=\"sk-label fitted sk-toggleable\"><input class=\"sk-toggleable__control sk-hidden--visually\" id=\"sk-estimator-id-5\" type=\"checkbox\" ><label for=\"sk-estimator-id-5\" class=\"sk-toggleable__label fitted sk-toggleable__label-arrow fitted\">&nbsp;&nbsp;GridSearchCV<a class=\"sk-estimator-doc-link fitted\" rel=\"noreferrer\" target=\"_blank\" href=\"https://scikit-learn.org/1.5/modules/generated/sklearn.model_selection.GridSearchCV.html\">?<span>Documentation for GridSearchCV</span></a><span class=\"sk-estimator-doc-link fitted\">i<span>Fitted</span></span></label><div class=\"sk-toggleable__content fitted\"><pre>GridSearchCV(cv=5,\n",
       "             estimator=Pipeline(steps=[(&#x27;scaler&#x27;, StandardScaler()),\n",
       "                                       (&#x27;classifier&#x27;, SVC())]),\n",
       "             param_grid={&#x27;classifier__C&#x27;: [0.01, 0.1, 1, 10, 100],\n",
       "                         &#x27;classifier__gamma&#x27;: [0.001, 0.01, 0.1, 1],\n",
       "                         &#x27;classifier__kernel&#x27;: [&#x27;rbf&#x27;],\n",
       "                         &#x27;scaler&#x27;: [StandardScaler(), RobustScaler(), None]},\n",
       "             return_train_score=True, scoring=&#x27;accuracy&#x27;)</pre></div> </div></div><div class=\"sk-parallel\"><div class=\"sk-parallel-item\"><div class=\"sk-item\"><div class=\"sk-label-container\"><div class=\"sk-label fitted sk-toggleable\"><input class=\"sk-toggleable__control sk-hidden--visually\" id=\"sk-estimator-id-6\" type=\"checkbox\" ><label for=\"sk-estimator-id-6\" class=\"sk-toggleable__label fitted sk-toggleable__label-arrow fitted\">best_estimator_: Pipeline</label><div class=\"sk-toggleable__content fitted\"><pre>Pipeline(steps=[(&#x27;scaler&#x27;, RobustScaler()),\n",
       "                (&#x27;classifier&#x27;, SVC(C=100, gamma=0.01))])</pre></div> </div></div><div class=\"sk-serial\"><div class=\"sk-item\"><div class=\"sk-serial\"><div class=\"sk-item\"><div class=\"sk-estimator fitted sk-toggleable\"><input class=\"sk-toggleable__control sk-hidden--visually\" id=\"sk-estimator-id-7\" type=\"checkbox\" ><label for=\"sk-estimator-id-7\" class=\"sk-toggleable__label fitted sk-toggleable__label-arrow fitted\">&nbsp;RobustScaler<a class=\"sk-estimator-doc-link fitted\" rel=\"noreferrer\" target=\"_blank\" href=\"https://scikit-learn.org/1.5/modules/generated/sklearn.preprocessing.RobustScaler.html\">?<span>Documentation for RobustScaler</span></a></label><div class=\"sk-toggleable__content fitted\"><pre>RobustScaler()</pre></div> </div></div><div class=\"sk-item\"><div class=\"sk-estimator fitted sk-toggleable\"><input class=\"sk-toggleable__control sk-hidden--visually\" id=\"sk-estimator-id-8\" type=\"checkbox\" ><label for=\"sk-estimator-id-8\" class=\"sk-toggleable__label fitted sk-toggleable__label-arrow fitted\">&nbsp;SVC<a class=\"sk-estimator-doc-link fitted\" rel=\"noreferrer\" target=\"_blank\" href=\"https://scikit-learn.org/1.5/modules/generated/sklearn.svm.SVC.html\">?<span>Documentation for SVC</span></a></label><div class=\"sk-toggleable__content fitted\"><pre>SVC(C=100, gamma=0.01)</pre></div> </div></div></div></div></div></div></div></div></div></div></div>"
      ],
      "text/plain": [
       "GridSearchCV(cv=5,\n",
       "             estimator=Pipeline(steps=[('scaler', StandardScaler()),\n",
       "                                       ('classifier', SVC())]),\n",
       "             param_grid={'classifier__C': [0.01, 0.1, 1, 10, 100],\n",
       "                         'classifier__gamma': [0.001, 0.01, 0.1, 1],\n",
       "                         'classifier__kernel': ['rbf'],\n",
       "                         'scaler': [StandardScaler(), RobustScaler(), None]},\n",
       "             return_train_score=True, scoring='accuracy')"
      ]
     },
     "execution_count": 23,
     "metadata": {},
     "output_type": "execute_result"
    }
   ],
   "source": [
    "# TODO - Perform model training and tuning using `GridSearchCV`\n",
    "\n",
    "# Perform test/train split\n",
    "X_train, X_test, y_train, y_test = train_test_split(\n",
    "    X, y, test_size=0.30, random_state=42, stratify=y\n",
    ")\n",
    "print(f\"Training set: {X_train.shape[0]} samples, Testing set: {X_test.shape[0]} samples\")\n",
    "\n",
    "# Initialize Pipeline into variable pipe\n",
    "pipe = Pipeline([\n",
    "    ('scaler', StandardScaler()),\n",
    "    ('classifier', SVC())\n",
    "])\n",
    "\n",
    "# Setup grid\n",
    "param_grid = {\n",
    "    'scaler': [StandardScaler(), RobustScaler(), None],\n",
    "    'classifier__C': [0.01, 0.1, 1, 10, 100],\n",
    "    'classifier__gamma': [0.001, 0.01, 0.1, 1],\n",
    "    'classifier__kernel': ['rbf']\n",
    "}\n",
    "\n",
    "# Perform grid search\n",
    "grid = GridSearchCV(pipe, param_grid, cv=5, scoring='accuracy', return_train_score=True)\n",
    "grid.fit(X_train, y_train)\n"
   ]
  },
  {
   "cell_type": "markdown",
   "metadata": {},
   "source": [
    "___"
   ]
  },
  {
   "cell_type": "markdown",
   "metadata": {},
   "source": [
    "#### 2.1.3 - Visualize Grid Search Results"
   ]
  },
  {
   "cell_type": "markdown",
   "metadata": {},
   "source": [
    "Print the results from the grid search. The following outputs must be printed.\n",
    "* Best parameter set\n",
    "* Best cross-validation train score\n",
    "* Best cross-validation test score\n",
    "* Test set accuracy"
   ]
  },
  {
   "cell_type": "code",
   "execution_count": 24,
   "metadata": {},
   "outputs": [
    {
     "name": "stdout",
     "output_type": "stream",
     "text": [
      "Best params:\n",
      "{'classifier__C': 100, 'classifier__gamma': 0.01, 'classifier__kernel': 'rbf', 'scaler': RobustScaler()}\n",
      "\n",
      "Best cross-validation train score: 0.97\n",
      "Best cross-validation validation score: 0.82\n",
      "Test-set score: 0.83\n"
     ]
    }
   ],
   "source": [
    "# TODO: Print the results from the grid search\n",
    "\n",
    "print(\"Best params:\\n{}\\n\".format(grid.best_params_))\n",
    "print(\"Best cross-validation train score: {:.2f}\".format(max(grid.cv_results_['mean_train_score'])))\n",
    "print(\"Best cross-validation validation score: {:.2f}\".format(grid.best_score_))\n",
    "\n",
    "test_set_score = accuracy_score(y_test, grid.best_estimator_.predict(X_test))\n",
    "print(\"Test-set score: {:.2f}\".format(test_set_score))"
   ]
  },
  {
   "cell_type": "markdown",
   "metadata": {},
   "source": [
    "Display the confusion matrix and print the classification report for the trained model using the *test* split. "
   ]
  },
  {
   "cell_type": "code",
   "execution_count": 25,
   "metadata": {},
   "outputs": [
    {
     "name": "stdout",
     "output_type": "stream",
     "text": [
      "\n",
      "Confusion Matrix:\n",
      "[[154   1   0]\n",
      " [ 20 173  14]\n",
      " [  1  44  54]]\n",
      "\n",
      "Classification Report:\n",
      "              precision    recall  f1-score   support\n",
      "\n",
      "        rest       0.88      0.99      0.93       155\n",
      "    straight       0.79      0.84      0.81       207\n",
      "        turn       0.79      0.55      0.65        99\n",
      "\n",
      "    accuracy                           0.83       461\n",
      "   macro avg       0.82      0.79      0.80       461\n",
      "weighted avg       0.82      0.83      0.82       461\n",
      "\n"
     ]
    }
   ],
   "source": [
    "# TODO - Display confusion matrix and print classification reports\n",
    "y_pred = grid.best_estimator_.predict(X_test)\n",
    "\n",
    "print(\"\\nConfusion Matrix:\")\n",
    "print(confusion_matrix(y_test, y_pred))\n",
    "\n",
    "print(\"\\nClassification Report:\")\n",
    "print(classification_report(y_test, y_pred))"
   ]
  },
  {
   "cell_type": "markdown",
   "metadata": {},
   "source": [
    "___"
   ]
  },
  {
   "cell_type": "markdown",
   "metadata": {},
   "source": [
    "#### 2.1.4 - Question"
   ]
  },
  {
   "cell_type": "markdown",
   "metadata": {},
   "source": [
    "\n",
    "1. Consider the differences between the performance on the training/cross-validation dataset for section 1 (1.2.3) and section 2 (2.1.3). Which model is a better fit based on *just these two evaluations*? (4 marks)"
   ]
  },
  {
   "cell_type": "markdown",
   "metadata": {},
   "source": [
    "#### 2.1.4 Answer \n",
    "1. Differences:\n",
    "    - **Section 1:** Training Score: 1.00, Validation Score: 0.95, Test Accuracy: 0.96\n",
    "    - **Section 2:** Training Score: 0.97, Validation Score: 0.82, Test Accuracy: 0.83\n",
    "    - **Confusion Matrix and Classification Report:** Section 1 shows near-perfect classification across all classes, while Section 2 struggles, particularly with the \"turn\" class, which has a low recall (55%).\n",
    "\n",
    "    Section 1 demonstrates strong performance on both training and test data, suggesting better generalization.\n",
    "    Section 2 has a larger gap between training (0.97) and validation/test performance (0.82/0.83), indicating some difficulty generalizing to unseen data.\n",
    "\n",
    "    Therefore, the model in section 1 (1.2.3) is a better fit, because it demonstrates a higher test accuracy (0.96 vs. 0.83), stronger generalization to unseen data, and balanced performance across all motion states."
   ]
  },
  {
   "cell_type": "markdown",
   "metadata": {},
   "source": [
    "___"
   ]
  },
  {
   "cell_type": "markdown",
   "metadata": {},
   "source": [
    "### 2.2 - Model Evaluation on Test Datasets 1 and 2 (7 Marks)"
   ]
  },
  {
   "cell_type": "markdown",
   "metadata": {},
   "source": [
    "___"
   ]
  },
  {
   "cell_type": "markdown",
   "metadata": {},
   "source": [
    "#### 2.2.1 - Extract selected features and targets from test datasets"
   ]
  },
  {
   "cell_type": "markdown",
   "metadata": {},
   "source": [
    "The model trained in 2.1 is to be tested on the independent datasets, that is test_set1 and test_set2. \n",
    "Seperate the testsets into the selected features and target vectors *(X1, y1)* and (X2,)"
   ]
  },
  {
   "cell_type": "code",
   "execution_count": 26,
   "metadata": {},
   "outputs": [
    {
     "data": {
      "text/html": [
       "<div>\n",
       "<style scoped>\n",
       "    .dataframe tbody tr th:only-of-type {\n",
       "        vertical-align: middle;\n",
       "    }\n",
       "\n",
       "    .dataframe tbody tr th {\n",
       "        vertical-align: top;\n",
       "    }\n",
       "\n",
       "    .dataframe thead th {\n",
       "        text-align: right;\n",
       "    }\n",
       "</style>\n",
       "<table border=\"1\" class=\"dataframe\">\n",
       "  <thead>\n",
       "    <tr style=\"text-align: right;\">\n",
       "      <th></th>\n",
       "      <th>ax_var</th>\n",
       "      <th>ay_var</th>\n",
       "      <th>az_sum</th>\n",
       "      <th>a_sum</th>\n",
       "      <th>gz_var</th>\n",
       "    </tr>\n",
       "  </thead>\n",
       "  <tbody>\n",
       "    <tr>\n",
       "      <th>0</th>\n",
       "      <td>0.000001</td>\n",
       "      <td>7.749919e-08</td>\n",
       "      <td>9.786930</td>\n",
       "      <td>9.801661</td>\n",
       "      <td>7.727190e-10</td>\n",
       "    </tr>\n",
       "    <tr>\n",
       "      <th>1</th>\n",
       "      <td>0.000001</td>\n",
       "      <td>9.243000e-08</td>\n",
       "      <td>9.788127</td>\n",
       "      <td>9.802481</td>\n",
       "      <td>8.871433e-10</td>\n",
       "    </tr>\n",
       "  </tbody>\n",
       "</table>\n",
       "</div>"
      ],
      "text/plain": [
       "     ax_var        ay_var    az_sum     a_sum        gz_var\n",
       "0  0.000001  7.749919e-08  9.786930  9.801661  7.727190e-10\n",
       "1  0.000001  9.243000e-08  9.788127  9.802481  8.871433e-10"
      ]
     },
     "execution_count": 26,
     "metadata": {},
     "output_type": "execute_result"
    }
   ],
   "source": [
    "# TODO - Load the target vector from test_set1 into y1, and the selected features from test_set1 into X1\n",
    "# (1 marks)\n",
    "selected_features = ['ax_var', 'ay_var', 'az_sum', 'a_sum', 'gz_var']\n",
    "y1 = test_set1['motion_state']\n",
    "X1 = test_set1[selected_features]\n",
    "X1.head(2)"
   ]
  },
  {
   "cell_type": "code",
   "execution_count": 27,
   "metadata": {},
   "outputs": [
    {
     "data": {
      "text/html": [
       "<div>\n",
       "<style scoped>\n",
       "    .dataframe tbody tr th:only-of-type {\n",
       "        vertical-align: middle;\n",
       "    }\n",
       "\n",
       "    .dataframe tbody tr th {\n",
       "        vertical-align: top;\n",
       "    }\n",
       "\n",
       "    .dataframe thead th {\n",
       "        text-align: right;\n",
       "    }\n",
       "</style>\n",
       "<table border=\"1\" class=\"dataframe\">\n",
       "  <thead>\n",
       "    <tr style=\"text-align: right;\">\n",
       "      <th></th>\n",
       "      <th>ax_var</th>\n",
       "      <th>ay_var</th>\n",
       "      <th>az_sum</th>\n",
       "      <th>a_sum</th>\n",
       "      <th>gz_var</th>\n",
       "    </tr>\n",
       "  </thead>\n",
       "  <tbody>\n",
       "    <tr>\n",
       "      <th>0</th>\n",
       "      <td>0.000002</td>\n",
       "      <td>3.020959e-07</td>\n",
       "      <td>9.791451</td>\n",
       "      <td>9.800683</td>\n",
       "      <td>1.405038e-09</td>\n",
       "    </tr>\n",
       "    <tr>\n",
       "      <th>1</th>\n",
       "      <td>0.000003</td>\n",
       "      <td>6.859937e-07</td>\n",
       "      <td>9.785619</td>\n",
       "      <td>9.797741</td>\n",
       "      <td>1.164381e-09</td>\n",
       "    </tr>\n",
       "  </tbody>\n",
       "</table>\n",
       "</div>"
      ],
      "text/plain": [
       "     ax_var        ay_var    az_sum     a_sum        gz_var\n",
       "0  0.000002  3.020959e-07  9.791451  9.800683  1.405038e-09\n",
       "1  0.000003  6.859937e-07  9.785619  9.797741  1.164381e-09"
      ]
     },
     "execution_count": 27,
     "metadata": {},
     "output_type": "execute_result"
    }
   ],
   "source": [
    "# TODO - Load the target vector from test_set2 into y2, and the selected features from test_set2 into X2\n",
    "y2 = test_set2['motion_state']\n",
    "X2 = test_set2[selected_features]\n",
    "X2.head(2)"
   ]
  },
  {
   "cell_type": "markdown",
   "metadata": {},
   "source": [
    "___"
   ]
  },
  {
   "cell_type": "markdown",
   "metadata": {},
   "source": [
    "#### 2.2.2 - Visualize Results"
   ]
  },
  {
   "cell_type": "markdown",
   "metadata": {},
   "source": [
    "For each test dataset, print the test set accuracy score. "
   ]
  },
  {
   "cell_type": "code",
   "execution_count": 28,
   "metadata": {},
   "outputs": [
    {
     "name": "stdout",
     "output_type": "stream",
     "text": [
      "test_set1 score: 0.83\n",
      "test_set2 score: 0.84\n"
     ]
    }
   ],
   "source": [
    "# TODO - Print test score accuracies for test_set1 and test_set2\n",
    "\n",
    "test_set1_score = accuracy_score(y1, grid.best_estimator_.predict(X1))\n",
    "test_set2_score = accuracy_score(y2, grid.best_estimator_.predict(X2))\n",
    "\n",
    "print(\"test_set1 score: {:.2f}\".format(test_set1_score))\n",
    "print(\"test_set2 score: {:.2f}\".format(test_set2_score))"
   ]
  },
  {
   "cell_type": "markdown",
   "metadata": {},
   "source": [
    "Display the confusion matrix and print the classification for test_set 1 *(X1, y1)*"
   ]
  },
  {
   "cell_type": "code",
   "execution_count": 29,
   "metadata": {},
   "outputs": [
    {
     "name": "stdout",
     "output_type": "stream",
     "text": [
      "\n",
      "Confusion Matrix for test_set1:\n",
      "[[229   2   0]\n",
      " [ 26 336  49]\n",
      " [  0  57  84]]\n",
      "\n",
      "Classification Report for test_set1:\n",
      "              precision    recall  f1-score   support\n",
      "\n",
      "        rest       0.90      0.99      0.94       231\n",
      "    straight       0.85      0.82      0.83       411\n",
      "        turn       0.63      0.60      0.61       141\n",
      "\n",
      "    accuracy                           0.83       783\n",
      "   macro avg       0.79      0.80      0.80       783\n",
      "weighted avg       0.83      0.83      0.83       783\n",
      "\n"
     ]
    }
   ],
   "source": [
    "# TODO - Display confusion matrix and print classification report for (X1, y1)\n",
    "y1_pred = grid.best_estimator_.predict(X1)\n",
    "print(\"\\nConfusion Matrix for test_set1:\")\n",
    "print(confusion_matrix(y1, y1_pred))\n",
    "\n",
    "print(\"\\nClassification Report for test_set1:\")\n",
    "print(classification_report(y1, y1_pred))"
   ]
  },
  {
   "cell_type": "markdown",
   "metadata": {},
   "source": [
    "Display the confusion matrix and print the classification for test_set 2 *(X2, y2)*"
   ]
  },
  {
   "cell_type": "code",
   "execution_count": 30,
   "metadata": {},
   "outputs": [
    {
     "name": "stdout",
     "output_type": "stream",
     "text": [
      "\n",
      "Confusion Matrix for test_set2:\n",
      "[[ 15   1   0]\n",
      " [  0 178  28]\n",
      " [  0  18  57]]\n",
      "\n",
      "Classification Report for test_set2:\n",
      "              precision    recall  f1-score   support\n",
      "\n",
      "        rest       1.00      0.94      0.97        16\n",
      "    straight       0.90      0.86      0.88       206\n",
      "        turn       0.67      0.76      0.71        75\n",
      "\n",
      "    accuracy                           0.84       297\n",
      "   macro avg       0.86      0.85      0.85       297\n",
      "weighted avg       0.85      0.84      0.84       297\n",
      "\n"
     ]
    }
   ],
   "source": [
    "# TODO - Display confusion matrix and print classification report for (X2, y2)\n",
    "y2_pred = grid.best_estimator_.predict(X2)\n",
    "print(\"\\nConfusion Matrix for test_set2:\")\n",
    "print(confusion_matrix(y2, y2_pred))\n",
    "\n",
    "print(\"\\nClassification Report for test_set2:\")\n",
    "print(classification_report(y2, y2_pred))"
   ]
  },
  {
   "cell_type": "markdown",
   "metadata": {},
   "source": [
    "___"
   ]
  },
  {
   "cell_type": "markdown",
   "metadata": {},
   "source": [
    "#### 2.2.3 Questions"
   ]
  },
  {
   "cell_type": "markdown",
   "metadata": {},
   "source": [
    "1. For section 2, compare between the model's performance on the training/validation (2.1) set to the the performance on the two testing sets (2.2). How does the model fit? (3 marks)\n",
    "1. Compare the models' performances and fits between section 1 and section 2, and consider all three datasets. (3 marks)"
   ]
  },
  {
   "cell_type": "markdown",
   "metadata": {},
   "source": [
    "#### 2.2.3 Answers\n",
    "1. Performance Comparison 2.1 vs 2.2\n",
    "\n",
    "    **Training/Validation Performance (2.1):**\n",
    "    - Training Accuracy: 0.97\n",
    "    - Validation Accuracy: 0.82\n",
    "    - Class Imbalances: High performance on \"rest\" and \"straight\" but struggles with \"turn\" (recall = 55%).\n",
    "\n",
    "    **Test Set 1 Performance (2.2):**\n",
    "    - Test Set 1 Accuracy: 0.83\n",
    "    - Precision and recall for \"turn\" are lower compared to \"rest\" and \"straight.\"\n",
    "\n",
    "    **Test Set 2 Performance (2.2):**\n",
    "    - Test Set 2 Accuracy: 0.84\n",
    "    - Performance on \"turn\" is still weaker (precision = 0.67, recall = 0.76) compared to \"rest\" and \"straight.\"\n",
    "\n",
    "    The model fits reasonably well, showing consistent generalization from training/validation to the test datasets. It achieves similar validation and test scores, which suggests it is neither overfitting nor underfitting. However, it consistently struggles with the \"turn\" class, showing that its performance is limited by the reduced feature set.\n",
    "\n",
    "2. Performance Comparison Section 1 vs Section 2\n",
    "\n",
    "    **Training/Validation:**\n",
    "    - Section 1: Training Score: 1.00, Validation Score: 0.95\n",
    "    - Section 2: Training Score: 0.97, Validation Score: 0.82\n",
    "\n",
    "    **Test Set 1:**\n",
    "    - Section 1: Test Set 1 Accuracy: 0.92, strong precision, recall, and F1-scores across all classes, \"Turn\" class performs particularly well (precision = 0.89, recall = 0.95).\n",
    "    - Section 2: Test Set 1 Accuracy: 0.83 (lower than Section 1), struggles with the \"turn\" class (precision = 0.63, recall = 0.60).\n",
    "\n",
    "    **Test Set 2:**\n",
    "    - Section 1: Test Set 2 Accuracy: 0.25 (very poor performance due to complete misclassification of \"rest\" and \"straight\").\n",
    "    - Section 2: Test Set 2 Accuracy: 0.84 (maintains good precision and recall for \"rest\" and \"straight\": precision = 0.90+).\n",
    "\n",
    "    In summary, Section 1 model excels in training, validation, and Test_set1, showing better performance when the test data resembles the training data. Section 2 model is weaker on training, validation, and Test_set1, but significantly outperforms Section 1 on Test_set2, suggesting it generalizes better when faced with data shift."
   ]
  },
  {
   "cell_type": "markdown",
   "metadata": {},
   "source": [
    "____"
   ]
  },
  {
   "cell_type": "markdown",
   "metadata": {},
   "source": [
    "## Section 3 - Classification Using *Group Selected Features* From Inertial Sensor Data (10 Marks)"
   ]
  },
  {
   "cell_type": "markdown",
   "metadata": {},
   "source": [
    "Once again, an *SVC* model is to be trained and tuned using grid search. However, you must select which features to use from the ones provided in *cv_set*.  "
   ]
  },
  {
   "cell_type": "markdown",
   "metadata": {},
   "source": [
    "____"
   ]
  },
  {
   "cell_type": "markdown",
   "metadata": {},
   "source": [
    "### 3.1 Grid Search with Cross Validation (4 Marks)"
   ]
  },
  {
   "cell_type": "markdown",
   "metadata": {},
   "source": [
    "___"
   ]
  },
  {
   "cell_type": "markdown",
   "metadata": {},
   "source": [
    "#### 3.1.1 Extract *Group Selected* features and target from *cv_set*"
   ]
  },
  {
   "cell_type": "markdown",
   "metadata": {},
   "source": [
    "**Question**\n",
    "1. Please list the features that you have selected and explain *why you have chosen* these features? (4 marks)\n"
   ]
  },
  {
   "cell_type": "markdown",
   "metadata": {},
   "source": [
    "**Answer**\n",
    "1.  We chose the following features: ax_var, ay_var, az_sum, g_sum, and a_var.\n",
    "\n",
    "    The reason why we chose these features because I wanted a variety of features representing different aspects of motion:\n",
    "    - Linear Motion: ax_var, ay_var, az_sum\n",
    "    - Gyoscopic Activity: g_sum\n",
    "    - Motion Variance: a_var\n",
    " \n",
    "    We wanted to avoid adding too many features compared to Section 1 to prevent overfitting, and we also wanted to capture different features compared to Section 2 that may be more relevant, in order to see the effects on performance across datasets."
   ]
  },
  {
   "cell_type": "code",
   "execution_count": 55,
   "metadata": {},
   "outputs": [
    {
     "data": {
      "text/html": [
       "<div>\n",
       "<style scoped>\n",
       "    .dataframe tbody tr th:only-of-type {\n",
       "        vertical-align: middle;\n",
       "    }\n",
       "\n",
       "    .dataframe tbody tr th {\n",
       "        vertical-align: top;\n",
       "    }\n",
       "\n",
       "    .dataframe thead th {\n",
       "        text-align: right;\n",
       "    }\n",
       "</style>\n",
       "<table border=\"1\" class=\"dataframe\">\n",
       "  <thead>\n",
       "    <tr style=\"text-align: right;\">\n",
       "      <th></th>\n",
       "      <th>ax_var</th>\n",
       "      <th>ay_var</th>\n",
       "      <th>az_sum</th>\n",
       "      <th>g_sum</th>\n",
       "      <th>a_var</th>\n",
       "    </tr>\n",
       "  </thead>\n",
       "  <tbody>\n",
       "    <tr>\n",
       "      <th>0</th>\n",
       "      <td>8.046094e-07</td>\n",
       "      <td>1.319665e-07</td>\n",
       "      <td>9.789349</td>\n",
       "      <td>0.022554</td>\n",
       "      <td>3.334598e-08</td>\n",
       "    </tr>\n",
       "    <tr>\n",
       "      <th>1</th>\n",
       "      <td>1.032619e-06</td>\n",
       "      <td>1.073067e-07</td>\n",
       "      <td>9.789095</td>\n",
       "      <td>0.021731</td>\n",
       "      <td>1.588712e-08</td>\n",
       "    </tr>\n",
       "  </tbody>\n",
       "</table>\n",
       "</div>"
      ],
      "text/plain": [
       "         ax_var        ay_var    az_sum     g_sum         a_var\n",
       "0  8.046094e-07  1.319665e-07  9.789349  0.022554  3.334598e-08\n",
       "1  1.032619e-06  1.073067e-07  9.789095  0.021731  1.588712e-08"
      ]
     },
     "execution_count": 55,
     "metadata": {},
     "output_type": "execute_result"
    }
   ],
   "source": [
    "# TODO - Load group selected features from cv_set to X\n",
    "selected_features = ['ax_var', 'ay_var', 'az_sum', 'g_sum', 'a_var']\n",
    "X = cv_set[selected_features]\n",
    "X.head(2)"
   ]
  },
  {
   "cell_type": "code",
   "execution_count": null,
   "metadata": {},
   "outputs": [
    {
     "data": {
      "text/plain": [
       "0    rest\n",
       "1    rest\n",
       "Name: motion_state, dtype: object"
      ]
     },
     "execution_count": 56,
     "metadata": {},
     "output_type": "execute_result"
    }
   ],
   "source": [
    "# TODO - Load motion_state column (target vector) into y\n",
    "y = cv_set['motion_state']\n",
    "y.head(2)"
   ]
  },
  {
   "cell_type": "markdown",
   "metadata": {},
   "source": [
    "___"
   ]
  },
  {
   "cell_type": "markdown",
   "metadata": {},
   "source": [
    "#### 3.1.2 - Configure and Perform Grid Search with Cross-Validation"
   ]
  },
  {
   "cell_type": "markdown",
   "metadata": {},
   "source": [
    "Follow the steps from **1.2.2** and perform model training and tuning using the group selected feature set."
   ]
  },
  {
   "cell_type": "code",
   "execution_count": 57,
   "metadata": {},
   "outputs": [
    {
     "name": "stdout",
     "output_type": "stream",
     "text": [
      "Training set: 1073 samples, Testing set: 461 samples\n"
     ]
    },
    {
     "data": {
      "text/html": [
       "<style>#sk-container-id-6 {\n",
       "  /* Definition of color scheme common for light and dark mode */\n",
       "  --sklearn-color-text: black;\n",
       "  --sklearn-color-line: gray;\n",
       "  /* Definition of color scheme for unfitted estimators */\n",
       "  --sklearn-color-unfitted-level-0: #fff5e6;\n",
       "  --sklearn-color-unfitted-level-1: #f6e4d2;\n",
       "  --sklearn-color-unfitted-level-2: #ffe0b3;\n",
       "  --sklearn-color-unfitted-level-3: chocolate;\n",
       "  /* Definition of color scheme for fitted estimators */\n",
       "  --sklearn-color-fitted-level-0: #f0f8ff;\n",
       "  --sklearn-color-fitted-level-1: #d4ebff;\n",
       "  --sklearn-color-fitted-level-2: #b3dbfd;\n",
       "  --sklearn-color-fitted-level-3: cornflowerblue;\n",
       "\n",
       "  /* Specific color for light theme */\n",
       "  --sklearn-color-text-on-default-background: var(--sg-text-color, var(--theme-code-foreground, var(--jp-content-font-color1, black)));\n",
       "  --sklearn-color-background: var(--sg-background-color, var(--theme-background, var(--jp-layout-color0, white)));\n",
       "  --sklearn-color-border-box: var(--sg-text-color, var(--theme-code-foreground, var(--jp-content-font-color1, black)));\n",
       "  --sklearn-color-icon: #696969;\n",
       "\n",
       "  @media (prefers-color-scheme: dark) {\n",
       "    /* Redefinition of color scheme for dark theme */\n",
       "    --sklearn-color-text-on-default-background: var(--sg-text-color, var(--theme-code-foreground, var(--jp-content-font-color1, white)));\n",
       "    --sklearn-color-background: var(--sg-background-color, var(--theme-background, var(--jp-layout-color0, #111)));\n",
       "    --sklearn-color-border-box: var(--sg-text-color, var(--theme-code-foreground, var(--jp-content-font-color1, white)));\n",
       "    --sklearn-color-icon: #878787;\n",
       "  }\n",
       "}\n",
       "\n",
       "#sk-container-id-6 {\n",
       "  color: var(--sklearn-color-text);\n",
       "}\n",
       "\n",
       "#sk-container-id-6 pre {\n",
       "  padding: 0;\n",
       "}\n",
       "\n",
       "#sk-container-id-6 input.sk-hidden--visually {\n",
       "  border: 0;\n",
       "  clip: rect(1px 1px 1px 1px);\n",
       "  clip: rect(1px, 1px, 1px, 1px);\n",
       "  height: 1px;\n",
       "  margin: -1px;\n",
       "  overflow: hidden;\n",
       "  padding: 0;\n",
       "  position: absolute;\n",
       "  width: 1px;\n",
       "}\n",
       "\n",
       "#sk-container-id-6 div.sk-dashed-wrapped {\n",
       "  border: 1px dashed var(--sklearn-color-line);\n",
       "  margin: 0 0.4em 0.5em 0.4em;\n",
       "  box-sizing: border-box;\n",
       "  padding-bottom: 0.4em;\n",
       "  background-color: var(--sklearn-color-background);\n",
       "}\n",
       "\n",
       "#sk-container-id-6 div.sk-container {\n",
       "  /* jupyter's `normalize.less` sets `[hidden] { display: none; }`\n",
       "     but bootstrap.min.css set `[hidden] { display: none !important; }`\n",
       "     so we also need the `!important` here to be able to override the\n",
       "     default hidden behavior on the sphinx rendered scikit-learn.org.\n",
       "     See: https://github.com/scikit-learn/scikit-learn/issues/21755 */\n",
       "  display: inline-block !important;\n",
       "  position: relative;\n",
       "}\n",
       "\n",
       "#sk-container-id-6 div.sk-text-repr-fallback {\n",
       "  display: none;\n",
       "}\n",
       "\n",
       "div.sk-parallel-item,\n",
       "div.sk-serial,\n",
       "div.sk-item {\n",
       "  /* draw centered vertical line to link estimators */\n",
       "  background-image: linear-gradient(var(--sklearn-color-text-on-default-background), var(--sklearn-color-text-on-default-background));\n",
       "  background-size: 2px 100%;\n",
       "  background-repeat: no-repeat;\n",
       "  background-position: center center;\n",
       "}\n",
       "\n",
       "/* Parallel-specific style estimator block */\n",
       "\n",
       "#sk-container-id-6 div.sk-parallel-item::after {\n",
       "  content: \"\";\n",
       "  width: 100%;\n",
       "  border-bottom: 2px solid var(--sklearn-color-text-on-default-background);\n",
       "  flex-grow: 1;\n",
       "}\n",
       "\n",
       "#sk-container-id-6 div.sk-parallel {\n",
       "  display: flex;\n",
       "  align-items: stretch;\n",
       "  justify-content: center;\n",
       "  background-color: var(--sklearn-color-background);\n",
       "  position: relative;\n",
       "}\n",
       "\n",
       "#sk-container-id-6 div.sk-parallel-item {\n",
       "  display: flex;\n",
       "  flex-direction: column;\n",
       "}\n",
       "\n",
       "#sk-container-id-6 div.sk-parallel-item:first-child::after {\n",
       "  align-self: flex-end;\n",
       "  width: 50%;\n",
       "}\n",
       "\n",
       "#sk-container-id-6 div.sk-parallel-item:last-child::after {\n",
       "  align-self: flex-start;\n",
       "  width: 50%;\n",
       "}\n",
       "\n",
       "#sk-container-id-6 div.sk-parallel-item:only-child::after {\n",
       "  width: 0;\n",
       "}\n",
       "\n",
       "/* Serial-specific style estimator block */\n",
       "\n",
       "#sk-container-id-6 div.sk-serial {\n",
       "  display: flex;\n",
       "  flex-direction: column;\n",
       "  align-items: center;\n",
       "  background-color: var(--sklearn-color-background);\n",
       "  padding-right: 1em;\n",
       "  padding-left: 1em;\n",
       "}\n",
       "\n",
       "\n",
       "/* Toggleable style: style used for estimator/Pipeline/ColumnTransformer box that is\n",
       "clickable and can be expanded/collapsed.\n",
       "- Pipeline and ColumnTransformer use this feature and define the default style\n",
       "- Estimators will overwrite some part of the style using the `sk-estimator` class\n",
       "*/\n",
       "\n",
       "/* Pipeline and ColumnTransformer style (default) */\n",
       "\n",
       "#sk-container-id-6 div.sk-toggleable {\n",
       "  /* Default theme specific background. It is overwritten whether we have a\n",
       "  specific estimator or a Pipeline/ColumnTransformer */\n",
       "  background-color: var(--sklearn-color-background);\n",
       "}\n",
       "\n",
       "/* Toggleable label */\n",
       "#sk-container-id-6 label.sk-toggleable__label {\n",
       "  cursor: pointer;\n",
       "  display: block;\n",
       "  width: 100%;\n",
       "  margin-bottom: 0;\n",
       "  padding: 0.5em;\n",
       "  box-sizing: border-box;\n",
       "  text-align: center;\n",
       "}\n",
       "\n",
       "#sk-container-id-6 label.sk-toggleable__label-arrow:before {\n",
       "  /* Arrow on the left of the label */\n",
       "  content: \"▸\";\n",
       "  float: left;\n",
       "  margin-right: 0.25em;\n",
       "  color: var(--sklearn-color-icon);\n",
       "}\n",
       "\n",
       "#sk-container-id-6 label.sk-toggleable__label-arrow:hover:before {\n",
       "  color: var(--sklearn-color-text);\n",
       "}\n",
       "\n",
       "/* Toggleable content - dropdown */\n",
       "\n",
       "#sk-container-id-6 div.sk-toggleable__content {\n",
       "  max-height: 0;\n",
       "  max-width: 0;\n",
       "  overflow: hidden;\n",
       "  text-align: left;\n",
       "  /* unfitted */\n",
       "  background-color: var(--sklearn-color-unfitted-level-0);\n",
       "}\n",
       "\n",
       "#sk-container-id-6 div.sk-toggleable__content.fitted {\n",
       "  /* fitted */\n",
       "  background-color: var(--sklearn-color-fitted-level-0);\n",
       "}\n",
       "\n",
       "#sk-container-id-6 div.sk-toggleable__content pre {\n",
       "  margin: 0.2em;\n",
       "  border-radius: 0.25em;\n",
       "  color: var(--sklearn-color-text);\n",
       "  /* unfitted */\n",
       "  background-color: var(--sklearn-color-unfitted-level-0);\n",
       "}\n",
       "\n",
       "#sk-container-id-6 div.sk-toggleable__content.fitted pre {\n",
       "  /* unfitted */\n",
       "  background-color: var(--sklearn-color-fitted-level-0);\n",
       "}\n",
       "\n",
       "#sk-container-id-6 input.sk-toggleable__control:checked~div.sk-toggleable__content {\n",
       "  /* Expand drop-down */\n",
       "  max-height: 200px;\n",
       "  max-width: 100%;\n",
       "  overflow: auto;\n",
       "}\n",
       "\n",
       "#sk-container-id-6 input.sk-toggleable__control:checked~label.sk-toggleable__label-arrow:before {\n",
       "  content: \"▾\";\n",
       "}\n",
       "\n",
       "/* Pipeline/ColumnTransformer-specific style */\n",
       "\n",
       "#sk-container-id-6 div.sk-label input.sk-toggleable__control:checked~label.sk-toggleable__label {\n",
       "  color: var(--sklearn-color-text);\n",
       "  background-color: var(--sklearn-color-unfitted-level-2);\n",
       "}\n",
       "\n",
       "#sk-container-id-6 div.sk-label.fitted input.sk-toggleable__control:checked~label.sk-toggleable__label {\n",
       "  background-color: var(--sklearn-color-fitted-level-2);\n",
       "}\n",
       "\n",
       "/* Estimator-specific style */\n",
       "\n",
       "/* Colorize estimator box */\n",
       "#sk-container-id-6 div.sk-estimator input.sk-toggleable__control:checked~label.sk-toggleable__label {\n",
       "  /* unfitted */\n",
       "  background-color: var(--sklearn-color-unfitted-level-2);\n",
       "}\n",
       "\n",
       "#sk-container-id-6 div.sk-estimator.fitted input.sk-toggleable__control:checked~label.sk-toggleable__label {\n",
       "  /* fitted */\n",
       "  background-color: var(--sklearn-color-fitted-level-2);\n",
       "}\n",
       "\n",
       "#sk-container-id-6 div.sk-label label.sk-toggleable__label,\n",
       "#sk-container-id-6 div.sk-label label {\n",
       "  /* The background is the default theme color */\n",
       "  color: var(--sklearn-color-text-on-default-background);\n",
       "}\n",
       "\n",
       "/* On hover, darken the color of the background */\n",
       "#sk-container-id-6 div.sk-label:hover label.sk-toggleable__label {\n",
       "  color: var(--sklearn-color-text);\n",
       "  background-color: var(--sklearn-color-unfitted-level-2);\n",
       "}\n",
       "\n",
       "/* Label box, darken color on hover, fitted */\n",
       "#sk-container-id-6 div.sk-label.fitted:hover label.sk-toggleable__label.fitted {\n",
       "  color: var(--sklearn-color-text);\n",
       "  background-color: var(--sklearn-color-fitted-level-2);\n",
       "}\n",
       "\n",
       "/* Estimator label */\n",
       "\n",
       "#sk-container-id-6 div.sk-label label {\n",
       "  font-family: monospace;\n",
       "  font-weight: bold;\n",
       "  display: inline-block;\n",
       "  line-height: 1.2em;\n",
       "}\n",
       "\n",
       "#sk-container-id-6 div.sk-label-container {\n",
       "  text-align: center;\n",
       "}\n",
       "\n",
       "/* Estimator-specific */\n",
       "#sk-container-id-6 div.sk-estimator {\n",
       "  font-family: monospace;\n",
       "  border: 1px dotted var(--sklearn-color-border-box);\n",
       "  border-radius: 0.25em;\n",
       "  box-sizing: border-box;\n",
       "  margin-bottom: 0.5em;\n",
       "  /* unfitted */\n",
       "  background-color: var(--sklearn-color-unfitted-level-0);\n",
       "}\n",
       "\n",
       "#sk-container-id-6 div.sk-estimator.fitted {\n",
       "  /* fitted */\n",
       "  background-color: var(--sklearn-color-fitted-level-0);\n",
       "}\n",
       "\n",
       "/* on hover */\n",
       "#sk-container-id-6 div.sk-estimator:hover {\n",
       "  /* unfitted */\n",
       "  background-color: var(--sklearn-color-unfitted-level-2);\n",
       "}\n",
       "\n",
       "#sk-container-id-6 div.sk-estimator.fitted:hover {\n",
       "  /* fitted */\n",
       "  background-color: var(--sklearn-color-fitted-level-2);\n",
       "}\n",
       "\n",
       "/* Specification for estimator info (e.g. \"i\" and \"?\") */\n",
       "\n",
       "/* Common style for \"i\" and \"?\" */\n",
       "\n",
       ".sk-estimator-doc-link,\n",
       "a:link.sk-estimator-doc-link,\n",
       "a:visited.sk-estimator-doc-link {\n",
       "  float: right;\n",
       "  font-size: smaller;\n",
       "  line-height: 1em;\n",
       "  font-family: monospace;\n",
       "  background-color: var(--sklearn-color-background);\n",
       "  border-radius: 1em;\n",
       "  height: 1em;\n",
       "  width: 1em;\n",
       "  text-decoration: none !important;\n",
       "  margin-left: 1ex;\n",
       "  /* unfitted */\n",
       "  border: var(--sklearn-color-unfitted-level-1) 1pt solid;\n",
       "  color: var(--sklearn-color-unfitted-level-1);\n",
       "}\n",
       "\n",
       ".sk-estimator-doc-link.fitted,\n",
       "a:link.sk-estimator-doc-link.fitted,\n",
       "a:visited.sk-estimator-doc-link.fitted {\n",
       "  /* fitted */\n",
       "  border: var(--sklearn-color-fitted-level-1) 1pt solid;\n",
       "  color: var(--sklearn-color-fitted-level-1);\n",
       "}\n",
       "\n",
       "/* On hover */\n",
       "div.sk-estimator:hover .sk-estimator-doc-link:hover,\n",
       ".sk-estimator-doc-link:hover,\n",
       "div.sk-label-container:hover .sk-estimator-doc-link:hover,\n",
       ".sk-estimator-doc-link:hover {\n",
       "  /* unfitted */\n",
       "  background-color: var(--sklearn-color-unfitted-level-3);\n",
       "  color: var(--sklearn-color-background);\n",
       "  text-decoration: none;\n",
       "}\n",
       "\n",
       "div.sk-estimator.fitted:hover .sk-estimator-doc-link.fitted:hover,\n",
       ".sk-estimator-doc-link.fitted:hover,\n",
       "div.sk-label-container:hover .sk-estimator-doc-link.fitted:hover,\n",
       ".sk-estimator-doc-link.fitted:hover {\n",
       "  /* fitted */\n",
       "  background-color: var(--sklearn-color-fitted-level-3);\n",
       "  color: var(--sklearn-color-background);\n",
       "  text-decoration: none;\n",
       "}\n",
       "\n",
       "/* Span, style for the box shown on hovering the info icon */\n",
       ".sk-estimator-doc-link span {\n",
       "  display: none;\n",
       "  z-index: 9999;\n",
       "  position: relative;\n",
       "  font-weight: normal;\n",
       "  right: .2ex;\n",
       "  padding: .5ex;\n",
       "  margin: .5ex;\n",
       "  width: min-content;\n",
       "  min-width: 20ex;\n",
       "  max-width: 50ex;\n",
       "  color: var(--sklearn-color-text);\n",
       "  box-shadow: 2pt 2pt 4pt #999;\n",
       "  /* unfitted */\n",
       "  background: var(--sklearn-color-unfitted-level-0);\n",
       "  border: .5pt solid var(--sklearn-color-unfitted-level-3);\n",
       "}\n",
       "\n",
       ".sk-estimator-doc-link.fitted span {\n",
       "  /* fitted */\n",
       "  background: var(--sklearn-color-fitted-level-0);\n",
       "  border: var(--sklearn-color-fitted-level-3);\n",
       "}\n",
       "\n",
       ".sk-estimator-doc-link:hover span {\n",
       "  display: block;\n",
       "}\n",
       "\n",
       "/* \"?\"-specific style due to the `<a>` HTML tag */\n",
       "\n",
       "#sk-container-id-6 a.estimator_doc_link {\n",
       "  float: right;\n",
       "  font-size: 1rem;\n",
       "  line-height: 1em;\n",
       "  font-family: monospace;\n",
       "  background-color: var(--sklearn-color-background);\n",
       "  border-radius: 1rem;\n",
       "  height: 1rem;\n",
       "  width: 1rem;\n",
       "  text-decoration: none;\n",
       "  /* unfitted */\n",
       "  color: var(--sklearn-color-unfitted-level-1);\n",
       "  border: var(--sklearn-color-unfitted-level-1) 1pt solid;\n",
       "}\n",
       "\n",
       "#sk-container-id-6 a.estimator_doc_link.fitted {\n",
       "  /* fitted */\n",
       "  border: var(--sklearn-color-fitted-level-1) 1pt solid;\n",
       "  color: var(--sklearn-color-fitted-level-1);\n",
       "}\n",
       "\n",
       "/* On hover */\n",
       "#sk-container-id-6 a.estimator_doc_link:hover {\n",
       "  /* unfitted */\n",
       "  background-color: var(--sklearn-color-unfitted-level-3);\n",
       "  color: var(--sklearn-color-background);\n",
       "  text-decoration: none;\n",
       "}\n",
       "\n",
       "#sk-container-id-6 a.estimator_doc_link.fitted:hover {\n",
       "  /* fitted */\n",
       "  background-color: var(--sklearn-color-fitted-level-3);\n",
       "}\n",
       "</style><div id=\"sk-container-id-6\" class=\"sk-top-container\"><div class=\"sk-text-repr-fallback\"><pre>GridSearchCV(cv=5,\n",
       "             estimator=Pipeline(steps=[(&#x27;scaler&#x27;, StandardScaler()),\n",
       "                                       (&#x27;classifier&#x27;, SVC())]),\n",
       "             param_grid={&#x27;classifier__C&#x27;: [0.01, 0.1, 1, 10, 100],\n",
       "                         &#x27;classifier__gamma&#x27;: [0.001, 0.01, 0.1, 1],\n",
       "                         &#x27;classifier__kernel&#x27;: [&#x27;rbf&#x27;],\n",
       "                         &#x27;scaler&#x27;: [StandardScaler(), RobustScaler(), None]},\n",
       "             return_train_score=True, scoring=&#x27;accuracy&#x27;)</pre><b>In a Jupyter environment, please rerun this cell to show the HTML representation or trust the notebook. <br />On GitHub, the HTML representation is unable to render, please try loading this page with nbviewer.org.</b></div><div class=\"sk-container\" hidden><div class=\"sk-item sk-dashed-wrapped\"><div class=\"sk-label-container\"><div class=\"sk-label fitted sk-toggleable\"><input class=\"sk-toggleable__control sk-hidden--visually\" id=\"sk-estimator-id-21\" type=\"checkbox\" ><label for=\"sk-estimator-id-21\" class=\"sk-toggleable__label fitted sk-toggleable__label-arrow fitted\">&nbsp;&nbsp;GridSearchCV<a class=\"sk-estimator-doc-link fitted\" rel=\"noreferrer\" target=\"_blank\" href=\"https://scikit-learn.org/1.5/modules/generated/sklearn.model_selection.GridSearchCV.html\">?<span>Documentation for GridSearchCV</span></a><span class=\"sk-estimator-doc-link fitted\">i<span>Fitted</span></span></label><div class=\"sk-toggleable__content fitted\"><pre>GridSearchCV(cv=5,\n",
       "             estimator=Pipeline(steps=[(&#x27;scaler&#x27;, StandardScaler()),\n",
       "                                       (&#x27;classifier&#x27;, SVC())]),\n",
       "             param_grid={&#x27;classifier__C&#x27;: [0.01, 0.1, 1, 10, 100],\n",
       "                         &#x27;classifier__gamma&#x27;: [0.001, 0.01, 0.1, 1],\n",
       "                         &#x27;classifier__kernel&#x27;: [&#x27;rbf&#x27;],\n",
       "                         &#x27;scaler&#x27;: [StandardScaler(), RobustScaler(), None]},\n",
       "             return_train_score=True, scoring=&#x27;accuracy&#x27;)</pre></div> </div></div><div class=\"sk-parallel\"><div class=\"sk-parallel-item\"><div class=\"sk-item\"><div class=\"sk-label-container\"><div class=\"sk-label fitted sk-toggleable\"><input class=\"sk-toggleable__control sk-hidden--visually\" id=\"sk-estimator-id-22\" type=\"checkbox\" ><label for=\"sk-estimator-id-22\" class=\"sk-toggleable__label fitted sk-toggleable__label-arrow fitted\">best_estimator_: Pipeline</label><div class=\"sk-toggleable__content fitted\"><pre>Pipeline(steps=[(&#x27;scaler&#x27;, RobustScaler()),\n",
       "                (&#x27;classifier&#x27;, SVC(C=100, gamma=0.01))])</pre></div> </div></div><div class=\"sk-serial\"><div class=\"sk-item\"><div class=\"sk-serial\"><div class=\"sk-item\"><div class=\"sk-estimator fitted sk-toggleable\"><input class=\"sk-toggleable__control sk-hidden--visually\" id=\"sk-estimator-id-23\" type=\"checkbox\" ><label for=\"sk-estimator-id-23\" class=\"sk-toggleable__label fitted sk-toggleable__label-arrow fitted\">&nbsp;RobustScaler<a class=\"sk-estimator-doc-link fitted\" rel=\"noreferrer\" target=\"_blank\" href=\"https://scikit-learn.org/1.5/modules/generated/sklearn.preprocessing.RobustScaler.html\">?<span>Documentation for RobustScaler</span></a></label><div class=\"sk-toggleable__content fitted\"><pre>RobustScaler()</pre></div> </div></div><div class=\"sk-item\"><div class=\"sk-estimator fitted sk-toggleable\"><input class=\"sk-toggleable__control sk-hidden--visually\" id=\"sk-estimator-id-24\" type=\"checkbox\" ><label for=\"sk-estimator-id-24\" class=\"sk-toggleable__label fitted sk-toggleable__label-arrow fitted\">&nbsp;SVC<a class=\"sk-estimator-doc-link fitted\" rel=\"noreferrer\" target=\"_blank\" href=\"https://scikit-learn.org/1.5/modules/generated/sklearn.svm.SVC.html\">?<span>Documentation for SVC</span></a></label><div class=\"sk-toggleable__content fitted\"><pre>SVC(C=100, gamma=0.01)</pre></div> </div></div></div></div></div></div></div></div></div></div></div>"
      ],
      "text/plain": [
       "GridSearchCV(cv=5,\n",
       "             estimator=Pipeline(steps=[('scaler', StandardScaler()),\n",
       "                                       ('classifier', SVC())]),\n",
       "             param_grid={'classifier__C': [0.01, 0.1, 1, 10, 100],\n",
       "                         'classifier__gamma': [0.001, 0.01, 0.1, 1],\n",
       "                         'classifier__kernel': ['rbf'],\n",
       "                         'scaler': [StandardScaler(), RobustScaler(), None]},\n",
       "             return_train_score=True, scoring='accuracy')"
      ]
     },
     "execution_count": 57,
     "metadata": {},
     "output_type": "execute_result"
    }
   ],
   "source": [
    "# TODO - Perform model training and tuning using `GridSearchCV`\n",
    "\n",
    "# Perform test/train split\n",
    "X_train, X_test, y_train, y_test = train_test_split(\n",
    "    X, y, test_size=0.30, random_state=42, stratify=y\n",
    ")\n",
    "print(f\"Training set: {X_train.shape[0]} samples, Testing set: {X_test.shape[0]} samples\")\n",
    "\n",
    "# Initialize Pipeline into variable pipe\n",
    "pipe = Pipeline([\n",
    "    ('scaler', StandardScaler()),  # Default scaler\n",
    "    ('classifier', SVC())  # Default classifier\n",
    "])\n",
    "\n",
    "# Setup grid set\n",
    "param_grid = {\n",
    "    'scaler': [StandardScaler(), RobustScaler(), None],\n",
    "    'classifier__C': [0.01, 0.1, 1, 10, 100],\n",
    "    'classifier__gamma': [0.001, 0.01, 0.1, 1],\n",
    "    'classifier__kernel': ['rbf']  # Radial Basis Function\n",
    "}\n",
    "\n",
    "# Perform the grid search to train model and tune hyperparameters\n",
    "grid = GridSearchCV(pipe, param_grid, cv=5, scoring='accuracy', return_train_score=True)\n",
    "grid.fit(X_train, y_train)"
   ]
  },
  {
   "cell_type": "markdown",
   "metadata": {},
   "source": [
    "___"
   ]
  },
  {
   "cell_type": "markdown",
   "metadata": {},
   "source": [
    "#### 3.1.3 - Visualize Grid Search Results"
   ]
  },
  {
   "cell_type": "markdown",
   "metadata": {},
   "source": [
    "Print the results from the grid search. The following outputs must be printed.\n",
    "* Best parameter set\n",
    "* Best cross-validation train score\n",
    "* Best cross-validation test score\n",
    "* Test set accuracy"
   ]
  },
  {
   "cell_type": "code",
   "execution_count": 58,
   "metadata": {},
   "outputs": [
    {
     "name": "stdout",
     "output_type": "stream",
     "text": [
      "Best params:\n",
      "{'classifier__C': 100, 'classifier__gamma': 0.01, 'classifier__kernel': 'rbf', 'scaler': RobustScaler()}\n",
      "\n",
      "Best cross-validation train score: 0.97\n",
      "Best cross-validation validation score: 0.90\n",
      "Test-set score: 0.93\n"
     ]
    }
   ],
   "source": [
    "# TODO: Print the results from the grid search\n",
    "\n",
    "print(\"Best params:\\n{}\\n\".format(grid.best_params_))\n",
    "print(\"Best cross-validation train score: {:.2f}\".format(max(grid.cv_results_['mean_train_score'])))\n",
    "print(\"Best cross-validation validation score: {:.2f}\".format(grid.best_score_))\n",
    "\n",
    "test_set_score = accuracy_score(y_test, grid.best_estimator_.predict(X_test))\n",
    "print(\"Test-set score: {:.2f}\".format(test_set_score))"
   ]
  },
  {
   "cell_type": "markdown",
   "metadata": {},
   "source": [
    "Display the confusion matrix and print the classification report for the trained model using the *test* split. "
   ]
  },
  {
   "cell_type": "code",
   "execution_count": 59,
   "metadata": {},
   "outputs": [
    {
     "name": "stdout",
     "output_type": "stream",
     "text": [
      "\n",
      "Confusion Matrix:\n",
      "[[154   1   0]\n",
      " [ 20 184   3]\n",
      " [  0   9  90]]\n",
      "\n",
      "Classification Report:\n",
      "              precision    recall  f1-score   support\n",
      "\n",
      "        rest       0.89      0.99      0.94       155\n",
      "    straight       0.95      0.89      0.92       207\n",
      "        turn       0.97      0.91      0.94        99\n",
      "\n",
      "    accuracy                           0.93       461\n",
      "   macro avg       0.93      0.93      0.93       461\n",
      "weighted avg       0.93      0.93      0.93       461\n",
      "\n"
     ]
    }
   ],
   "source": [
    "# TODO - Display confusion matrix and print classification report\n",
    "y_pred = grid.best_estimator_.predict(X_test)\n",
    "\n",
    "print(\"\\nConfusion Matrix:\")\n",
    "print(confusion_matrix(y_test, y_pred))\n",
    "\n",
    "print(\"\\nClassification Report:\")\n",
    "print(classification_report(y_test, y_pred))"
   ]
  },
  {
   "cell_type": "markdown",
   "metadata": {},
   "source": [
    "___"
   ]
  },
  {
   "cell_type": "markdown",
   "metadata": {},
   "source": [
    "### 3.2 - Model Evaluation on Test Datasets 1 and 2 (6 Marks)"
   ]
  },
  {
   "cell_type": "markdown",
   "metadata": {},
   "source": [
    "___"
   ]
  },
  {
   "cell_type": "markdown",
   "metadata": {},
   "source": [
    "#### 3.2.1 - Extract group selected features and targets from test datasets"
   ]
  },
  {
   "cell_type": "markdown",
   "metadata": {},
   "source": [
    "The model trained in 3.1 is to be tested on the independent datasets, that is test_set1 and test_set2. \n",
    "Seperate the testsets into group selected features and target vectors *(X1, y1)* and *(X2,y2)*"
   ]
  },
  {
   "cell_type": "code",
   "execution_count": 60,
   "metadata": {},
   "outputs": [
    {
     "data": {
      "text/html": [
       "<div>\n",
       "<style scoped>\n",
       "    .dataframe tbody tr th:only-of-type {\n",
       "        vertical-align: middle;\n",
       "    }\n",
       "\n",
       "    .dataframe tbody tr th {\n",
       "        vertical-align: top;\n",
       "    }\n",
       "\n",
       "    .dataframe thead th {\n",
       "        text-align: right;\n",
       "    }\n",
       "</style>\n",
       "<table border=\"1\" class=\"dataframe\">\n",
       "  <thead>\n",
       "    <tr style=\"text-align: right;\">\n",
       "      <th></th>\n",
       "      <th>ax_var</th>\n",
       "      <th>ay_var</th>\n",
       "      <th>az_sum</th>\n",
       "      <th>g_sum</th>\n",
       "      <th>a_var</th>\n",
       "    </tr>\n",
       "  </thead>\n",
       "  <tbody>\n",
       "    <tr>\n",
       "      <th>0</th>\n",
       "      <td>0.000001</td>\n",
       "      <td>7.749919e-08</td>\n",
       "      <td>9.786930</td>\n",
       "      <td>0.025634</td>\n",
       "      <td>3.437614e-08</td>\n",
       "    </tr>\n",
       "    <tr>\n",
       "      <th>1</th>\n",
       "      <td>0.000001</td>\n",
       "      <td>9.243000e-08</td>\n",
       "      <td>9.788127</td>\n",
       "      <td>0.025218</td>\n",
       "      <td>3.613404e-08</td>\n",
       "    </tr>\n",
       "  </tbody>\n",
       "</table>\n",
       "</div>"
      ],
      "text/plain": [
       "     ax_var        ay_var    az_sum     g_sum         a_var\n",
       "0  0.000001  7.749919e-08  9.786930  0.025634  3.437614e-08\n",
       "1  0.000001  9.243000e-08  9.788127  0.025218  3.613404e-08"
      ]
     },
     "execution_count": 60,
     "metadata": {},
     "output_type": "execute_result"
    }
   ],
   "source": [
    "# TODO - Load the target vector from test_set1 into y1, and the group selected features from test_set1 into X1\n",
    "selected_features = ['ax_var', 'ay_var', 'az_sum', 'g_sum', 'a_var']\n",
    "y1 = test_set1['motion_state']\n",
    "X1 = test_set1[selected_features]\n",
    "X1.head(2)"
   ]
  },
  {
   "cell_type": "code",
   "execution_count": 61,
   "metadata": {},
   "outputs": [
    {
     "data": {
      "text/html": [
       "<div>\n",
       "<style scoped>\n",
       "    .dataframe tbody tr th:only-of-type {\n",
       "        vertical-align: middle;\n",
       "    }\n",
       "\n",
       "    .dataframe tbody tr th {\n",
       "        vertical-align: top;\n",
       "    }\n",
       "\n",
       "    .dataframe thead th {\n",
       "        text-align: right;\n",
       "    }\n",
       "</style>\n",
       "<table border=\"1\" class=\"dataframe\">\n",
       "  <thead>\n",
       "    <tr style=\"text-align: right;\">\n",
       "      <th></th>\n",
       "      <th>ax_var</th>\n",
       "      <th>ay_var</th>\n",
       "      <th>az_sum</th>\n",
       "      <th>g_sum</th>\n",
       "      <th>a_var</th>\n",
       "    </tr>\n",
       "  </thead>\n",
       "  <tbody>\n",
       "    <tr>\n",
       "      <th>0</th>\n",
       "      <td>0.000002</td>\n",
       "      <td>3.020959e-07</td>\n",
       "      <td>9.791451</td>\n",
       "      <td>0.012437</td>\n",
       "      <td>6.614559e-08</td>\n",
       "    </tr>\n",
       "    <tr>\n",
       "      <th>1</th>\n",
       "      <td>0.000003</td>\n",
       "      <td>6.859937e-07</td>\n",
       "      <td>9.785619</td>\n",
       "      <td>0.013805</td>\n",
       "      <td>3.344639e-07</td>\n",
       "    </tr>\n",
       "  </tbody>\n",
       "</table>\n",
       "</div>"
      ],
      "text/plain": [
       "     ax_var        ay_var    az_sum     g_sum         a_var\n",
       "0  0.000002  3.020959e-07  9.791451  0.012437  6.614559e-08\n",
       "1  0.000003  6.859937e-07  9.785619  0.013805  3.344639e-07"
      ]
     },
     "execution_count": 61,
     "metadata": {},
     "output_type": "execute_result"
    }
   ],
   "source": [
    "# TODO - Load the target vector from test_set2 into y2, and the group selected features from test_set2 into X2\n",
    "y2 = test_set2['motion_state']\n",
    "X2 = test_set2[selected_features]\n",
    "X2.head(2)"
   ]
  },
  {
   "cell_type": "markdown",
   "metadata": {},
   "source": [
    "___"
   ]
  },
  {
   "cell_type": "markdown",
   "metadata": {},
   "source": [
    "#### 3.2.2 - Visualize Results"
   ]
  },
  {
   "cell_type": "markdown",
   "metadata": {},
   "source": [
    "For each test dataset, print the test set accuracy score. "
   ]
  },
  {
   "cell_type": "code",
   "execution_count": 62,
   "metadata": {},
   "outputs": [
    {
     "name": "stdout",
     "output_type": "stream",
     "text": [
      "test_set1 score: 0.80\n",
      "test_set2 score: 0.88\n"
     ]
    }
   ],
   "source": [
    "# TODO - Print test score accuracies for test_set1 and test_set2\n",
    "test_set1_score = accuracy_score(y1, grid.best_estimator_.predict(X1))\n",
    "test_set2_score = accuracy_score(y2, grid.best_estimator_.predict(X2))\n",
    "\n",
    "print(\"test_set1 score: {:.2f}\".format(test_set1_score))\n",
    "print(\"test_set2 score: {:.2f}\".format(test_set2_score))"
   ]
  },
  {
   "cell_type": "markdown",
   "metadata": {},
   "source": [
    "Display the confusion matrix and print the classification for test_set 1 *(X1, y1)*"
   ]
  },
  {
   "cell_type": "code",
   "execution_count": 63,
   "metadata": {},
   "outputs": [
    {
     "name": "stdout",
     "output_type": "stream",
     "text": [
      "\n",
      "Confusion Matrix for test_set1:\n",
      "[[141  90   0]\n",
      " [ 12 377  22]\n",
      " [  0  33 108]]\n",
      "\n",
      "Classification Report for test_set1:\n",
      "              precision    recall  f1-score   support\n",
      "\n",
      "        rest       0.92      0.61      0.73       231\n",
      "    straight       0.75      0.92      0.83       411\n",
      "        turn       0.83      0.77      0.80       141\n",
      "\n",
      "    accuracy                           0.80       783\n",
      "   macro avg       0.84      0.76      0.79       783\n",
      "weighted avg       0.82      0.80      0.79       783\n",
      "\n"
     ]
    }
   ],
   "source": [
    "# TODO - Display confusion matrix and print classification report for (X1, y1)\n",
    "y1_pred = grid.best_estimator_.predict(X1)\n",
    "print(\"\\nConfusion Matrix for test_set1:\")\n",
    "print(confusion_matrix(y1, y1_pred))\n",
    "\n",
    "print(\"\\nClassification Report for test_set1:\")\n",
    "print(classification_report(y1, y1_pred))"
   ]
  },
  {
   "cell_type": "markdown",
   "metadata": {},
   "source": [
    "Display the confusion matrix and print the classification for test_set 2 *(X2, y2)*"
   ]
  },
  {
   "cell_type": "code",
   "execution_count": 64,
   "metadata": {},
   "outputs": [
    {
     "name": "stdout",
     "output_type": "stream",
     "text": [
      "\n",
      "Confusion Matrix for test_set2:\n",
      "[[  6  10   0]\n",
      " [  0 202   4]\n",
      " [  0  21  54]]\n",
      "\n",
      "Classification Report for test_set2:\n",
      "              precision    recall  f1-score   support\n",
      "\n",
      "        rest       1.00      0.38      0.55        16\n",
      "    straight       0.87      0.98      0.92       206\n",
      "        turn       0.93      0.72      0.81        75\n",
      "\n",
      "    accuracy                           0.88       297\n",
      "   macro avg       0.93      0.69      0.76       297\n",
      "weighted avg       0.89      0.88      0.87       297\n",
      "\n"
     ]
    }
   ],
   "source": [
    "# TODO - Display confusion matrix and print classification report for (X2, y2)\n",
    "y2_pred = grid.best_estimator_.predict(X2)\n",
    "print(\"\\nConfusion Matrix for test_set2:\")\n",
    "print(confusion_matrix(y2, y2_pred))\n",
    "\n",
    "print(\"\\nClassification Report for test_set2:\")\n",
    "print(classification_report(y2, y2_pred))"
   ]
  },
  {
   "cell_type": "markdown",
   "metadata": {},
   "source": [
    "___"
   ]
  },
  {
   "cell_type": "markdown",
   "metadata": {},
   "source": [
    "#### 3.2.3 Questions"
   ]
  },
  {
   "cell_type": "markdown",
   "metadata": {},
   "source": [
    "1. Based on the observations across all three datasets, compare the performance of the model trained in this section to: (3 marks)\n",
    "    1. Model trained in Section 1 using *all features*.\n",
    "    1. Model trained in Section 2 using *selected features*. \n",
    "\n",
    "2. Please proivde potential explanations for the differences observed in models' performances across the three sections. (3 marks)"
   ]
  },
  {
   "cell_type": "markdown",
   "metadata": {},
   "source": [
    "#### 3.2.3 Answers\n",
    "1. Performance Comparison\n",
    "    1. Model Section 1 vs Section 3\n",
    "        \n",
    "        **Training/Validation Data:**\n",
    "        - Validation Accuracy: Section 1 (0.95) was greater than Section 3 (0.90)\n",
    "        - Test Accuracy: Section 1 (0.96) was greater than Section 3 (0.93)\n",
    "\n",
    "        **Test Set 1:**\n",
    "        - Section 1 had a higher accuracy of 0.92 compared to Section 3 with an accuracy of 0.80\n",
    "        - Section 1 had a strong classification of \"rest\" and \"straight,\" with minor errors in \"turn.\"\n",
    "        - Section 3 struggled with \"rest\" (precision = 0.92, recall = 0.61) \n",
    "\n",
    "        **Test Set 2:**\n",
    "        - Section 3 had a significantly higher accuracy of 0.88 compared to Section 1 with an accuracy of 0.25\n",
    "        - Section 1 was unable to classify \"rest\" and \"straight.\"\n",
    "        - Section 3 had high precision for \"straight\" and \"turn\" classes.\n",
    "\n",
    "    2. Model Section 2 vs Section 3\n",
    "\n",
    "        **Training/Validation Data:**\n",
    "        - Validation Accuracy: Section 3 (0.90) was greater than Section 2 (0.82)\n",
    "        - Test Accuracy: Section 3 (0.93) was greater than Section 2 (0.83)\n",
    "\n",
    "        **Test Set 1:**\n",
    "        - Section 2 had a higher accuracy of 0.83 compared to Section 3 with an accuracy of 0.80\n",
    "        - Section 2 struggled with \"turn\" (precision = 0.63, recall = 0.60).\n",
    "\n",
    "        **Test Set 2:**\n",
    "        - Section 3 had a higher accuracy of 0.88 compared to Section 2 with an accuracy of 0.84\n",
    "        - Both had strong performance across all classes\n",
    "\n",
    "2. Potential Explanations for the Differences\n",
    "    1. **Feature Set Size:** \n",
    "        - Section 1 benefits from using all features, leading to better performance on similar datasets like Test Set 1, but it overfits to the training distribution, causing poor generalization to Test Set 2. \n",
    "        - Section 2 reduces features significantly, leading to weaker performance on similar datasets but better adaptability to Test Set 2. The features in Section 2 appear to align better with the characteristics of Test Set 1 compared to Section 3. \n",
    "        - Section 3 appears to have a good balance of features with solid overall performance across all datasets using the group-selected features.\n",
    "\n",
    "    2. **Overfitting**\n",
    "        - Section 1 shows signs of overfitting, with great training scores and poor performance on Test Set 2\n",
    "        - Sections 2 and 3 show better generalization on Test Set 2\n",
    "\n",
    "    3. **Data Shift in Test Set 2**\n",
    "        - Test Set 2 has different feature distributions compared to training data and Test Set 1, explaining the difference in performance.\n",
    "        - Section 2 and 3 both adapt better to these shifts, with Section 3 performing the best."
   ]
  },
  {
   "cell_type": "markdown",
   "metadata": {},
   "source": [
    "____"
   ]
  },
  {
   "cell_type": "markdown",
   "metadata": {},
   "source": [
    "## Section 4 - Classification Using Principal Components of Features From Inertial Sensor Data (10 Marks)"
   ]
  },
  {
   "cell_type": "markdown",
   "metadata": {},
   "source": [
    "____"
   ]
  },
  {
   "cell_type": "markdown",
   "metadata": {},
   "source": [
    "### 4.1 Principal Component Analysis (PCA) Search with Cross Validation (4 Marks)"
   ]
  },
  {
   "cell_type": "markdown",
   "metadata": {},
   "source": [
    "___"
   ]
  },
  {
   "cell_type": "markdown",
   "metadata": {},
   "source": [
    "#### 4.1.1 Extract *ALL* features and target from *cv_set*"
   ]
  },
  {
   "cell_type": "code",
   "execution_count": 79,
   "metadata": {},
   "outputs": [
    {
     "data": {
      "text/html": [
       "<div>\n",
       "<style scoped>\n",
       "    .dataframe tbody tr th:only-of-type {\n",
       "        vertical-align: middle;\n",
       "    }\n",
       "\n",
       "    .dataframe tbody tr th {\n",
       "        vertical-align: top;\n",
       "    }\n",
       "\n",
       "    .dataframe thead th {\n",
       "        text-align: right;\n",
       "    }\n",
       "</style>\n",
       "<table border=\"1\" class=\"dataframe\">\n",
       "  <thead>\n",
       "    <tr style=\"text-align: right;\">\n",
       "      <th></th>\n",
       "      <th>ax_sum</th>\n",
       "      <th>ay_sum</th>\n",
       "      <th>az_sum</th>\n",
       "      <th>gx_sum</th>\n",
       "      <th>gy_sum</th>\n",
       "      <th>gz_sum</th>\n",
       "      <th>a_sum</th>\n",
       "      <th>g_sum</th>\n",
       "      <th>ax_var</th>\n",
       "      <th>ay_var</th>\n",
       "      <th>...</th>\n",
       "      <th>a_min</th>\n",
       "      <th>g_min</th>\n",
       "      <th>ax_max</th>\n",
       "      <th>ay_max</th>\n",
       "      <th>az_max</th>\n",
       "      <th>gx_max</th>\n",
       "      <th>gy_max</th>\n",
       "      <th>gz_max</th>\n",
       "      <th>a_max</th>\n",
       "      <th>g_max</th>\n",
       "    </tr>\n",
       "  </thead>\n",
       "  <tbody>\n",
       "    <tr>\n",
       "      <th>0</th>\n",
       "      <td>-0.003929</td>\n",
       "      <td>-0.093081</td>\n",
       "      <td>9.789349</td>\n",
       "      <td>-0.002649</td>\n",
       "      <td>0.001406</td>\n",
       "      <td>-0.001391</td>\n",
       "      <td>9.797418</td>\n",
       "      <td>0.022554</td>\n",
       "      <td>8.046094e-07</td>\n",
       "      <td>1.319665e-07</td>\n",
       "      <td>...</td>\n",
       "      <td>0.023871</td>\n",
       "      <td>0.000003</td>\n",
       "      <td>0.001496</td>\n",
       "      <td>0.000544</td>\n",
       "      <td>0.024992</td>\n",
       "      <td>0.000110</td>\n",
       "      <td>0.000075</td>\n",
       "      <td>0.000078</td>\n",
       "      <td>0.024997</td>\n",
       "      <td>0.000187</td>\n",
       "    </tr>\n",
       "    <tr>\n",
       "      <th>1</th>\n",
       "      <td>-0.000966</td>\n",
       "      <td>-0.092417</td>\n",
       "      <td>9.789095</td>\n",
       "      <td>-0.001806</td>\n",
       "      <td>0.000103</td>\n",
       "      <td>-0.001943</td>\n",
       "      <td>9.798815</td>\n",
       "      <td>0.021731</td>\n",
       "      <td>1.032619e-06</td>\n",
       "      <td>1.073067e-07</td>\n",
       "      <td>...</td>\n",
       "      <td>0.024153</td>\n",
       "      <td>0.000006</td>\n",
       "      <td>0.001865</td>\n",
       "      <td>0.000615</td>\n",
       "      <td>0.024828</td>\n",
       "      <td>0.000124</td>\n",
       "      <td>0.000098</td>\n",
       "      <td>0.000090</td>\n",
       "      <td>0.024829</td>\n",
       "      <td>0.000144</td>\n",
       "    </tr>\n",
       "  </tbody>\n",
       "</table>\n",
       "<p>2 rows × 32 columns</p>\n",
       "</div>"
      ],
      "text/plain": [
       "     ax_sum    ay_sum    az_sum    gx_sum    gy_sum    gz_sum     a_sum  \\\n",
       "0 -0.003929 -0.093081  9.789349 -0.002649  0.001406 -0.001391  9.797418   \n",
       "1 -0.000966 -0.092417  9.789095 -0.001806  0.000103 -0.001943  9.798815   \n",
       "\n",
       "      g_sum        ax_var        ay_var  ...     a_min     g_min    ax_max  \\\n",
       "0  0.022554  8.046094e-07  1.319665e-07  ...  0.023871  0.000003  0.001496   \n",
       "1  0.021731  1.032619e-06  1.073067e-07  ...  0.024153  0.000006  0.001865   \n",
       "\n",
       "     ay_max    az_max    gx_max    gy_max    gz_max     a_max     g_max  \n",
       "0  0.000544  0.024992  0.000110  0.000075  0.000078  0.024997  0.000187  \n",
       "1  0.000615  0.024828  0.000124  0.000098  0.000090  0.024829  0.000144  \n",
       "\n",
       "[2 rows x 32 columns]"
      ]
     },
     "execution_count": 79,
     "metadata": {},
     "output_type": "execute_result"
    }
   ],
   "source": [
    "# TODO - Load all features from cv_set to X\n",
    "X = cv_set.drop(columns=['motion_state'])\n",
    "X.head(2)"
   ]
  },
  {
   "cell_type": "code",
   "execution_count": 80,
   "metadata": {},
   "outputs": [
    {
     "data": {
      "text/plain": [
       "0    rest\n",
       "1    rest\n",
       "Name: motion_state, dtype: object"
      ]
     },
     "execution_count": 80,
     "metadata": {},
     "output_type": "execute_result"
    }
   ],
   "source": [
    "# TODO - Load motion_state column (target vector) into y\n",
    "y = cv_set['motion_state']\n",
    "y.head(2)"
   ]
  },
  {
   "cell_type": "markdown",
   "metadata": {},
   "source": [
    "___"
   ]
  },
  {
   "cell_type": "markdown",
   "metadata": {},
   "source": [
    "#### 4.1.2 - Configure and Perform Grid Search with Cross-Validation"
   ]
  },
  {
   "cell_type": "markdown",
   "metadata": {},
   "source": [
    "Similar to the steps from **1.2.2** and perform model training and tuning for an `SVC` model. Perform the `train_test_split`, initiate a `Pipeline`, then define the *Parameters* for `GridSearchCV`. Finally, perfrom the grid search."
   ]
  },
  {
   "cell_type": "code",
   "execution_count": 81,
   "metadata": {},
   "outputs": [
    {
     "name": "stdout",
     "output_type": "stream",
     "text": [
      "Training set: 1073 samples, Testing set: 461 samples\n"
     ]
    }
   ],
   "source": [
    "# TODO - Perform model training and tuning using `GridSearchCV`\n",
    "X_train, X_test, y_train, y_test = train_test_split(\n",
    "    X, y, test_size=0.30, random_state=42, stratify=y\n",
    ")\n",
    "print(f\"Training set: {X_train.shape[0]} samples, Testing set: {X_test.shape[0]} samples\")"
   ]
  },
  {
   "cell_type": "markdown",
   "metadata": {},
   "source": [
    "In the `Pipeline` add an entry *'pca'* to apply `PCA`."
   ]
  },
  {
   "cell_type": "code",
   "execution_count": 82,
   "metadata": {},
   "outputs": [],
   "source": [
    "# Perform any missing imports\n",
    "from sklearn.decomposition import PCA\n",
    "\n",
    "# TODO - Initiate the pipeline \n",
    "# (1 marks)\n",
    "pipe = Pipeline([\n",
    "    ('scaler', StandardScaler()),  # Default scaler\n",
    "    ('pca', PCA()),  # Principal Component Analysis\n",
    "    ('classifier', SVC())  # Support Vector Classifier\n",
    "])"
   ]
  },
  {
   "cell_type": "markdown",
   "metadata": {},
   "source": [
    "Similar to previous sections, define the grid search configuration (*param_grid*). Add *n_components* hyper parameter tuning for PCA, and search over the values `n_components=[4,7,11,14,16]`.  "
   ]
  },
  {
   "cell_type": "code",
   "execution_count": 83,
   "metadata": {},
   "outputs": [],
   "source": [
    "# TODO - Define the parameter grid for your model\n",
    "# (3 marks)\n",
    "param_grid = {\n",
    "    'scaler': [StandardScaler(), RobustScaler(), None],\n",
    "    'pca__n_components': [4, 7, 11, 14, 16],  # Number of principal components\n",
    "    'classifier__C': [0.01, 0.1, 1, 10, 100],\n",
    "    'classifier__gamma': [0.001, 0.01, 0.1, 1],\n",
    "    'classifier__kernel': ['rbf']  # Radial Basis Function kernel\n",
    "}"
   ]
  },
  {
   "cell_type": "code",
   "execution_count": 84,
   "metadata": {},
   "outputs": [
    {
     "data": {
      "text/html": [
       "<style>#sk-container-id-8 {\n",
       "  /* Definition of color scheme common for light and dark mode */\n",
       "  --sklearn-color-text: black;\n",
       "  --sklearn-color-line: gray;\n",
       "  /* Definition of color scheme for unfitted estimators */\n",
       "  --sklearn-color-unfitted-level-0: #fff5e6;\n",
       "  --sklearn-color-unfitted-level-1: #f6e4d2;\n",
       "  --sklearn-color-unfitted-level-2: #ffe0b3;\n",
       "  --sklearn-color-unfitted-level-3: chocolate;\n",
       "  /* Definition of color scheme for fitted estimators */\n",
       "  --sklearn-color-fitted-level-0: #f0f8ff;\n",
       "  --sklearn-color-fitted-level-1: #d4ebff;\n",
       "  --sklearn-color-fitted-level-2: #b3dbfd;\n",
       "  --sklearn-color-fitted-level-3: cornflowerblue;\n",
       "\n",
       "  /* Specific color for light theme */\n",
       "  --sklearn-color-text-on-default-background: var(--sg-text-color, var(--theme-code-foreground, var(--jp-content-font-color1, black)));\n",
       "  --sklearn-color-background: var(--sg-background-color, var(--theme-background, var(--jp-layout-color0, white)));\n",
       "  --sklearn-color-border-box: var(--sg-text-color, var(--theme-code-foreground, var(--jp-content-font-color1, black)));\n",
       "  --sklearn-color-icon: #696969;\n",
       "\n",
       "  @media (prefers-color-scheme: dark) {\n",
       "    /* Redefinition of color scheme for dark theme */\n",
       "    --sklearn-color-text-on-default-background: var(--sg-text-color, var(--theme-code-foreground, var(--jp-content-font-color1, white)));\n",
       "    --sklearn-color-background: var(--sg-background-color, var(--theme-background, var(--jp-layout-color0, #111)));\n",
       "    --sklearn-color-border-box: var(--sg-text-color, var(--theme-code-foreground, var(--jp-content-font-color1, white)));\n",
       "    --sklearn-color-icon: #878787;\n",
       "  }\n",
       "}\n",
       "\n",
       "#sk-container-id-8 {\n",
       "  color: var(--sklearn-color-text);\n",
       "}\n",
       "\n",
       "#sk-container-id-8 pre {\n",
       "  padding: 0;\n",
       "}\n",
       "\n",
       "#sk-container-id-8 input.sk-hidden--visually {\n",
       "  border: 0;\n",
       "  clip: rect(1px 1px 1px 1px);\n",
       "  clip: rect(1px, 1px, 1px, 1px);\n",
       "  height: 1px;\n",
       "  margin: -1px;\n",
       "  overflow: hidden;\n",
       "  padding: 0;\n",
       "  position: absolute;\n",
       "  width: 1px;\n",
       "}\n",
       "\n",
       "#sk-container-id-8 div.sk-dashed-wrapped {\n",
       "  border: 1px dashed var(--sklearn-color-line);\n",
       "  margin: 0 0.4em 0.5em 0.4em;\n",
       "  box-sizing: border-box;\n",
       "  padding-bottom: 0.4em;\n",
       "  background-color: var(--sklearn-color-background);\n",
       "}\n",
       "\n",
       "#sk-container-id-8 div.sk-container {\n",
       "  /* jupyter's `normalize.less` sets `[hidden] { display: none; }`\n",
       "     but bootstrap.min.css set `[hidden] { display: none !important; }`\n",
       "     so we also need the `!important` here to be able to override the\n",
       "     default hidden behavior on the sphinx rendered scikit-learn.org.\n",
       "     See: https://github.com/scikit-learn/scikit-learn/issues/21755 */\n",
       "  display: inline-block !important;\n",
       "  position: relative;\n",
       "}\n",
       "\n",
       "#sk-container-id-8 div.sk-text-repr-fallback {\n",
       "  display: none;\n",
       "}\n",
       "\n",
       "div.sk-parallel-item,\n",
       "div.sk-serial,\n",
       "div.sk-item {\n",
       "  /* draw centered vertical line to link estimators */\n",
       "  background-image: linear-gradient(var(--sklearn-color-text-on-default-background), var(--sklearn-color-text-on-default-background));\n",
       "  background-size: 2px 100%;\n",
       "  background-repeat: no-repeat;\n",
       "  background-position: center center;\n",
       "}\n",
       "\n",
       "/* Parallel-specific style estimator block */\n",
       "\n",
       "#sk-container-id-8 div.sk-parallel-item::after {\n",
       "  content: \"\";\n",
       "  width: 100%;\n",
       "  border-bottom: 2px solid var(--sklearn-color-text-on-default-background);\n",
       "  flex-grow: 1;\n",
       "}\n",
       "\n",
       "#sk-container-id-8 div.sk-parallel {\n",
       "  display: flex;\n",
       "  align-items: stretch;\n",
       "  justify-content: center;\n",
       "  background-color: var(--sklearn-color-background);\n",
       "  position: relative;\n",
       "}\n",
       "\n",
       "#sk-container-id-8 div.sk-parallel-item {\n",
       "  display: flex;\n",
       "  flex-direction: column;\n",
       "}\n",
       "\n",
       "#sk-container-id-8 div.sk-parallel-item:first-child::after {\n",
       "  align-self: flex-end;\n",
       "  width: 50%;\n",
       "}\n",
       "\n",
       "#sk-container-id-8 div.sk-parallel-item:last-child::after {\n",
       "  align-self: flex-start;\n",
       "  width: 50%;\n",
       "}\n",
       "\n",
       "#sk-container-id-8 div.sk-parallel-item:only-child::after {\n",
       "  width: 0;\n",
       "}\n",
       "\n",
       "/* Serial-specific style estimator block */\n",
       "\n",
       "#sk-container-id-8 div.sk-serial {\n",
       "  display: flex;\n",
       "  flex-direction: column;\n",
       "  align-items: center;\n",
       "  background-color: var(--sklearn-color-background);\n",
       "  padding-right: 1em;\n",
       "  padding-left: 1em;\n",
       "}\n",
       "\n",
       "\n",
       "/* Toggleable style: style used for estimator/Pipeline/ColumnTransformer box that is\n",
       "clickable and can be expanded/collapsed.\n",
       "- Pipeline and ColumnTransformer use this feature and define the default style\n",
       "- Estimators will overwrite some part of the style using the `sk-estimator` class\n",
       "*/\n",
       "\n",
       "/* Pipeline and ColumnTransformer style (default) */\n",
       "\n",
       "#sk-container-id-8 div.sk-toggleable {\n",
       "  /* Default theme specific background. It is overwritten whether we have a\n",
       "  specific estimator or a Pipeline/ColumnTransformer */\n",
       "  background-color: var(--sklearn-color-background);\n",
       "}\n",
       "\n",
       "/* Toggleable label */\n",
       "#sk-container-id-8 label.sk-toggleable__label {\n",
       "  cursor: pointer;\n",
       "  display: block;\n",
       "  width: 100%;\n",
       "  margin-bottom: 0;\n",
       "  padding: 0.5em;\n",
       "  box-sizing: border-box;\n",
       "  text-align: center;\n",
       "}\n",
       "\n",
       "#sk-container-id-8 label.sk-toggleable__label-arrow:before {\n",
       "  /* Arrow on the left of the label */\n",
       "  content: \"▸\";\n",
       "  float: left;\n",
       "  margin-right: 0.25em;\n",
       "  color: var(--sklearn-color-icon);\n",
       "}\n",
       "\n",
       "#sk-container-id-8 label.sk-toggleable__label-arrow:hover:before {\n",
       "  color: var(--sklearn-color-text);\n",
       "}\n",
       "\n",
       "/* Toggleable content - dropdown */\n",
       "\n",
       "#sk-container-id-8 div.sk-toggleable__content {\n",
       "  max-height: 0;\n",
       "  max-width: 0;\n",
       "  overflow: hidden;\n",
       "  text-align: left;\n",
       "  /* unfitted */\n",
       "  background-color: var(--sklearn-color-unfitted-level-0);\n",
       "}\n",
       "\n",
       "#sk-container-id-8 div.sk-toggleable__content.fitted {\n",
       "  /* fitted */\n",
       "  background-color: var(--sklearn-color-fitted-level-0);\n",
       "}\n",
       "\n",
       "#sk-container-id-8 div.sk-toggleable__content pre {\n",
       "  margin: 0.2em;\n",
       "  border-radius: 0.25em;\n",
       "  color: var(--sklearn-color-text);\n",
       "  /* unfitted */\n",
       "  background-color: var(--sklearn-color-unfitted-level-0);\n",
       "}\n",
       "\n",
       "#sk-container-id-8 div.sk-toggleable__content.fitted pre {\n",
       "  /* unfitted */\n",
       "  background-color: var(--sklearn-color-fitted-level-0);\n",
       "}\n",
       "\n",
       "#sk-container-id-8 input.sk-toggleable__control:checked~div.sk-toggleable__content {\n",
       "  /* Expand drop-down */\n",
       "  max-height: 200px;\n",
       "  max-width: 100%;\n",
       "  overflow: auto;\n",
       "}\n",
       "\n",
       "#sk-container-id-8 input.sk-toggleable__control:checked~label.sk-toggleable__label-arrow:before {\n",
       "  content: \"▾\";\n",
       "}\n",
       "\n",
       "/* Pipeline/ColumnTransformer-specific style */\n",
       "\n",
       "#sk-container-id-8 div.sk-label input.sk-toggleable__control:checked~label.sk-toggleable__label {\n",
       "  color: var(--sklearn-color-text);\n",
       "  background-color: var(--sklearn-color-unfitted-level-2);\n",
       "}\n",
       "\n",
       "#sk-container-id-8 div.sk-label.fitted input.sk-toggleable__control:checked~label.sk-toggleable__label {\n",
       "  background-color: var(--sklearn-color-fitted-level-2);\n",
       "}\n",
       "\n",
       "/* Estimator-specific style */\n",
       "\n",
       "/* Colorize estimator box */\n",
       "#sk-container-id-8 div.sk-estimator input.sk-toggleable__control:checked~label.sk-toggleable__label {\n",
       "  /* unfitted */\n",
       "  background-color: var(--sklearn-color-unfitted-level-2);\n",
       "}\n",
       "\n",
       "#sk-container-id-8 div.sk-estimator.fitted input.sk-toggleable__control:checked~label.sk-toggleable__label {\n",
       "  /* fitted */\n",
       "  background-color: var(--sklearn-color-fitted-level-2);\n",
       "}\n",
       "\n",
       "#sk-container-id-8 div.sk-label label.sk-toggleable__label,\n",
       "#sk-container-id-8 div.sk-label label {\n",
       "  /* The background is the default theme color */\n",
       "  color: var(--sklearn-color-text-on-default-background);\n",
       "}\n",
       "\n",
       "/* On hover, darken the color of the background */\n",
       "#sk-container-id-8 div.sk-label:hover label.sk-toggleable__label {\n",
       "  color: var(--sklearn-color-text);\n",
       "  background-color: var(--sklearn-color-unfitted-level-2);\n",
       "}\n",
       "\n",
       "/* Label box, darken color on hover, fitted */\n",
       "#sk-container-id-8 div.sk-label.fitted:hover label.sk-toggleable__label.fitted {\n",
       "  color: var(--sklearn-color-text);\n",
       "  background-color: var(--sklearn-color-fitted-level-2);\n",
       "}\n",
       "\n",
       "/* Estimator label */\n",
       "\n",
       "#sk-container-id-8 div.sk-label label {\n",
       "  font-family: monospace;\n",
       "  font-weight: bold;\n",
       "  display: inline-block;\n",
       "  line-height: 1.2em;\n",
       "}\n",
       "\n",
       "#sk-container-id-8 div.sk-label-container {\n",
       "  text-align: center;\n",
       "}\n",
       "\n",
       "/* Estimator-specific */\n",
       "#sk-container-id-8 div.sk-estimator {\n",
       "  font-family: monospace;\n",
       "  border: 1px dotted var(--sklearn-color-border-box);\n",
       "  border-radius: 0.25em;\n",
       "  box-sizing: border-box;\n",
       "  margin-bottom: 0.5em;\n",
       "  /* unfitted */\n",
       "  background-color: var(--sklearn-color-unfitted-level-0);\n",
       "}\n",
       "\n",
       "#sk-container-id-8 div.sk-estimator.fitted {\n",
       "  /* fitted */\n",
       "  background-color: var(--sklearn-color-fitted-level-0);\n",
       "}\n",
       "\n",
       "/* on hover */\n",
       "#sk-container-id-8 div.sk-estimator:hover {\n",
       "  /* unfitted */\n",
       "  background-color: var(--sklearn-color-unfitted-level-2);\n",
       "}\n",
       "\n",
       "#sk-container-id-8 div.sk-estimator.fitted:hover {\n",
       "  /* fitted */\n",
       "  background-color: var(--sklearn-color-fitted-level-2);\n",
       "}\n",
       "\n",
       "/* Specification for estimator info (e.g. \"i\" and \"?\") */\n",
       "\n",
       "/* Common style for \"i\" and \"?\" */\n",
       "\n",
       ".sk-estimator-doc-link,\n",
       "a:link.sk-estimator-doc-link,\n",
       "a:visited.sk-estimator-doc-link {\n",
       "  float: right;\n",
       "  font-size: smaller;\n",
       "  line-height: 1em;\n",
       "  font-family: monospace;\n",
       "  background-color: var(--sklearn-color-background);\n",
       "  border-radius: 1em;\n",
       "  height: 1em;\n",
       "  width: 1em;\n",
       "  text-decoration: none !important;\n",
       "  margin-left: 1ex;\n",
       "  /* unfitted */\n",
       "  border: var(--sklearn-color-unfitted-level-1) 1pt solid;\n",
       "  color: var(--sklearn-color-unfitted-level-1);\n",
       "}\n",
       "\n",
       ".sk-estimator-doc-link.fitted,\n",
       "a:link.sk-estimator-doc-link.fitted,\n",
       "a:visited.sk-estimator-doc-link.fitted {\n",
       "  /* fitted */\n",
       "  border: var(--sklearn-color-fitted-level-1) 1pt solid;\n",
       "  color: var(--sklearn-color-fitted-level-1);\n",
       "}\n",
       "\n",
       "/* On hover */\n",
       "div.sk-estimator:hover .sk-estimator-doc-link:hover,\n",
       ".sk-estimator-doc-link:hover,\n",
       "div.sk-label-container:hover .sk-estimator-doc-link:hover,\n",
       ".sk-estimator-doc-link:hover {\n",
       "  /* unfitted */\n",
       "  background-color: var(--sklearn-color-unfitted-level-3);\n",
       "  color: var(--sklearn-color-background);\n",
       "  text-decoration: none;\n",
       "}\n",
       "\n",
       "div.sk-estimator.fitted:hover .sk-estimator-doc-link.fitted:hover,\n",
       ".sk-estimator-doc-link.fitted:hover,\n",
       "div.sk-label-container:hover .sk-estimator-doc-link.fitted:hover,\n",
       ".sk-estimator-doc-link.fitted:hover {\n",
       "  /* fitted */\n",
       "  background-color: var(--sklearn-color-fitted-level-3);\n",
       "  color: var(--sklearn-color-background);\n",
       "  text-decoration: none;\n",
       "}\n",
       "\n",
       "/* Span, style for the box shown on hovering the info icon */\n",
       ".sk-estimator-doc-link span {\n",
       "  display: none;\n",
       "  z-index: 9999;\n",
       "  position: relative;\n",
       "  font-weight: normal;\n",
       "  right: .2ex;\n",
       "  padding: .5ex;\n",
       "  margin: .5ex;\n",
       "  width: min-content;\n",
       "  min-width: 20ex;\n",
       "  max-width: 50ex;\n",
       "  color: var(--sklearn-color-text);\n",
       "  box-shadow: 2pt 2pt 4pt #999;\n",
       "  /* unfitted */\n",
       "  background: var(--sklearn-color-unfitted-level-0);\n",
       "  border: .5pt solid var(--sklearn-color-unfitted-level-3);\n",
       "}\n",
       "\n",
       ".sk-estimator-doc-link.fitted span {\n",
       "  /* fitted */\n",
       "  background: var(--sklearn-color-fitted-level-0);\n",
       "  border: var(--sklearn-color-fitted-level-3);\n",
       "}\n",
       "\n",
       ".sk-estimator-doc-link:hover span {\n",
       "  display: block;\n",
       "}\n",
       "\n",
       "/* \"?\"-specific style due to the `<a>` HTML tag */\n",
       "\n",
       "#sk-container-id-8 a.estimator_doc_link {\n",
       "  float: right;\n",
       "  font-size: 1rem;\n",
       "  line-height: 1em;\n",
       "  font-family: monospace;\n",
       "  background-color: var(--sklearn-color-background);\n",
       "  border-radius: 1rem;\n",
       "  height: 1rem;\n",
       "  width: 1rem;\n",
       "  text-decoration: none;\n",
       "  /* unfitted */\n",
       "  color: var(--sklearn-color-unfitted-level-1);\n",
       "  border: var(--sklearn-color-unfitted-level-1) 1pt solid;\n",
       "}\n",
       "\n",
       "#sk-container-id-8 a.estimator_doc_link.fitted {\n",
       "  /* fitted */\n",
       "  border: var(--sklearn-color-fitted-level-1) 1pt solid;\n",
       "  color: var(--sklearn-color-fitted-level-1);\n",
       "}\n",
       "\n",
       "/* On hover */\n",
       "#sk-container-id-8 a.estimator_doc_link:hover {\n",
       "  /* unfitted */\n",
       "  background-color: var(--sklearn-color-unfitted-level-3);\n",
       "  color: var(--sklearn-color-background);\n",
       "  text-decoration: none;\n",
       "}\n",
       "\n",
       "#sk-container-id-8 a.estimator_doc_link.fitted:hover {\n",
       "  /* fitted */\n",
       "  background-color: var(--sklearn-color-fitted-level-3);\n",
       "}\n",
       "</style><div id=\"sk-container-id-8\" class=\"sk-top-container\"><div class=\"sk-text-repr-fallback\"><pre>GridSearchCV(cv=5,\n",
       "             estimator=Pipeline(steps=[(&#x27;scaler&#x27;, StandardScaler()),\n",
       "                                       (&#x27;pca&#x27;, PCA()), (&#x27;classifier&#x27;, SVC())]),\n",
       "             param_grid={&#x27;classifier__C&#x27;: [0.01, 0.1, 1, 10, 100],\n",
       "                         &#x27;classifier__gamma&#x27;: [0.001, 0.01, 0.1, 1],\n",
       "                         &#x27;classifier__kernel&#x27;: [&#x27;rbf&#x27;],\n",
       "                         &#x27;pca__n_components&#x27;: [4, 7, 11, 14, 16],\n",
       "                         &#x27;scaler&#x27;: [StandardScaler(), RobustScaler(), None]},\n",
       "             return_train_score=True, scoring=&#x27;accuracy&#x27;)</pre><b>In a Jupyter environment, please rerun this cell to show the HTML representation or trust the notebook. <br />On GitHub, the HTML representation is unable to render, please try loading this page with nbviewer.org.</b></div><div class=\"sk-container\" hidden><div class=\"sk-item sk-dashed-wrapped\"><div class=\"sk-label-container\"><div class=\"sk-label fitted sk-toggleable\"><input class=\"sk-toggleable__control sk-hidden--visually\" id=\"sk-estimator-id-30\" type=\"checkbox\" ><label for=\"sk-estimator-id-30\" class=\"sk-toggleable__label fitted sk-toggleable__label-arrow fitted\">&nbsp;&nbsp;GridSearchCV<a class=\"sk-estimator-doc-link fitted\" rel=\"noreferrer\" target=\"_blank\" href=\"https://scikit-learn.org/1.5/modules/generated/sklearn.model_selection.GridSearchCV.html\">?<span>Documentation for GridSearchCV</span></a><span class=\"sk-estimator-doc-link fitted\">i<span>Fitted</span></span></label><div class=\"sk-toggleable__content fitted\"><pre>GridSearchCV(cv=5,\n",
       "             estimator=Pipeline(steps=[(&#x27;scaler&#x27;, StandardScaler()),\n",
       "                                       (&#x27;pca&#x27;, PCA()), (&#x27;classifier&#x27;, SVC())]),\n",
       "             param_grid={&#x27;classifier__C&#x27;: [0.01, 0.1, 1, 10, 100],\n",
       "                         &#x27;classifier__gamma&#x27;: [0.001, 0.01, 0.1, 1],\n",
       "                         &#x27;classifier__kernel&#x27;: [&#x27;rbf&#x27;],\n",
       "                         &#x27;pca__n_components&#x27;: [4, 7, 11, 14, 16],\n",
       "                         &#x27;scaler&#x27;: [StandardScaler(), RobustScaler(), None]},\n",
       "             return_train_score=True, scoring=&#x27;accuracy&#x27;)</pre></div> </div></div><div class=\"sk-parallel\"><div class=\"sk-parallel-item\"><div class=\"sk-item\"><div class=\"sk-label-container\"><div class=\"sk-label fitted sk-toggleable\"><input class=\"sk-toggleable__control sk-hidden--visually\" id=\"sk-estimator-id-31\" type=\"checkbox\" ><label for=\"sk-estimator-id-31\" class=\"sk-toggleable__label fitted sk-toggleable__label-arrow fitted\">best_estimator_: Pipeline</label><div class=\"sk-toggleable__content fitted\"><pre>Pipeline(steps=[(&#x27;scaler&#x27;, RobustScaler()), (&#x27;pca&#x27;, PCA(n_components=14)),\n",
       "                (&#x27;classifier&#x27;, SVC(C=100, gamma=0.01))])</pre></div> </div></div><div class=\"sk-serial\"><div class=\"sk-item\"><div class=\"sk-serial\"><div class=\"sk-item\"><div class=\"sk-estimator fitted sk-toggleable\"><input class=\"sk-toggleable__control sk-hidden--visually\" id=\"sk-estimator-id-32\" type=\"checkbox\" ><label for=\"sk-estimator-id-32\" class=\"sk-toggleable__label fitted sk-toggleable__label-arrow fitted\">&nbsp;RobustScaler<a class=\"sk-estimator-doc-link fitted\" rel=\"noreferrer\" target=\"_blank\" href=\"https://scikit-learn.org/1.5/modules/generated/sklearn.preprocessing.RobustScaler.html\">?<span>Documentation for RobustScaler</span></a></label><div class=\"sk-toggleable__content fitted\"><pre>RobustScaler()</pre></div> </div></div><div class=\"sk-item\"><div class=\"sk-estimator fitted sk-toggleable\"><input class=\"sk-toggleable__control sk-hidden--visually\" id=\"sk-estimator-id-33\" type=\"checkbox\" ><label for=\"sk-estimator-id-33\" class=\"sk-toggleable__label fitted sk-toggleable__label-arrow fitted\">&nbsp;PCA<a class=\"sk-estimator-doc-link fitted\" rel=\"noreferrer\" target=\"_blank\" href=\"https://scikit-learn.org/1.5/modules/generated/sklearn.decomposition.PCA.html\">?<span>Documentation for PCA</span></a></label><div class=\"sk-toggleable__content fitted\"><pre>PCA(n_components=14)</pre></div> </div></div><div class=\"sk-item\"><div class=\"sk-estimator fitted sk-toggleable\"><input class=\"sk-toggleable__control sk-hidden--visually\" id=\"sk-estimator-id-34\" type=\"checkbox\" ><label for=\"sk-estimator-id-34\" class=\"sk-toggleable__label fitted sk-toggleable__label-arrow fitted\">&nbsp;SVC<a class=\"sk-estimator-doc-link fitted\" rel=\"noreferrer\" target=\"_blank\" href=\"https://scikit-learn.org/1.5/modules/generated/sklearn.svm.SVC.html\">?<span>Documentation for SVC</span></a></label><div class=\"sk-toggleable__content fitted\"><pre>SVC(C=100, gamma=0.01)</pre></div> </div></div></div></div></div></div></div></div></div></div></div>"
      ],
      "text/plain": [
       "GridSearchCV(cv=5,\n",
       "             estimator=Pipeline(steps=[('scaler', StandardScaler()),\n",
       "                                       ('pca', PCA()), ('classifier', SVC())]),\n",
       "             param_grid={'classifier__C': [0.01, 0.1, 1, 10, 100],\n",
       "                         'classifier__gamma': [0.001, 0.01, 0.1, 1],\n",
       "                         'classifier__kernel': ['rbf'],\n",
       "                         'pca__n_components': [4, 7, 11, 14, 16],\n",
       "                         'scaler': [StandardScaler(), RobustScaler(), None]},\n",
       "             return_train_score=True, scoring='accuracy')"
      ]
     },
     "execution_count": 84,
     "metadata": {},
     "output_type": "execute_result"
    }
   ],
   "source": [
    "# Perform the grid search to train model and tune hyper parameters\n",
    "grid = GridSearchCV(pipe, param_grid, cv=5, scoring='accuracy', return_train_score=True)\n",
    "grid.fit(X_train, y_train) "
   ]
  },
  {
   "cell_type": "markdown",
   "metadata": {},
   "source": [
    "___"
   ]
  },
  {
   "cell_type": "markdown",
   "metadata": {},
   "source": [
    "#### 4.1.3 - Visualize Grid Search Results"
   ]
  },
  {
   "cell_type": "markdown",
   "metadata": {},
   "source": [
    "Print the results from the grid search. The following outputs must be printed.\n",
    "* Best parameter set\n",
    "* Best cross-validation train score\n",
    "* Best cross-validation test score\n",
    "* Test set accuracy"
   ]
  },
  {
   "cell_type": "code",
   "execution_count": 85,
   "metadata": {},
   "outputs": [
    {
     "name": "stdout",
     "output_type": "stream",
     "text": [
      "Best params:\n",
      "{'classifier__C': 100, 'classifier__gamma': 0.01, 'classifier__kernel': 'rbf', 'pca__n_components': 14, 'scaler': RobustScaler()}\n",
      "\n",
      "Best cross-validation train score: 1.00\n",
      "Best cross-validation validation score: 0.94\n",
      "Test-set score: 0.96\n"
     ]
    }
   ],
   "source": [
    "# TODO: Print the results from the grid search\n",
    "print(\"Best params:\\n{}\\n\".format(grid.best_params_))\n",
    "print(\"Best cross-validation train score: {:.2f}\".format(max(grid.cv_results_['mean_train_score'])))\n",
    "print(\"Best cross-validation validation score: {:.2f}\".format(grid.best_score_))\n",
    "\n",
    "test_set_score = accuracy_score(y_test, grid.best_estimator_.predict(X_test))\n",
    "print(\"Test-set score: {:.2f}\".format(test_set_score))"
   ]
  },
  {
   "cell_type": "markdown",
   "metadata": {},
   "source": [
    "Display the confusion matrix and print the classification report for the trained model using the *test* split. "
   ]
  },
  {
   "cell_type": "code",
   "execution_count": 86,
   "metadata": {},
   "outputs": [
    {
     "name": "stdout",
     "output_type": "stream",
     "text": [
      "\n",
      "Confusion Matrix:\n",
      "[[154   1   0]\n",
      " [  9 192   6]\n",
      " [  0   2  97]]\n",
      "\n",
      "Classification Report:\n",
      "              precision    recall  f1-score   support\n",
      "\n",
      "        rest       0.94      0.99      0.97       155\n",
      "    straight       0.98      0.93      0.96       207\n",
      "        turn       0.94      0.98      0.96        99\n",
      "\n",
      "    accuracy                           0.96       461\n",
      "   macro avg       0.96      0.97      0.96       461\n",
      "weighted avg       0.96      0.96      0.96       461\n",
      "\n"
     ]
    }
   ],
   "source": [
    "# TODO - Display confusion matrix and print classification report\n",
    "y_pred = grid.best_estimator_.predict(X_test)\n",
    "\n",
    "print(\"\\nConfusion Matrix:\")\n",
    "print(confusion_matrix(y_test, y_pred))\n",
    "\n",
    "print(\"\\nClassification Report:\")\n",
    "print(classification_report(y_test, y_pred))"
   ]
  },
  {
   "cell_type": "markdown",
   "metadata": {},
   "source": [
    "___"
   ]
  },
  {
   "cell_type": "markdown",
   "metadata": {},
   "source": [
    "### 4.2 - Model Evaluation on Test Datasets 1 and 2 (6 Marks)"
   ]
  },
  {
   "cell_type": "markdown",
   "metadata": {},
   "source": [
    "___"
   ]
  },
  {
   "cell_type": "markdown",
   "metadata": {},
   "source": [
    "#### 4.2.1 - Extract group selected features and targets from test datasets"
   ]
  },
  {
   "cell_type": "code",
   "execution_count": 87,
   "metadata": {},
   "outputs": [
    {
     "data": {
      "text/html": [
       "<div>\n",
       "<style scoped>\n",
       "    .dataframe tbody tr th:only-of-type {\n",
       "        vertical-align: middle;\n",
       "    }\n",
       "\n",
       "    .dataframe tbody tr th {\n",
       "        vertical-align: top;\n",
       "    }\n",
       "\n",
       "    .dataframe thead th {\n",
       "        text-align: right;\n",
       "    }\n",
       "</style>\n",
       "<table border=\"1\" class=\"dataframe\">\n",
       "  <thead>\n",
       "    <tr style=\"text-align: right;\">\n",
       "      <th></th>\n",
       "      <th>ax_sum</th>\n",
       "      <th>ay_sum</th>\n",
       "      <th>az_sum</th>\n",
       "      <th>gx_sum</th>\n",
       "      <th>gy_sum</th>\n",
       "      <th>gz_sum</th>\n",
       "      <th>a_sum</th>\n",
       "      <th>g_sum</th>\n",
       "      <th>ax_var</th>\n",
       "      <th>ay_var</th>\n",
       "      <th>...</th>\n",
       "      <th>a_min</th>\n",
       "      <th>g_min</th>\n",
       "      <th>ax_max</th>\n",
       "      <th>ay_max</th>\n",
       "      <th>az_max</th>\n",
       "      <th>gx_max</th>\n",
       "      <th>gy_max</th>\n",
       "      <th>gz_max</th>\n",
       "      <th>a_max</th>\n",
       "      <th>g_max</th>\n",
       "    </tr>\n",
       "  </thead>\n",
       "  <tbody>\n",
       "    <tr>\n",
       "      <th>0</th>\n",
       "      <td>0.264465</td>\n",
       "      <td>0.089904</td>\n",
       "      <td>9.786930</td>\n",
       "      <td>-0.002305</td>\n",
       "      <td>0.000218</td>\n",
       "      <td>-0.001143</td>\n",
       "      <td>9.801661</td>\n",
       "      <td>0.025634</td>\n",
       "      <td>0.000001</td>\n",
       "      <td>7.749919e-08</td>\n",
       "      <td>...</td>\n",
       "      <td>0.024056</td>\n",
       "      <td>0.000003</td>\n",
       "      <td>0.002506</td>\n",
       "      <td>0.000845</td>\n",
       "      <td>0.024884</td>\n",
       "      <td>0.000155</td>\n",
       "      <td>0.000078</td>\n",
       "      <td>0.000069</td>\n",
       "      <td>0.024886</td>\n",
       "      <td>0.000170</td>\n",
       "    </tr>\n",
       "    <tr>\n",
       "      <th>1</th>\n",
       "      <td>0.264300</td>\n",
       "      <td>0.088882</td>\n",
       "      <td>9.788127</td>\n",
       "      <td>-0.001865</td>\n",
       "      <td>-0.000523</td>\n",
       "      <td>-0.001999</td>\n",
       "      <td>9.802481</td>\n",
       "      <td>0.025218</td>\n",
       "      <td>0.000001</td>\n",
       "      <td>9.243000e-08</td>\n",
       "      <td>...</td>\n",
       "      <td>0.024084</td>\n",
       "      <td>0.000007</td>\n",
       "      <td>0.002427</td>\n",
       "      <td>0.000949</td>\n",
       "      <td>0.024881</td>\n",
       "      <td>0.000201</td>\n",
       "      <td>0.000095</td>\n",
       "      <td>0.000076</td>\n",
       "      <td>0.024883</td>\n",
       "      <td>0.000201</td>\n",
       "    </tr>\n",
       "  </tbody>\n",
       "</table>\n",
       "<p>2 rows × 32 columns</p>\n",
       "</div>"
      ],
      "text/plain": [
       "     ax_sum    ay_sum    az_sum    gx_sum    gy_sum    gz_sum     a_sum  \\\n",
       "0  0.264465  0.089904  9.786930 -0.002305  0.000218 -0.001143  9.801661   \n",
       "1  0.264300  0.088882  9.788127 -0.001865 -0.000523 -0.001999  9.802481   \n",
       "\n",
       "      g_sum    ax_var        ay_var  ...     a_min     g_min    ax_max  \\\n",
       "0  0.025634  0.000001  7.749919e-08  ...  0.024056  0.000003  0.002506   \n",
       "1  0.025218  0.000001  9.243000e-08  ...  0.024084  0.000007  0.002427   \n",
       "\n",
       "     ay_max    az_max    gx_max    gy_max    gz_max     a_max     g_max  \n",
       "0  0.000845  0.024884  0.000155  0.000078  0.000069  0.024886  0.000170  \n",
       "1  0.000949  0.024881  0.000201  0.000095  0.000076  0.024883  0.000201  \n",
       "\n",
       "[2 rows x 32 columns]"
      ]
     },
     "execution_count": 87,
     "metadata": {},
     "output_type": "execute_result"
    }
   ],
   "source": [
    "# TODO - Load the target vector from test_set1 into y1, and all features from test_set1 into X1\n",
    "y1 = test_set1['motion_state']\n",
    "X1 = test_set1.drop(columns=['motion_state'])\n",
    "X1.head(2)"
   ]
  },
  {
   "cell_type": "code",
   "execution_count": 88,
   "metadata": {},
   "outputs": [
    {
     "data": {
      "text/html": [
       "<div>\n",
       "<style scoped>\n",
       "    .dataframe tbody tr th:only-of-type {\n",
       "        vertical-align: middle;\n",
       "    }\n",
       "\n",
       "    .dataframe tbody tr th {\n",
       "        vertical-align: top;\n",
       "    }\n",
       "\n",
       "    .dataframe thead th {\n",
       "        text-align: right;\n",
       "    }\n",
       "</style>\n",
       "<table border=\"1\" class=\"dataframe\">\n",
       "  <thead>\n",
       "    <tr style=\"text-align: right;\">\n",
       "      <th></th>\n",
       "      <th>ax_sum</th>\n",
       "      <th>ay_sum</th>\n",
       "      <th>az_sum</th>\n",
       "      <th>gx_sum</th>\n",
       "      <th>gy_sum</th>\n",
       "      <th>gz_sum</th>\n",
       "      <th>a_sum</th>\n",
       "      <th>g_sum</th>\n",
       "      <th>ax_var</th>\n",
       "      <th>ay_var</th>\n",
       "      <th>...</th>\n",
       "      <th>a_min</th>\n",
       "      <th>g_min</th>\n",
       "      <th>ax_max</th>\n",
       "      <th>ay_max</th>\n",
       "      <th>az_max</th>\n",
       "      <th>gx_max</th>\n",
       "      <th>gy_max</th>\n",
       "      <th>gz_max</th>\n",
       "      <th>a_max</th>\n",
       "      <th>g_max</th>\n",
       "    </tr>\n",
       "  </thead>\n",
       "  <tbody>\n",
       "    <tr>\n",
       "      <th>0</th>\n",
       "      <td>-0.046400</td>\n",
       "      <td>0.305907</td>\n",
       "      <td>9.791451</td>\n",
       "      <td>-0.002184</td>\n",
       "      <td>0.001311</td>\n",
       "      <td>-0.001901</td>\n",
       "      <td>9.800683</td>\n",
       "      <td>0.012437</td>\n",
       "      <td>0.000002</td>\n",
       "      <td>3.020959e-07</td>\n",
       "      <td>...</td>\n",
       "      <td>0.048406</td>\n",
       "      <td>0.000007</td>\n",
       "      <td>0.002575</td>\n",
       "      <td>0.002993</td>\n",
       "      <td>0.049701</td>\n",
       "      <td>0.000094</td>\n",
       "      <td>0.000115</td>\n",
       "      <td>0.000080</td>\n",
       "      <td>0.049764</td>\n",
       "      <td>0.000142</td>\n",
       "    </tr>\n",
       "    <tr>\n",
       "      <th>1</th>\n",
       "      <td>-0.050073</td>\n",
       "      <td>0.311947</td>\n",
       "      <td>9.785619</td>\n",
       "      <td>-0.003369</td>\n",
       "      <td>0.001898</td>\n",
       "      <td>-0.002051</td>\n",
       "      <td>9.797741</td>\n",
       "      <td>0.013805</td>\n",
       "      <td>0.000003</td>\n",
       "      <td>6.859937e-07</td>\n",
       "      <td>...</td>\n",
       "      <td>0.047696</td>\n",
       "      <td>0.000013</td>\n",
       "      <td>0.003880</td>\n",
       "      <td>0.004106</td>\n",
       "      <td>0.050477</td>\n",
       "      <td>0.000140</td>\n",
       "      <td>0.000140</td>\n",
       "      <td>0.000083</td>\n",
       "      <td>0.050763</td>\n",
       "      <td>0.000151</td>\n",
       "    </tr>\n",
       "  </tbody>\n",
       "</table>\n",
       "<p>2 rows × 32 columns</p>\n",
       "</div>"
      ],
      "text/plain": [
       "     ax_sum    ay_sum    az_sum    gx_sum    gy_sum    gz_sum     a_sum  \\\n",
       "0 -0.046400  0.305907  9.791451 -0.002184  0.001311 -0.001901  9.800683   \n",
       "1 -0.050073  0.311947  9.785619 -0.003369  0.001898 -0.002051  9.797741   \n",
       "\n",
       "      g_sum    ax_var        ay_var  ...     a_min     g_min    ax_max  \\\n",
       "0  0.012437  0.000002  3.020959e-07  ...  0.048406  0.000007  0.002575   \n",
       "1  0.013805  0.000003  6.859937e-07  ...  0.047696  0.000013  0.003880   \n",
       "\n",
       "     ay_max    az_max    gx_max    gy_max    gz_max     a_max     g_max  \n",
       "0  0.002993  0.049701  0.000094  0.000115  0.000080  0.049764  0.000142  \n",
       "1  0.004106  0.050477  0.000140  0.000140  0.000083  0.050763  0.000151  \n",
       "\n",
       "[2 rows x 32 columns]"
      ]
     },
     "execution_count": 88,
     "metadata": {},
     "output_type": "execute_result"
    }
   ],
   "source": [
    "# TODO - Load the target vector from test_set2 into y2, and all features from test_set2 into X2\n",
    "y2 = test_set2['motion_state']\n",
    "X2 = test_set2.drop(columns=['motion_state'])\n",
    "X2.head(2)"
   ]
  },
  {
   "cell_type": "markdown",
   "metadata": {},
   "source": [
    "___"
   ]
  },
  {
   "cell_type": "markdown",
   "metadata": {},
   "source": [
    "#### 4.2.2 - Visualize Results"
   ]
  },
  {
   "cell_type": "code",
   "execution_count": 89,
   "metadata": {},
   "outputs": [
    {
     "name": "stdout",
     "output_type": "stream",
     "text": [
      "test_set1 score: 0.93\n",
      "test_set2 score: 0.67\n"
     ]
    }
   ],
   "source": [
    "# TODO - Print test score accuracies for test_set1 and test_set2\n",
    "test_set1_score = accuracy_score(y1, grid.best_estimator_.predict(X1))\n",
    "test_set2_score = accuracy_score(y2, grid.best_estimator_.predict(X2))\n",
    "\n",
    "print(\"test_set1 score: {:.2f}\".format(test_set1_score))\n",
    "print(\"test_set2 score: {:.2f}\".format(test_set2_score))"
   ]
  },
  {
   "cell_type": "code",
   "execution_count": 90,
   "metadata": {},
   "outputs": [
    {
     "name": "stdout",
     "output_type": "stream",
     "text": [
      "\n",
      "Confusion Matrix for test_set1:\n",
      "[[223   8   0]\n",
      " [ 20 372  19]\n",
      " [  0   6 135]]\n",
      "\n",
      "Classification Report for test_set1:\n",
      "              precision    recall  f1-score   support\n",
      "\n",
      "        rest       0.92      0.97      0.94       231\n",
      "    straight       0.96      0.91      0.93       411\n",
      "        turn       0.88      0.96      0.92       141\n",
      "\n",
      "    accuracy                           0.93       783\n",
      "   macro avg       0.92      0.94      0.93       783\n",
      "weighted avg       0.93      0.93      0.93       783\n",
      "\n"
     ]
    }
   ],
   "source": [
    "# TODO - Display confusion matrix and print classification report for (X1, y1)\n",
    "y1_pred = grid.best_estimator_.predict(X1)\n",
    "print(\"\\nConfusion Matrix for test_set1:\")\n",
    "print(confusion_matrix(y1, y1_pred))\n",
    "\n",
    "print(\"\\nClassification Report for test_set1:\")\n",
    "print(classification_report(y1, y1_pred))"
   ]
  },
  {
   "cell_type": "markdown",
   "metadata": {},
   "source": [
    "Display the confusion matrix and print the classification for test_set 2 *(X2, y2)*"
   ]
  },
  {
   "cell_type": "code",
   "execution_count": 91,
   "metadata": {},
   "outputs": [
    {
     "name": "stdout",
     "output_type": "stream",
     "text": [
      "\n",
      "Confusion Matrix for test_set2:\n",
      "[[  6  10   0]\n",
      " [  0 202   4]\n",
      " [  0  21  54]]\n",
      "\n",
      "Classification Report for test_set2:\n",
      "              precision    recall  f1-score   support\n",
      "\n",
      "        rest       1.00      0.38      0.55        16\n",
      "    straight       0.87      0.98      0.92       206\n",
      "        turn       0.93      0.72      0.81        75\n",
      "\n",
      "    accuracy                           0.88       297\n",
      "   macro avg       0.93      0.69      0.76       297\n",
      "weighted avg       0.89      0.88      0.87       297\n",
      "\n"
     ]
    }
   ],
   "source": [
    "# TODO - Display confusion matrix and print classification report for (X2, y2)\n",
    "print(\"\\nConfusion Matrix for test_set2:\")\n",
    "print(confusion_matrix(y2, y2_pred))\n",
    "\n",
    "print(\"\\nClassification Report for test_set2:\")\n",
    "print(classification_report(y2, y2_pred))"
   ]
  },
  {
   "cell_type": "markdown",
   "metadata": {},
   "source": [
    "___"
   ]
  },
  {
   "cell_type": "markdown",
   "metadata": {},
   "source": [
    "#### 4.2.3 - Questions"
   ]
  },
  {
   "cell_type": "markdown",
   "metadata": {},
   "source": [
    "1. Based on the observations across all three datasets, compare the performance of the model with PCA, trained in this section to: (4 marks)\n",
    "    * Model trained in Section 1 using *all features*.\n",
    "    * Model trained in Section 2 using *selected features*. \n",
    "    * Model trained in Section 3 using *group selected features*\n",
    "\n",
    "2. Please provide potential explanations for the differences observed in models' performances across between section 1 and 4. (2 marks)"
   ]
  },
  {
   "cell_type": "markdown",
   "metadata": {},
   "source": [
    "#### 4.2.3 - Answers\n",
    "1. Performance Comparison\n",
    "    1. Model Section 1 vs Section 4\n",
    "        \n",
    "        **Training/Validation Data:**\n",
    "        - Validation Accuracy: Section 1 (0.95) is slightly greater than Section 4 (0.94)\n",
    "        - Test Accuracy: Section 1 (0.96) is equal to Section 3 (0.96)\n",
    "\n",
    "        **Test Set 1:**\n",
    "        - Section 4 had a slightly higher accuracy of 0.93 compared to Section 1 with an accuracy of 0.92\n",
    "        - Section 4 achieves slightly higher accuracy and stronger performance for \"turn\".\n",
    "\n",
    "        **Test Set 2:**\n",
    "        - Section 4 had a significantly higher accuracy of 0.67 compared to Section 1 with an accuracy of 0.25\n",
    "\n",
    "    2. Model Section 2 vs Section 4\n",
    "\n",
    "        **Training/Validation Data:**\n",
    "        - Validation Accuracy: Section 4 (0.94) was greater than Section 2 (0.82)\n",
    "        - Test Accuracy: Section 4 (0.96) was greater than Section 2 (0.83)\n",
    "\n",
    "        **Test Set 1:**\n",
    "        - Section 4 had a higher accuracy of 0.93 compared to Section 2 with an accuracy of 0.83\n",
    "\n",
    "        **Test Set 2:**\n",
    "        - Section 2 had a higher accuracy of 0.84 compared to Section 4 with an accuracy of 0.67\n",
    "\n",
    "    3. Model Section 3 vs Section 4\n",
    "\n",
    "        **Training/Validation Data:**\n",
    "        - Validation Accuracy: Section 4 (0.94) was slightly greater than Section 3 (0.90)\n",
    "        - Test Accuracy: Section 4 (0.96) was slightly greater than Section 2 (0.93)\n",
    "\n",
    "        **Test Set 1:**\n",
    "        - Section 4 had a higher accuracy of 0.93 compared to Section 2 with an accuracy of 0.80\n",
    "\n",
    "        **Test Set 2:**\n",
    "        - Section 2 had a higher accuracy of 0.88 compared to Section 4 with an accuracy of 0.67\n",
    "\n",
    "2. Potential Explanations for the Differences\n",
    "    1. **Dimensionality Reduction:** \n",
    "        - Section 4 uses PCA to focus on the most important components of variability in the data, reducing noise and redundant features, these leads to Section 4 outperforming Section 1 in test sets.\n",
    "        - Section 2 reduces features significantly, leading to weaker performance on similar datasets but better adaptability to Test Set 2. The features in Section 2 appear to align better with the characteristics of Test Set 1 compared to Section 3. \n",
    "        - Section 1 uses all features, which can include irrelevant or noisy data, leading to overfitting on similar datasets and poor generalization on shifted datasets like Test Set 2\n",
    "\n",
    "    2. **Overfitting**\n",
    "        - PCA in Section 4 enhances generalization under data shifts (Test Set 2) compared to overfitting in Section 1.\n",
    "        - Section 1 achieves perfect training scores (1.00) and high validation accuracy but overfits the training data\n",
    "        - Sections 2 and 3 still show better generalization on Test Set 2 compared to Section 1 and 4\n",
    "\n",
    "    3. **Feature Representation**\n",
    "        - Section 4's PCA balances representation by reducing dimensionality while maintaining critical information. This leads to strong performance on Test Set 1 (0.93 accuracy) and moderate generalization to Test Set 2, but it may lose some important details critical for specific distributions.\n",
    "        - As shown for Test Set 2, PCA in Section 4 might discard some information critical for Test Set 2's distribution which results in a weaker performance compared to Section 2 and Section 3"
   ]
  },
  {
   "cell_type": "markdown",
   "metadata": {},
   "source": [
    "____"
   ]
  },
  {
   "cell_type": "markdown",
   "metadata": {},
   "source": [
    "## Section 5 - Classification Using *Pre Selected Features* Derived From Inertial Sensor Data (10 Marks)"
   ]
  },
  {
   "cell_type": "markdown",
   "metadata": {},
   "source": [
    "___"
   ]
  },
  {
   "cell_type": "markdown",
   "metadata": {},
   "source": [
    "Now, a second classifer is to be trained and tuned using grid search. The **selected features from section 2** must be used. You may choose from one of the algorithms discussed that class listed below.\n",
    "1. Random Forest\n",
    "1. K-Nearest Neighbors\n",
    "1. Gradient Boosting Machines\n",
    "1. Neural Networks"
   ]
  },
  {
   "cell_type": "markdown",
   "metadata": {},
   "source": [
    "____"
   ]
  },
  {
   "cell_type": "markdown",
   "metadata": {},
   "source": [
    "### 5.1 Grid Search with Cross Validation (6 Marks)"
   ]
  },
  {
   "cell_type": "markdown",
   "metadata": {},
   "source": [
    "___"
   ]
  },
  {
   "cell_type": "markdown",
   "metadata": {},
   "source": [
    "#### 5.1.1 Extract *Selected* features and target from *cv_set*"
   ]
  },
  {
   "cell_type": "markdown",
   "metadata": {},
   "source": [
    "**Questions**\n",
    "1. Please list the ML model that you have selected . And explain *why you have chosen* this model? (2 marks)"
   ]
  },
  {
   "cell_type": "markdown",
   "metadata": {},
   "source": [
    "**Answer** \n",
    "1. We selected a Random Forest. The reason why we picked Random Forest is because it handles overfitting well. Also, the features we chose in section 2, might not all be equally important. Random Forest is good at figuring out which features matter more and uses that information to make better predictions. Also Random Forest usually works well on different types of problems without needing a lot of extra work, like scaling or changing the data. The other methods may take a longer time to calculate distances if the dataset is big, or they may need more careful tuning and more time to train."
   ]
  },
  {
   "cell_type": "code",
   "execution_count": 92,
   "metadata": {},
   "outputs": [
    {
     "data": {
      "text/html": [
       "<div>\n",
       "<style scoped>\n",
       "    .dataframe tbody tr th:only-of-type {\n",
       "        vertical-align: middle;\n",
       "    }\n",
       "\n",
       "    .dataframe tbody tr th {\n",
       "        vertical-align: top;\n",
       "    }\n",
       "\n",
       "    .dataframe thead th {\n",
       "        text-align: right;\n",
       "    }\n",
       "</style>\n",
       "<table border=\"1\" class=\"dataframe\">\n",
       "  <thead>\n",
       "    <tr style=\"text-align: right;\">\n",
       "      <th></th>\n",
       "      <th>ax_var</th>\n",
       "      <th>ay_var</th>\n",
       "      <th>az_sum</th>\n",
       "      <th>a_sum</th>\n",
       "      <th>gz_var</th>\n",
       "    </tr>\n",
       "  </thead>\n",
       "  <tbody>\n",
       "    <tr>\n",
       "      <th>0</th>\n",
       "      <td>8.046094e-07</td>\n",
       "      <td>1.319665e-07</td>\n",
       "      <td>9.789349</td>\n",
       "      <td>9.797418</td>\n",
       "      <td>7.446916e-10</td>\n",
       "    </tr>\n",
       "    <tr>\n",
       "      <th>1</th>\n",
       "      <td>1.032619e-06</td>\n",
       "      <td>1.073067e-07</td>\n",
       "      <td>9.789095</td>\n",
       "      <td>9.798815</td>\n",
       "      <td>6.983481e-10</td>\n",
       "    </tr>\n",
       "  </tbody>\n",
       "</table>\n",
       "</div>"
      ],
      "text/plain": [
       "         ax_var        ay_var    az_sum     a_sum        gz_var\n",
       "0  8.046094e-07  1.319665e-07  9.789349  9.797418  7.446916e-10\n",
       "1  1.032619e-06  1.073067e-07  9.789095  9.798815  6.983481e-10"
      ]
     },
     "execution_count": 92,
     "metadata": {},
     "output_type": "execute_result"
    }
   ],
   "source": [
    "# TODO - Load group selected features from cv_set to X\n",
    "selected_features = ['ax_var', 'ay_var', 'az_sum', 'a_sum', 'gz_var']\n",
    "X = cv_set[selected_features]\n",
    "X.head(2)"
   ]
  },
  {
   "cell_type": "code",
   "execution_count": 93,
   "metadata": {},
   "outputs": [
    {
     "data": {
      "text/plain": [
       "0    rest\n",
       "1    rest\n",
       "Name: motion_state, dtype: object"
      ]
     },
     "execution_count": 93,
     "metadata": {},
     "output_type": "execute_result"
    }
   ],
   "source": [
    "# TODO - Load motion_state column (target vector) into y\n",
    "y = cv_set['motion_state']\n",
    "y.head(2)"
   ]
  },
  {
   "cell_type": "markdown",
   "metadata": {},
   "source": [
    "___"
   ]
  },
  {
   "cell_type": "markdown",
   "metadata": {},
   "source": [
    "#### 5.1.2 - Configure and Perform Grid Search with Cross-Validation"
   ]
  },
  {
   "cell_type": "markdown",
   "metadata": {},
   "source": [
    "Similar to the steps from **1.2.2** and perform model training and tuning using for the model selected. Perform the `train_test_split`, initiate a `Pipeline`, then define the *Parameters* for `GridSearchCV`. Finally, perfrom the grid search."
   ]
  },
  {
   "cell_type": "code",
   "execution_count": 94,
   "metadata": {},
   "outputs": [
    {
     "name": "stdout",
     "output_type": "stream",
     "text": [
      "Training set: 1073 samples, Testing set: 461 samples\n"
     ]
    }
   ],
   "source": [
    "# TODO - Perform train/test split\n",
    "X_train, X_test, y_train, y_test = train_test_split(\n",
    "    X, y, test_size=0.30, random_state=42, stratify=y\n",
    ")\n",
    "print(f\"Training set: {X_train.shape[0]} samples, Testing set: {X_test.shape[0]} samples\")"
   ]
  },
  {
   "cell_type": "code",
   "execution_count": 95,
   "metadata": {},
   "outputs": [],
   "source": [
    "# Perform any missing imports\n",
    "from sklearn.ensemble import RandomForestClassifier\n",
    "\n",
    "# TODO - Initiate the pipeline \n",
    "# (1 mark)\n",
    "pipe = Pipeline([\n",
    "    ('classifier', RandomForestClassifier(random_state=42))\n",
    "])"
   ]
  },
  {
   "cell_type": "code",
   "execution_count": 96,
   "metadata": {},
   "outputs": [],
   "source": [
    "# TODO - Define the parameter grid for your model\n",
    "# (3 marks)\n",
    "param_grid = {\n",
    "    'classifier__n_estimators': [50, 100, 200],  # Number of trees in the forest\n",
    "    'classifier__max_depth': [None, 10, 20, 30],  # Maximum depth of each tree\n",
    "    'classifier__min_samples_split': [2, 5, 10],  # Minimum samples required to split an internal node\n",
    "    'classifier__min_samples_leaf': [1, 2, 4],  # Minimum samples required to be at a leaf node\n",
    "    'classifier__bootstrap': [True, False]  # Whether bootstrap samples are used when building trees\n",
    "}"
   ]
  },
  {
   "cell_type": "code",
   "execution_count": null,
   "metadata": {},
   "outputs": [
    {
     "data": {
      "text/html": [
       "<style>#sk-container-id-9 {\n",
       "  /* Definition of color scheme common for light and dark mode */\n",
       "  --sklearn-color-text: black;\n",
       "  --sklearn-color-line: gray;\n",
       "  /* Definition of color scheme for unfitted estimators */\n",
       "  --sklearn-color-unfitted-level-0: #fff5e6;\n",
       "  --sklearn-color-unfitted-level-1: #f6e4d2;\n",
       "  --sklearn-color-unfitted-level-2: #ffe0b3;\n",
       "  --sklearn-color-unfitted-level-3: chocolate;\n",
       "  /* Definition of color scheme for fitted estimators */\n",
       "  --sklearn-color-fitted-level-0: #f0f8ff;\n",
       "  --sklearn-color-fitted-level-1: #d4ebff;\n",
       "  --sklearn-color-fitted-level-2: #b3dbfd;\n",
       "  --sklearn-color-fitted-level-3: cornflowerblue;\n",
       "\n",
       "  /* Specific color for light theme */\n",
       "  --sklearn-color-text-on-default-background: var(--sg-text-color, var(--theme-code-foreground, var(--jp-content-font-color1, black)));\n",
       "  --sklearn-color-background: var(--sg-background-color, var(--theme-background, var(--jp-layout-color0, white)));\n",
       "  --sklearn-color-border-box: var(--sg-text-color, var(--theme-code-foreground, var(--jp-content-font-color1, black)));\n",
       "  --sklearn-color-icon: #696969;\n",
       "\n",
       "  @media (prefers-color-scheme: dark) {\n",
       "    /* Redefinition of color scheme for dark theme */\n",
       "    --sklearn-color-text-on-default-background: var(--sg-text-color, var(--theme-code-foreground, var(--jp-content-font-color1, white)));\n",
       "    --sklearn-color-background: var(--sg-background-color, var(--theme-background, var(--jp-layout-color0, #111)));\n",
       "    --sklearn-color-border-box: var(--sg-text-color, var(--theme-code-foreground, var(--jp-content-font-color1, white)));\n",
       "    --sklearn-color-icon: #878787;\n",
       "  }\n",
       "}\n",
       "\n",
       "#sk-container-id-9 {\n",
       "  color: var(--sklearn-color-text);\n",
       "}\n",
       "\n",
       "#sk-container-id-9 pre {\n",
       "  padding: 0;\n",
       "}\n",
       "\n",
       "#sk-container-id-9 input.sk-hidden--visually {\n",
       "  border: 0;\n",
       "  clip: rect(1px 1px 1px 1px);\n",
       "  clip: rect(1px, 1px, 1px, 1px);\n",
       "  height: 1px;\n",
       "  margin: -1px;\n",
       "  overflow: hidden;\n",
       "  padding: 0;\n",
       "  position: absolute;\n",
       "  width: 1px;\n",
       "}\n",
       "\n",
       "#sk-container-id-9 div.sk-dashed-wrapped {\n",
       "  border: 1px dashed var(--sklearn-color-line);\n",
       "  margin: 0 0.4em 0.5em 0.4em;\n",
       "  box-sizing: border-box;\n",
       "  padding-bottom: 0.4em;\n",
       "  background-color: var(--sklearn-color-background);\n",
       "}\n",
       "\n",
       "#sk-container-id-9 div.sk-container {\n",
       "  /* jupyter's `normalize.less` sets `[hidden] { display: none; }`\n",
       "     but bootstrap.min.css set `[hidden] { display: none !important; }`\n",
       "     so we also need the `!important` here to be able to override the\n",
       "     default hidden behavior on the sphinx rendered scikit-learn.org.\n",
       "     See: https://github.com/scikit-learn/scikit-learn/issues/21755 */\n",
       "  display: inline-block !important;\n",
       "  position: relative;\n",
       "}\n",
       "\n",
       "#sk-container-id-9 div.sk-text-repr-fallback {\n",
       "  display: none;\n",
       "}\n",
       "\n",
       "div.sk-parallel-item,\n",
       "div.sk-serial,\n",
       "div.sk-item {\n",
       "  /* draw centered vertical line to link estimators */\n",
       "  background-image: linear-gradient(var(--sklearn-color-text-on-default-background), var(--sklearn-color-text-on-default-background));\n",
       "  background-size: 2px 100%;\n",
       "  background-repeat: no-repeat;\n",
       "  background-position: center center;\n",
       "}\n",
       "\n",
       "/* Parallel-specific style estimator block */\n",
       "\n",
       "#sk-container-id-9 div.sk-parallel-item::after {\n",
       "  content: \"\";\n",
       "  width: 100%;\n",
       "  border-bottom: 2px solid var(--sklearn-color-text-on-default-background);\n",
       "  flex-grow: 1;\n",
       "}\n",
       "\n",
       "#sk-container-id-9 div.sk-parallel {\n",
       "  display: flex;\n",
       "  align-items: stretch;\n",
       "  justify-content: center;\n",
       "  background-color: var(--sklearn-color-background);\n",
       "  position: relative;\n",
       "}\n",
       "\n",
       "#sk-container-id-9 div.sk-parallel-item {\n",
       "  display: flex;\n",
       "  flex-direction: column;\n",
       "}\n",
       "\n",
       "#sk-container-id-9 div.sk-parallel-item:first-child::after {\n",
       "  align-self: flex-end;\n",
       "  width: 50%;\n",
       "}\n",
       "\n",
       "#sk-container-id-9 div.sk-parallel-item:last-child::after {\n",
       "  align-self: flex-start;\n",
       "  width: 50%;\n",
       "}\n",
       "\n",
       "#sk-container-id-9 div.sk-parallel-item:only-child::after {\n",
       "  width: 0;\n",
       "}\n",
       "\n",
       "/* Serial-specific style estimator block */\n",
       "\n",
       "#sk-container-id-9 div.sk-serial {\n",
       "  display: flex;\n",
       "  flex-direction: column;\n",
       "  align-items: center;\n",
       "  background-color: var(--sklearn-color-background);\n",
       "  padding-right: 1em;\n",
       "  padding-left: 1em;\n",
       "}\n",
       "\n",
       "\n",
       "/* Toggleable style: style used for estimator/Pipeline/ColumnTransformer box that is\n",
       "clickable and can be expanded/collapsed.\n",
       "- Pipeline and ColumnTransformer use this feature and define the default style\n",
       "- Estimators will overwrite some part of the style using the `sk-estimator` class\n",
       "*/\n",
       "\n",
       "/* Pipeline and ColumnTransformer style (default) */\n",
       "\n",
       "#sk-container-id-9 div.sk-toggleable {\n",
       "  /* Default theme specific background. It is overwritten whether we have a\n",
       "  specific estimator or a Pipeline/ColumnTransformer */\n",
       "  background-color: var(--sklearn-color-background);\n",
       "}\n",
       "\n",
       "/* Toggleable label */\n",
       "#sk-container-id-9 label.sk-toggleable__label {\n",
       "  cursor: pointer;\n",
       "  display: block;\n",
       "  width: 100%;\n",
       "  margin-bottom: 0;\n",
       "  padding: 0.5em;\n",
       "  box-sizing: border-box;\n",
       "  text-align: center;\n",
       "}\n",
       "\n",
       "#sk-container-id-9 label.sk-toggleable__label-arrow:before {\n",
       "  /* Arrow on the left of the label */\n",
       "  content: \"▸\";\n",
       "  float: left;\n",
       "  margin-right: 0.25em;\n",
       "  color: var(--sklearn-color-icon);\n",
       "}\n",
       "\n",
       "#sk-container-id-9 label.sk-toggleable__label-arrow:hover:before {\n",
       "  color: var(--sklearn-color-text);\n",
       "}\n",
       "\n",
       "/* Toggleable content - dropdown */\n",
       "\n",
       "#sk-container-id-9 div.sk-toggleable__content {\n",
       "  max-height: 0;\n",
       "  max-width: 0;\n",
       "  overflow: hidden;\n",
       "  text-align: left;\n",
       "  /* unfitted */\n",
       "  background-color: var(--sklearn-color-unfitted-level-0);\n",
       "}\n",
       "\n",
       "#sk-container-id-9 div.sk-toggleable__content.fitted {\n",
       "  /* fitted */\n",
       "  background-color: var(--sklearn-color-fitted-level-0);\n",
       "}\n",
       "\n",
       "#sk-container-id-9 div.sk-toggleable__content pre {\n",
       "  margin: 0.2em;\n",
       "  border-radius: 0.25em;\n",
       "  color: var(--sklearn-color-text);\n",
       "  /* unfitted */\n",
       "  background-color: var(--sklearn-color-unfitted-level-0);\n",
       "}\n",
       "\n",
       "#sk-container-id-9 div.sk-toggleable__content.fitted pre {\n",
       "  /* unfitted */\n",
       "  background-color: var(--sklearn-color-fitted-level-0);\n",
       "}\n",
       "\n",
       "#sk-container-id-9 input.sk-toggleable__control:checked~div.sk-toggleable__content {\n",
       "  /* Expand drop-down */\n",
       "  max-height: 200px;\n",
       "  max-width: 100%;\n",
       "  overflow: auto;\n",
       "}\n",
       "\n",
       "#sk-container-id-9 input.sk-toggleable__control:checked~label.sk-toggleable__label-arrow:before {\n",
       "  content: \"▾\";\n",
       "}\n",
       "\n",
       "/* Pipeline/ColumnTransformer-specific style */\n",
       "\n",
       "#sk-container-id-9 div.sk-label input.sk-toggleable__control:checked~label.sk-toggleable__label {\n",
       "  color: var(--sklearn-color-text);\n",
       "  background-color: var(--sklearn-color-unfitted-level-2);\n",
       "}\n",
       "\n",
       "#sk-container-id-9 div.sk-label.fitted input.sk-toggleable__control:checked~label.sk-toggleable__label {\n",
       "  background-color: var(--sklearn-color-fitted-level-2);\n",
       "}\n",
       "\n",
       "/* Estimator-specific style */\n",
       "\n",
       "/* Colorize estimator box */\n",
       "#sk-container-id-9 div.sk-estimator input.sk-toggleable__control:checked~label.sk-toggleable__label {\n",
       "  /* unfitted */\n",
       "  background-color: var(--sklearn-color-unfitted-level-2);\n",
       "}\n",
       "\n",
       "#sk-container-id-9 div.sk-estimator.fitted input.sk-toggleable__control:checked~label.sk-toggleable__label {\n",
       "  /* fitted */\n",
       "  background-color: var(--sklearn-color-fitted-level-2);\n",
       "}\n",
       "\n",
       "#sk-container-id-9 div.sk-label label.sk-toggleable__label,\n",
       "#sk-container-id-9 div.sk-label label {\n",
       "  /* The background is the default theme color */\n",
       "  color: var(--sklearn-color-text-on-default-background);\n",
       "}\n",
       "\n",
       "/* On hover, darken the color of the background */\n",
       "#sk-container-id-9 div.sk-label:hover label.sk-toggleable__label {\n",
       "  color: var(--sklearn-color-text);\n",
       "  background-color: var(--sklearn-color-unfitted-level-2);\n",
       "}\n",
       "\n",
       "/* Label box, darken color on hover, fitted */\n",
       "#sk-container-id-9 div.sk-label.fitted:hover label.sk-toggleable__label.fitted {\n",
       "  color: var(--sklearn-color-text);\n",
       "  background-color: var(--sklearn-color-fitted-level-2);\n",
       "}\n",
       "\n",
       "/* Estimator label */\n",
       "\n",
       "#sk-container-id-9 div.sk-label label {\n",
       "  font-family: monospace;\n",
       "  font-weight: bold;\n",
       "  display: inline-block;\n",
       "  line-height: 1.2em;\n",
       "}\n",
       "\n",
       "#sk-container-id-9 div.sk-label-container {\n",
       "  text-align: center;\n",
       "}\n",
       "\n",
       "/* Estimator-specific */\n",
       "#sk-container-id-9 div.sk-estimator {\n",
       "  font-family: monospace;\n",
       "  border: 1px dotted var(--sklearn-color-border-box);\n",
       "  border-radius: 0.25em;\n",
       "  box-sizing: border-box;\n",
       "  margin-bottom: 0.5em;\n",
       "  /* unfitted */\n",
       "  background-color: var(--sklearn-color-unfitted-level-0);\n",
       "}\n",
       "\n",
       "#sk-container-id-9 div.sk-estimator.fitted {\n",
       "  /* fitted */\n",
       "  background-color: var(--sklearn-color-fitted-level-0);\n",
       "}\n",
       "\n",
       "/* on hover */\n",
       "#sk-container-id-9 div.sk-estimator:hover {\n",
       "  /* unfitted */\n",
       "  background-color: var(--sklearn-color-unfitted-level-2);\n",
       "}\n",
       "\n",
       "#sk-container-id-9 div.sk-estimator.fitted:hover {\n",
       "  /* fitted */\n",
       "  background-color: var(--sklearn-color-fitted-level-2);\n",
       "}\n",
       "\n",
       "/* Specification for estimator info (e.g. \"i\" and \"?\") */\n",
       "\n",
       "/* Common style for \"i\" and \"?\" */\n",
       "\n",
       ".sk-estimator-doc-link,\n",
       "a:link.sk-estimator-doc-link,\n",
       "a:visited.sk-estimator-doc-link {\n",
       "  float: right;\n",
       "  font-size: smaller;\n",
       "  line-height: 1em;\n",
       "  font-family: monospace;\n",
       "  background-color: var(--sklearn-color-background);\n",
       "  border-radius: 1em;\n",
       "  height: 1em;\n",
       "  width: 1em;\n",
       "  text-decoration: none !important;\n",
       "  margin-left: 1ex;\n",
       "  /* unfitted */\n",
       "  border: var(--sklearn-color-unfitted-level-1) 1pt solid;\n",
       "  color: var(--sklearn-color-unfitted-level-1);\n",
       "}\n",
       "\n",
       ".sk-estimator-doc-link.fitted,\n",
       "a:link.sk-estimator-doc-link.fitted,\n",
       "a:visited.sk-estimator-doc-link.fitted {\n",
       "  /* fitted */\n",
       "  border: var(--sklearn-color-fitted-level-1) 1pt solid;\n",
       "  color: var(--sklearn-color-fitted-level-1);\n",
       "}\n",
       "\n",
       "/* On hover */\n",
       "div.sk-estimator:hover .sk-estimator-doc-link:hover,\n",
       ".sk-estimator-doc-link:hover,\n",
       "div.sk-label-container:hover .sk-estimator-doc-link:hover,\n",
       ".sk-estimator-doc-link:hover {\n",
       "  /* unfitted */\n",
       "  background-color: var(--sklearn-color-unfitted-level-3);\n",
       "  color: var(--sklearn-color-background);\n",
       "  text-decoration: none;\n",
       "}\n",
       "\n",
       "div.sk-estimator.fitted:hover .sk-estimator-doc-link.fitted:hover,\n",
       ".sk-estimator-doc-link.fitted:hover,\n",
       "div.sk-label-container:hover .sk-estimator-doc-link.fitted:hover,\n",
       ".sk-estimator-doc-link.fitted:hover {\n",
       "  /* fitted */\n",
       "  background-color: var(--sklearn-color-fitted-level-3);\n",
       "  color: var(--sklearn-color-background);\n",
       "  text-decoration: none;\n",
       "}\n",
       "\n",
       "/* Span, style for the box shown on hovering the info icon */\n",
       ".sk-estimator-doc-link span {\n",
       "  display: none;\n",
       "  z-index: 9999;\n",
       "  position: relative;\n",
       "  font-weight: normal;\n",
       "  right: .2ex;\n",
       "  padding: .5ex;\n",
       "  margin: .5ex;\n",
       "  width: min-content;\n",
       "  min-width: 20ex;\n",
       "  max-width: 50ex;\n",
       "  color: var(--sklearn-color-text);\n",
       "  box-shadow: 2pt 2pt 4pt #999;\n",
       "  /* unfitted */\n",
       "  background: var(--sklearn-color-unfitted-level-0);\n",
       "  border: .5pt solid var(--sklearn-color-unfitted-level-3);\n",
       "}\n",
       "\n",
       ".sk-estimator-doc-link.fitted span {\n",
       "  /* fitted */\n",
       "  background: var(--sklearn-color-fitted-level-0);\n",
       "  border: var(--sklearn-color-fitted-level-3);\n",
       "}\n",
       "\n",
       ".sk-estimator-doc-link:hover span {\n",
       "  display: block;\n",
       "}\n",
       "\n",
       "/* \"?\"-specific style due to the `<a>` HTML tag */\n",
       "\n",
       "#sk-container-id-9 a.estimator_doc_link {\n",
       "  float: right;\n",
       "  font-size: 1rem;\n",
       "  line-height: 1em;\n",
       "  font-family: monospace;\n",
       "  background-color: var(--sklearn-color-background);\n",
       "  border-radius: 1rem;\n",
       "  height: 1rem;\n",
       "  width: 1rem;\n",
       "  text-decoration: none;\n",
       "  /* unfitted */\n",
       "  color: var(--sklearn-color-unfitted-level-1);\n",
       "  border: var(--sklearn-color-unfitted-level-1) 1pt solid;\n",
       "}\n",
       "\n",
       "#sk-container-id-9 a.estimator_doc_link.fitted {\n",
       "  /* fitted */\n",
       "  border: var(--sklearn-color-fitted-level-1) 1pt solid;\n",
       "  color: var(--sklearn-color-fitted-level-1);\n",
       "}\n",
       "\n",
       "/* On hover */\n",
       "#sk-container-id-9 a.estimator_doc_link:hover {\n",
       "  /* unfitted */\n",
       "  background-color: var(--sklearn-color-unfitted-level-3);\n",
       "  color: var(--sklearn-color-background);\n",
       "  text-decoration: none;\n",
       "}\n",
       "\n",
       "#sk-container-id-9 a.estimator_doc_link.fitted:hover {\n",
       "  /* fitted */\n",
       "  background-color: var(--sklearn-color-fitted-level-3);\n",
       "}\n",
       "</style><div id=\"sk-container-id-9\" class=\"sk-top-container\"><div class=\"sk-text-repr-fallback\"><pre>GridSearchCV(cv=5,\n",
       "             estimator=Pipeline(steps=[(&#x27;classifier&#x27;,\n",
       "                                        RandomForestClassifier(random_state=42))]),\n",
       "             param_grid={&#x27;classifier__bootstrap&#x27;: [True, False],\n",
       "                         &#x27;classifier__max_depth&#x27;: [None, 10, 20, 30],\n",
       "                         &#x27;classifier__min_samples_leaf&#x27;: [1, 2, 4],\n",
       "                         &#x27;classifier__min_samples_split&#x27;: [2, 5, 10],\n",
       "                         &#x27;classifier__n_estimators&#x27;: [50, 100, 200]},\n",
       "             return_train_score=True, scoring=&#x27;accuracy&#x27;)</pre><b>In a Jupyter environment, please rerun this cell to show the HTML representation or trust the notebook. <br />On GitHub, the HTML representation is unable to render, please try loading this page with nbviewer.org.</b></div><div class=\"sk-container\" hidden><div class=\"sk-item sk-dashed-wrapped\"><div class=\"sk-label-container\"><div class=\"sk-label fitted sk-toggleable\"><input class=\"sk-toggleable__control sk-hidden--visually\" id=\"sk-estimator-id-35\" type=\"checkbox\" ><label for=\"sk-estimator-id-35\" class=\"sk-toggleable__label fitted sk-toggleable__label-arrow fitted\">&nbsp;&nbsp;GridSearchCV<a class=\"sk-estimator-doc-link fitted\" rel=\"noreferrer\" target=\"_blank\" href=\"https://scikit-learn.org/1.5/modules/generated/sklearn.model_selection.GridSearchCV.html\">?<span>Documentation for GridSearchCV</span></a><span class=\"sk-estimator-doc-link fitted\">i<span>Fitted</span></span></label><div class=\"sk-toggleable__content fitted\"><pre>GridSearchCV(cv=5,\n",
       "             estimator=Pipeline(steps=[(&#x27;classifier&#x27;,\n",
       "                                        RandomForestClassifier(random_state=42))]),\n",
       "             param_grid={&#x27;classifier__bootstrap&#x27;: [True, False],\n",
       "                         &#x27;classifier__max_depth&#x27;: [None, 10, 20, 30],\n",
       "                         &#x27;classifier__min_samples_leaf&#x27;: [1, 2, 4],\n",
       "                         &#x27;classifier__min_samples_split&#x27;: [2, 5, 10],\n",
       "                         &#x27;classifier__n_estimators&#x27;: [50, 100, 200]},\n",
       "             return_train_score=True, scoring=&#x27;accuracy&#x27;)</pre></div> </div></div><div class=\"sk-parallel\"><div class=\"sk-parallel-item\"><div class=\"sk-item\"><div class=\"sk-label-container\"><div class=\"sk-label fitted sk-toggleable\"><input class=\"sk-toggleable__control sk-hidden--visually\" id=\"sk-estimator-id-36\" type=\"checkbox\" ><label for=\"sk-estimator-id-36\" class=\"sk-toggleable__label fitted sk-toggleable__label-arrow fitted\">best_estimator_: Pipeline</label><div class=\"sk-toggleable__content fitted\"><pre>Pipeline(steps=[(&#x27;classifier&#x27;,\n",
       "                 RandomForestClassifier(min_samples_leaf=2,\n",
       "                                        min_samples_split=10, n_estimators=50,\n",
       "                                        random_state=42))])</pre></div> </div></div><div class=\"sk-serial\"><div class=\"sk-item\"><div class=\"sk-serial\"><div class=\"sk-item\"><div class=\"sk-estimator fitted sk-toggleable\"><input class=\"sk-toggleable__control sk-hidden--visually\" id=\"sk-estimator-id-37\" type=\"checkbox\" ><label for=\"sk-estimator-id-37\" class=\"sk-toggleable__label fitted sk-toggleable__label-arrow fitted\">&nbsp;RandomForestClassifier<a class=\"sk-estimator-doc-link fitted\" rel=\"noreferrer\" target=\"_blank\" href=\"https://scikit-learn.org/1.5/modules/generated/sklearn.ensemble.RandomForestClassifier.html\">?<span>Documentation for RandomForestClassifier</span></a></label><div class=\"sk-toggleable__content fitted\"><pre>RandomForestClassifier(min_samples_leaf=2, min_samples_split=10,\n",
       "                       n_estimators=50, random_state=42)</pre></div> </div></div></div></div></div></div></div></div></div></div></div>"
      ],
      "text/plain": [
       "GridSearchCV(cv=5,\n",
       "             estimator=Pipeline(steps=[('classifier',\n",
       "                                        RandomForestClassifier(random_state=42))]),\n",
       "             param_grid={'classifier__bootstrap': [True, False],\n",
       "                         'classifier__max_depth': [None, 10, 20, 30],\n",
       "                         'classifier__min_samples_leaf': [1, 2, 4],\n",
       "                         'classifier__min_samples_split': [2, 5, 10],\n",
       "                         'classifier__n_estimators': [50, 100, 200]},\n",
       "             return_train_score=True, scoring='accuracy')"
      ]
     },
     "execution_count": 97,
     "metadata": {},
     "output_type": "execute_result"
    }
   ],
   "source": [
    "# TODO - Perform the grid search\n",
    "grid = GridSearchCV(pipe, param_grid, cv=5, scoring='accuracy', return_train_score=True)\n",
    "grid.fit(X_train, y_train) # Took approximately 2m 30.4s to execute"
   ]
  },
  {
   "cell_type": "markdown",
   "metadata": {},
   "source": [
    "___"
   ]
  },
  {
   "cell_type": "markdown",
   "metadata": {},
   "source": [
    "#### 5.1.3 - Visualize Grid Search Results"
   ]
  },
  {
   "cell_type": "markdown",
   "metadata": {},
   "source": [
    "Print the results from the grid search. The following outputs must be printed.\n",
    "* Best parameter set\n",
    "* Best cross-validation train score\n",
    "* Best cross-validation test score\n",
    "* Test set accuracy"
   ]
  },
  {
   "cell_type": "code",
   "execution_count": 98,
   "metadata": {},
   "outputs": [
    {
     "name": "stdout",
     "output_type": "stream",
     "text": [
      "Best params:\n",
      "{'classifier__bootstrap': True, 'classifier__max_depth': None, 'classifier__min_samples_leaf': 2, 'classifier__min_samples_split': 10, 'classifier__n_estimators': 50}\n",
      "\n",
      "Best cross-validation train score: 0.99\n",
      "Best cross-validation validation score: 0.77\n",
      "Test-set score: 0.77\n"
     ]
    }
   ],
   "source": [
    "# TODO: Print the results from the grid search\n",
    "\n",
    "print(\"Best params:\\n{}\\n\".format(grid.best_params_))\n",
    "print(\"Best cross-validation train score: {:.2f}\".format(max(grid.cv_results_['mean_train_score'])))\n",
    "print(\"Best cross-validation validation score: {:.2f}\".format(grid.best_score_))\n",
    "\n",
    "test_set_score = accuracy_score(y_test, grid.best_estimator_.predict(X_test))\n",
    "print(\"Test-set score: {:.2f}\".format(test_set_score))"
   ]
  },
  {
   "cell_type": "markdown",
   "metadata": {},
   "source": [
    "Display the confusion matrix and print the classification report for the trained model using the *test* split. "
   ]
  },
  {
   "cell_type": "code",
   "execution_count": 99,
   "metadata": {},
   "outputs": [
    {
     "name": "stdout",
     "output_type": "stream",
     "text": [
      "\n",
      "Confusion Matrix:\n",
      "[[142  12   1]\n",
      " [  9 185  13]\n",
      " [  1  68  30]]\n",
      "\n",
      "Classification Report:\n",
      "              precision    recall  f1-score   support\n",
      "\n",
      "        rest       0.93      0.92      0.93       155\n",
      "    straight       0.70      0.89      0.78       207\n",
      "        turn       0.68      0.30      0.42        99\n",
      "\n",
      "    accuracy                           0.77       461\n",
      "   macro avg       0.77      0.70      0.71       461\n",
      "weighted avg       0.77      0.77      0.75       461\n",
      "\n"
     ]
    }
   ],
   "source": [
    "# TODO - Display confusion matrix and print classification report\n",
    "y_pred = grid.best_estimator_.predict(X_test)\n",
    "\n",
    "print(\"\\nConfusion Matrix:\")\n",
    "print(confusion_matrix(y_test, y_pred))\n",
    "\n",
    "print(\"\\nClassification Report:\")\n",
    "print(classification_report(y_test, y_pred))"
   ]
  },
  {
   "cell_type": "markdown",
   "metadata": {},
   "source": [
    "___"
   ]
  },
  {
   "cell_type": "markdown",
   "metadata": {},
   "source": [
    "### 5.2 - Model Evaluation on Test Datasets 1 and 2 (4 Marks)"
   ]
  },
  {
   "cell_type": "markdown",
   "metadata": {},
   "source": [
    "___"
   ]
  },
  {
   "cell_type": "markdown",
   "metadata": {},
   "source": [
    "#### 5.2.1 - Extract selected features and targets from test datasets"
   ]
  },
  {
   "cell_type": "markdown",
   "metadata": {},
   "source": [
    "The model trained in 5.1, is to be tested on the independent datasets, that is test_set1 and test_set2. \n",
    "Seperate the testsets into features and target vectors *(X1, y1)* and *(X2,y2)*"
   ]
  },
  {
   "cell_type": "code",
   "execution_count": 100,
   "metadata": {},
   "outputs": [
    {
     "data": {
      "text/html": [
       "<div>\n",
       "<style scoped>\n",
       "    .dataframe tbody tr th:only-of-type {\n",
       "        vertical-align: middle;\n",
       "    }\n",
       "\n",
       "    .dataframe tbody tr th {\n",
       "        vertical-align: top;\n",
       "    }\n",
       "\n",
       "    .dataframe thead th {\n",
       "        text-align: right;\n",
       "    }\n",
       "</style>\n",
       "<table border=\"1\" class=\"dataframe\">\n",
       "  <thead>\n",
       "    <tr style=\"text-align: right;\">\n",
       "      <th></th>\n",
       "      <th>ax_var</th>\n",
       "      <th>ay_var</th>\n",
       "      <th>az_sum</th>\n",
       "      <th>a_sum</th>\n",
       "      <th>gz_var</th>\n",
       "    </tr>\n",
       "  </thead>\n",
       "  <tbody>\n",
       "    <tr>\n",
       "      <th>0</th>\n",
       "      <td>0.000001</td>\n",
       "      <td>7.749919e-08</td>\n",
       "      <td>9.786930</td>\n",
       "      <td>9.801661</td>\n",
       "      <td>7.727190e-10</td>\n",
       "    </tr>\n",
       "    <tr>\n",
       "      <th>1</th>\n",
       "      <td>0.000001</td>\n",
       "      <td>9.243000e-08</td>\n",
       "      <td>9.788127</td>\n",
       "      <td>9.802481</td>\n",
       "      <td>8.871433e-10</td>\n",
       "    </tr>\n",
       "  </tbody>\n",
       "</table>\n",
       "</div>"
      ],
      "text/plain": [
       "     ax_var        ay_var    az_sum     a_sum        gz_var\n",
       "0  0.000001  7.749919e-08  9.786930  9.801661  7.727190e-10\n",
       "1  0.000001  9.243000e-08  9.788127  9.802481  8.871433e-10"
      ]
     },
     "execution_count": 100,
     "metadata": {},
     "output_type": "execute_result"
    }
   ],
   "source": [
    "# TODO - Load the target vector from test_set1 into y1, and the selected features from test_set1 into X1\n",
    "selected_features = ['ax_var', 'ay_var', 'az_sum', 'a_sum', 'gz_var']\n",
    "y1 = test_set1['motion_state']\n",
    "X1 = test_set1[selected_features]\n",
    "X1.head(2)"
   ]
  },
  {
   "cell_type": "code",
   "execution_count": 101,
   "metadata": {},
   "outputs": [
    {
     "data": {
      "text/html": [
       "<div>\n",
       "<style scoped>\n",
       "    .dataframe tbody tr th:only-of-type {\n",
       "        vertical-align: middle;\n",
       "    }\n",
       "\n",
       "    .dataframe tbody tr th {\n",
       "        vertical-align: top;\n",
       "    }\n",
       "\n",
       "    .dataframe thead th {\n",
       "        text-align: right;\n",
       "    }\n",
       "</style>\n",
       "<table border=\"1\" class=\"dataframe\">\n",
       "  <thead>\n",
       "    <tr style=\"text-align: right;\">\n",
       "      <th></th>\n",
       "      <th>ax_var</th>\n",
       "      <th>ay_var</th>\n",
       "      <th>az_sum</th>\n",
       "      <th>a_sum</th>\n",
       "      <th>gz_var</th>\n",
       "    </tr>\n",
       "  </thead>\n",
       "  <tbody>\n",
       "    <tr>\n",
       "      <th>0</th>\n",
       "      <td>0.000002</td>\n",
       "      <td>3.020959e-07</td>\n",
       "      <td>9.791451</td>\n",
       "      <td>9.800683</td>\n",
       "      <td>1.405038e-09</td>\n",
       "    </tr>\n",
       "    <tr>\n",
       "      <th>1</th>\n",
       "      <td>0.000003</td>\n",
       "      <td>6.859937e-07</td>\n",
       "      <td>9.785619</td>\n",
       "      <td>9.797741</td>\n",
       "      <td>1.164381e-09</td>\n",
       "    </tr>\n",
       "  </tbody>\n",
       "</table>\n",
       "</div>"
      ],
      "text/plain": [
       "     ax_var        ay_var    az_sum     a_sum        gz_var\n",
       "0  0.000002  3.020959e-07  9.791451  9.800683  1.405038e-09\n",
       "1  0.000003  6.859937e-07  9.785619  9.797741  1.164381e-09"
      ]
     },
     "execution_count": 101,
     "metadata": {},
     "output_type": "execute_result"
    }
   ],
   "source": [
    "# TODO - Load the target vector from test_set2 into y2, and the selected features from test_set2 into X2\n",
    "y2 = test_set2['motion_state']\n",
    "X2 = test_set2[selected_features]\n",
    "X2.head(2)"
   ]
  },
  {
   "cell_type": "markdown",
   "metadata": {},
   "source": [
    "___"
   ]
  },
  {
   "cell_type": "markdown",
   "metadata": {},
   "source": [
    "#### 5.2.2 - Visualize Results"
   ]
  },
  {
   "cell_type": "markdown",
   "metadata": {},
   "source": [
    "For each test dataset, print the test set accuracy score. "
   ]
  },
  {
   "cell_type": "code",
   "execution_count": 102,
   "metadata": {},
   "outputs": [
    {
     "name": "stdout",
     "output_type": "stream",
     "text": [
      "test_set1 score: 0.78\n",
      "test_set2 score: 0.74\n"
     ]
    }
   ],
   "source": [
    "# TODO - Print test score accuracies for test_set1 and test_set2\n",
    "test_set1_score = accuracy_score(y1, grid.best_estimator_.predict(X1))\n",
    "test_set2_score = accuracy_score(y2, grid.best_estimator_.predict(X2))\n",
    "\n",
    "print(\"test_set1 score: {:.2f}\".format(test_set1_score))\n",
    "print(\"test_set2 score: {:.2f}\".format(test_set2_score))"
   ]
  },
  {
   "cell_type": "markdown",
   "metadata": {},
   "source": [
    "Display the confusion matrix and print the classification for test_set 1 *(X1, y1)*"
   ]
  },
  {
   "cell_type": "code",
   "execution_count": 103,
   "metadata": {},
   "outputs": [
    {
     "name": "stdout",
     "output_type": "stream",
     "text": [
      "\n",
      "Confusion Matrix for test_set1:\n",
      "[[226   5   0]\n",
      " [  8 344  59]\n",
      " [  0 101  40]]\n",
      "\n",
      "Classification Report for test_set1:\n",
      "              precision    recall  f1-score   support\n",
      "\n",
      "        rest       0.97      0.98      0.97       231\n",
      "    straight       0.76      0.84      0.80       411\n",
      "        turn       0.40      0.28      0.33       141\n",
      "\n",
      "    accuracy                           0.78       783\n",
      "   macro avg       0.71      0.70      0.70       783\n",
      "weighted avg       0.76      0.78      0.77       783\n",
      "\n"
     ]
    }
   ],
   "source": [
    "# TODO - Display confusion matrix and print classification report for (X1, y1)\n",
    "y1_pred = grid.best_estimator_.predict(X1)\n",
    "print(\"\\nConfusion Matrix for test_set1:\")\n",
    "print(confusion_matrix(y1, y1_pred))\n",
    "\n",
    "print(\"\\nClassification Report for test_set1:\")\n",
    "print(classification_report(y1, y1_pred))"
   ]
  },
  {
   "cell_type": "markdown",
   "metadata": {},
   "source": [
    "Display the confusion matrix and print the classification for test_set 2 *(X2, y2)*"
   ]
  },
  {
   "cell_type": "code",
   "execution_count": 104,
   "metadata": {},
   "outputs": [
    {
     "name": "stdout",
     "output_type": "stream",
     "text": [
      "\n",
      "Confusion Matrix for test_set2:\n",
      "[[ 13   3   0]\n",
      " [  1 200   5]\n",
      " [  0  68   7]]\n",
      "\n",
      "Classification Report for test_set2:\n",
      "              precision    recall  f1-score   support\n",
      "\n",
      "        rest       0.93      0.81      0.87        16\n",
      "    straight       0.74      0.97      0.84       206\n",
      "        turn       0.58      0.09      0.16        75\n",
      "\n",
      "    accuracy                           0.74       297\n",
      "   macro avg       0.75      0.63      0.62       297\n",
      "weighted avg       0.71      0.74      0.67       297\n",
      "\n"
     ]
    }
   ],
   "source": [
    "# TODO - Display confusion matrix and print classification report for (X2, y2)\n",
    "y2_pred = grid.best_estimator_.predict(X2)\n",
    "print(\"\\nConfusion Matrix for test_set2:\")\n",
    "print(confusion_matrix(y2, y2_pred))\n",
    "\n",
    "print(\"\\nClassification Report for test_set2:\")\n",
    "print(classification_report(y2, y2_pred))"
   ]
  },
  {
   "cell_type": "markdown",
   "metadata": {},
   "source": [
    "___"
   ]
  },
  {
   "cell_type": "markdown",
   "metadata": {},
   "source": [
    "#### 5.2.3 Question"
   ]
  },
  {
   "cell_type": "markdown",
   "metadata": {},
   "source": [
    "1. For the model trainied in this section, compare its performance to the performance of SVC which was also trained with the same selected features (section 2). Which model fits better? Explain causes for any observed discrepancies? (4 marks)"
   ]
  },
  {
   "cell_type": "markdown",
   "metadata": {},
   "source": [
    "#### 5.2.3 - Answer \n",
    "1. Performance Comparison of Section 2 (SVC) vs Section 5 (Random Forest)\n",
    "\n",
    "    **Training/Validation Data:**\n",
    "    - Cross-validation train score: Section 5 (0.99) is slightly greater than Section 2 (0.97)\n",
    "    - Cross-validation validation score: Section 2 (0.82) is greater than Section 5 (0.77)\n",
    "    - Test-set score: Section 2 (0.83) is greater than Section 5 (0.77)\n",
    "\n",
    "    **Test Set 1:**\n",
    "    - Section 2 had a slightly higher accuracy of 0.83 compared to Section 5 with an accuracy of 0.78\n",
    "    - Section 5 struggled with \"turn\" class.\n",
    "\n",
    "    **Test Set 2:**\n",
    "    - Section 2 had a higher accuracy of 0.84 compared to Section 5 with an accuracy of 0.74\n",
    "    - Section 5 continued to struggle with \"turn\" class.\n",
    "\n",
    "    SVC (Section 2) fits better overall, as it generalizes well across all datasets and balances performance across classes, especially the minority \"turn\" class.\n",
    "\n",
    "    **Reasons for Discrepancies:**\n",
    "    1. Overfitting:\n",
    "        - Random Forest has very high training scores but lower validation/test scores, suggesting overfitting to training data. SVC avoids this and generalizes better.\n",
    "\n",
    "    2. Handling of Features:\n",
    "        - SVC finds a global boundary using all features, which works well with the selected feature set. Random Forest splits features hierarchically, which can lead to weaker performance with fewer features.\n",
    "\n",
    "    3. Class Imbalance:\n",
    "        - The \"turn\" class has fewer samples. SVC balances class performance better, while Random Forest focuses more on the majority classes (\"rest\" and \"straight\"), leading to poor recall for \"turn.\"\n",
    "\n",
    "    4. Random Forest Complexity:\n",
    "        - Random Forest has more hyperparameters, making it harder to optimize effectively, whereas SVC is simpler to tune and achieves strong results.\n",
    "\n",
    "    In summary, the SVC model trained in Section 2 is better suited for the selected features. Random Forest requires further tuning or additional features to match SVC's performance."
   ]
  },
  {
   "cell_type": "markdown",
   "metadata": {},
   "source": [
    "____"
   ]
  }
 ],
 "metadata": {
  "kernelspec": {
   "display_name": "Python 3",
   "language": "python",
   "name": "python3"
  },
  "language_info": {
   "codemirror_mode": {
    "name": "ipython",
    "version": 3
   },
   "file_extension": ".py",
   "mimetype": "text/x-python",
   "name": "python",
   "nbconvert_exporter": "python",
   "pygments_lexer": "ipython3",
   "version": "3.10.7"
  }
 },
 "nbformat": 4,
 "nbformat_minor": 2
}

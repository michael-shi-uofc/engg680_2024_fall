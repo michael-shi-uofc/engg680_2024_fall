{
 "cells": [
  {
   "cell_type": "markdown",
   "id": "HWXrzcz_y4W4",
   "metadata": {
    "id": "HWXrzcz_y4W4"
   },
   "source": [
    "# **ENGG680 - Introduction to Digital Engineering**\n",
    "## *Lab Assignment 1: Using Git and Python for Collaborative Coding in Google Colab*"
   ]
  },
  {
   "cell_type": "markdown",
   "id": "4fab98ae-2ed4-4d63-92bf-1de5dbb19934",
   "metadata": {},
   "source": [
    "## Preliminary: Certificate of Work\n",
    "### (5 Marks)"
   ]
  },
  {
   "cell_type": "markdown",
   "id": "8f496d8e-869b-4d21-aa88-60d8ae45ba61",
   "metadata": {},
   "source": [
    "*We, the undersigned, certify that this is our own work, which has been done expressly for this course, either without the assistance of any other party or where appropriate we have acknowledged the work of others. Further, we have read and understood the section in the university calendar on plagiarism/cheating/other academic misconduct and we are aware of the implications thereof. We request that the total mark for this assignment be distributed as follows among group members:*"
   ]
  },
  {
   "cell_type": "markdown",
   "id": "5d9b6a22-cf19-4a2b-8b01-8a2a2a0f1f1f",
   "metadata": {},
   "source": [
    "|          | First Name | Last Name | Signature (Full Name, Date) | Hours | Contribution % |\n",
    "|----------|------------|-----------|-----------------------------|-------|----------------|\n",
    "| Member 1: | Michael | Shi | Michael Shi, 09-26-2024 | 6 | 25% |\n",
    "| Member 2: | Sheinn | Min Thu | Sheinn Min Thu, 09-26-2024 | 6 | 25% |\n",
    "| Member 3: | Hlayn | Toe Wai | Hlayn Toe Wai, 09-26-2024 | 6 | 25% |\n",
    "| Member 4: | Hsu Hsu | Sandi | Hsu Hsu Sandi, 09-26-2024 | 6 | 25% |\n"
   ]
  },
  {
   "cell_type": "markdown",
   "id": "f1aa1475-009f-4697-b37a-e46286e2b792",
   "metadata": {
    "id": "f1aa1475-009f-4697-b37a-e46286e2b792"
   },
   "source": [
    "## Part 1: Printing to the Console\n",
    "### (6 Marks)"
   ]
  },
  {
   "cell_type": "code",
   "execution_count": 2,
   "id": "78e4aa0e-2a7d-44cc-9f8b-b3593c1e8176",
   "metadata": {
    "id": "78e4aa0e-2a7d-44cc-9f8b-b3593c1e8176"
   },
   "outputs": [
    {
     "name": "stdout",
     "output_type": "stream",
     "text": [
      "Hello, World! Welcome to the Student Gradebook Management System.\n"
     ]
    }
   ],
   "source": [
    "# In the space below, please print \"Hello, World! Welcome to the Student Gradebook Management System.\"\n",
    "# (1 mark)\n",
    "print(\"Hello, World! Welcome to the Student Gradebook Management System.\")"
   ]
  },
  {
   "cell_type": "code",
   "execution_count": 2,
   "id": "l3Venmnzsq2m",
   "metadata": {
    "id": "l3Venmnzsq2m"
   },
   "outputs": [
    {
     "name": "stdout",
     "output_type": "stream",
     "text": [
      " This is implemented by Group 18, for ENGG680 Fall of 2024\n"
     ]
    }
   ],
   "source": [
    "# Fill in your information using the defined variables below:\n",
    "# (1 mark)\n",
    "lab_group_number = 18\n",
    "intake_year = 2024\n",
    "intake_semester = \"Fall\"\n",
    "\n",
    "# Using f-strings and the variables above, print \"This is implemented by Group <lab_group_number>, for ENGG680 <intake_semester> of <intake_year>\"\n",
    "# (2 marks)\n",
    "print(f\"This is implemented by Group {lab_group_number}, for ENGG680 {intake_semester} of {intake_year}\")"
   ]
  },
  {
   "cell_type": "code",
   "execution_count": 21,
   "id": "mTPZ16XEtnHV",
   "metadata": {
    "id": "mTPZ16XEtnHV"
   },
   "outputs": [
    {
     "name": "stdout",
     "output_type": "stream",
     "text": [
      "The subjects involved in this grading system is English and Math.\n"
     ]
    }
   ],
   "source": [
    "# Use indexing to print \"The subjects involved in this grading system is English and Math.\" using \"subjects\" below.\n",
    "# (2 marks)\n",
    "subjects = (\"English\", \"Math\")\n",
    "print(f\"The subjects involved in this grading system is {subjects[0]} and {subjects[1]}.\")"
   ]
  },
  {
   "cell_type": "markdown",
   "id": "b45a5575-8e77-4bba-8311-69f997affc35",
   "metadata": {
    "id": "b45a5575-8e77-4bba-8311-69f997affc35"
   },
   "source": [
    "## Part 2: Using Pandas for Data Management and Analytics\n",
    "### (20 marks)"
   ]
  },
  {
   "cell_type": "code",
   "execution_count": 2,
   "id": "6dbaa42e-22e3-4aa6-9bd3-dd9ede274c17",
   "metadata": {
    "id": "6dbaa42e-22e3-4aa6-9bd3-dd9ede274c17"
   },
   "outputs": [],
   "source": [
    "# In the space below, please import the Pandas library\n",
    "# (1 mark)\n",
    "import pandas as pd"
   ]
  },
  {
   "cell_type": "code",
   "execution_count": 3,
   "id": "cce8e74f-bba1-4bf4-baaf-13e23cdf4afc",
   "metadata": {
    "id": "cce8e74f-bba1-4bf4-baaf-13e23cdf4afc"
   },
   "outputs": [],
   "source": [
    "# Load the student grade CSV files into DataFrames using the defined variables\n",
    "# (2 marks)\n",
    "df_english = pd.read_csv('studentGrades_English.csv')\n",
    "df_math = pd.read_csv('studentGrades_Math.csv')"
   ]
  },
  {
   "cell_type": "code",
   "execution_count": 4,
   "id": "8fb240f4-6358-4f61-ab12-f0134c0144a8",
   "metadata": {
    "id": "8fb240f4-6358-4f61-ab12-f0134c0144a8"
   },
   "outputs": [],
   "source": [
    "# Merging the DataFrames on 'studentID'\n",
    "df_studentGrades = pd.merge(df_english, df_math, on='studentID', suffixes=('_English', '_Math'))"
   ]
  },
  {
   "cell_type": "code",
   "execution_count": 4,
   "id": "a9e571ef-d61b-4594-a181-503dca3fe49b",
   "metadata": {
    "id": "a9e571ef-d61b-4594-a181-503dca3fe49b"
   },
   "outputs": [],
   "source": [
    "# Take a look at the data contained in the csv files. Why is studentID chosen as the key?\n",
    "# (1 mark)\n",
    "# The reason why studentID was chosen as a key is because it's a unique identifier that corresponds to each student for both csv files.\n",
    "# This means that data for both English and Math files are aligned based on the same student."
   ]
  },
  {
   "cell_type": "code",
   "execution_count": 5,
   "id": "e23aaa90-fb4c-43f9-a3fc-1ae850bf65ab",
   "metadata": {
    "id": "e23aaa90-fb4c-43f9-a3fc-1ae850bf65ab"
   },
   "outputs": [
    {
     "data": {
      "text/html": [
       "<div>\n",
       "<style scoped>\n",
       "    .dataframe tbody tr th:only-of-type {\n",
       "        vertical-align: middle;\n",
       "    }\n",
       "\n",
       "    .dataframe tbody tr th {\n",
       "        vertical-align: top;\n",
       "    }\n",
       "\n",
       "    .dataframe thead th {\n",
       "        text-align: right;\n",
       "    }\n",
       "</style>\n",
       "<table border=\"1\" class=\"dataframe\">\n",
       "  <thead>\n",
       "    <tr style=\"text-align: right;\">\n",
       "      <th></th>\n",
       "      <th>firstName_English</th>\n",
       "      <th>lastName_English</th>\n",
       "      <th>studentID</th>\n",
       "      <th>grade_English</th>\n",
       "      <th>firstName_Math</th>\n",
       "      <th>lastName_Math</th>\n",
       "      <th>grade_Math</th>\n",
       "      <th>GPA</th>\n",
       "    </tr>\n",
       "  </thead>\n",
       "  <tbody>\n",
       "    <tr>\n",
       "      <th>0</th>\n",
       "      <td>Emma</td>\n",
       "      <td>Smith</td>\n",
       "      <td>10959</td>\n",
       "      <td>95</td>\n",
       "      <td>Emma</td>\n",
       "      <td>Smith</td>\n",
       "      <td>90</td>\n",
       "      <td>92.5</td>\n",
       "    </tr>\n",
       "    <tr>\n",
       "      <th>1</th>\n",
       "      <td>Sophia</td>\n",
       "      <td>Robinson</td>\n",
       "      <td>75175</td>\n",
       "      <td>88</td>\n",
       "      <td>Sophia</td>\n",
       "      <td>Robinson</td>\n",
       "      <td>95</td>\n",
       "      <td>91.5</td>\n",
       "    </tr>\n",
       "    <tr>\n",
       "      <th>2</th>\n",
       "      <td>Emma</td>\n",
       "      <td>Taylor</td>\n",
       "      <td>42257</td>\n",
       "      <td>87</td>\n",
       "      <td>Emma</td>\n",
       "      <td>Taylor</td>\n",
       "      <td>85</td>\n",
       "      <td>86.0</td>\n",
       "    </tr>\n",
       "    <tr>\n",
       "      <th>3</th>\n",
       "      <td>David</td>\n",
       "      <td>Robinson</td>\n",
       "      <td>55148</td>\n",
       "      <td>86</td>\n",
       "      <td>David</td>\n",
       "      <td>Robinson</td>\n",
       "      <td>87</td>\n",
       "      <td>86.5</td>\n",
       "    </tr>\n",
       "    <tr>\n",
       "      <th>4</th>\n",
       "      <td>Stephen</td>\n",
       "      <td>Curry</td>\n",
       "      <td>30303</td>\n",
       "      <td>90</td>\n",
       "      <td>Stephen</td>\n",
       "      <td>Curry</td>\n",
       "      <td>88</td>\n",
       "      <td>89.0</td>\n",
       "    </tr>\n",
       "  </tbody>\n",
       "</table>\n",
       "</div>"
      ],
      "text/plain": [
       "  firstName_English lastName_English  studentID  grade_English firstName_Math  \\\n",
       "0              Emma            Smith      10959             95           Emma   \n",
       "1            Sophia         Robinson      75175             88         Sophia   \n",
       "2              Emma           Taylor      42257             87           Emma   \n",
       "3             David         Robinson      55148             86          David   \n",
       "4           Stephen            Curry      30303             90        Stephen   \n",
       "\n",
       "  lastName_Math  grade_Math   GPA  \n",
       "0         Smith          90  92.5  \n",
       "1      Robinson          95  91.5  \n",
       "2        Taylor          85  86.0  \n",
       "3      Robinson          87  86.5  \n",
       "4         Curry          88  89.0  "
      ]
     },
     "execution_count": 5,
     "metadata": {},
     "output_type": "execute_result"
    }
   ],
   "source": [
    "# Let's calculate the average GPA across the two classes for each student\n",
    "df_studentGrades['GPA'] = df_studentGrades[['grade_English', 'grade_Math']].mean(axis=1)\n",
    "\n",
    "# Now let's check the data! In the space below, please use the .head method to display the dataframe.\n",
    "# (1 mark)\n",
    "df_studentGrades.head()"
   ]
  },
  {
   "cell_type": "code",
   "execution_count": 6,
   "id": "9f28f907-7e7d-4be4-87b8-db03fef69dfa",
   "metadata": {
    "id": "9f28f907-7e7d-4be4-87b8-db03fef69dfa"
   },
   "outputs": [],
   "source": [
    "# Do you notice a problem? The rows for first name and last name have been duplicated!\n",
    "# .drop(columns=['<column_name1>','<column_name2>'] is a Pandas method that can be used to drop columns.\n",
    "# In the space below, drop the first name and last name associated with the math .csv file.\n",
    "# (2 mark)\n",
    "df_studentGrades = df_studentGrades.drop(columns=['firstName_Math', 'lastName_Math'])"
   ]
  },
  {
   "cell_type": "code",
   "execution_count": 7,
   "id": "b58186b4-b60e-455a-990e-b24169964f98",
   "metadata": {
    "id": "b58186b4-b60e-455a-990e-b24169964f98"
   },
   "outputs": [
    {
     "data": {
      "text/html": [
       "<div>\n",
       "<style scoped>\n",
       "    .dataframe tbody tr th:only-of-type {\n",
       "        vertical-align: middle;\n",
       "    }\n",
       "\n",
       "    .dataframe tbody tr th {\n",
       "        vertical-align: top;\n",
       "    }\n",
       "\n",
       "    .dataframe thead th {\n",
       "        text-align: right;\n",
       "    }\n",
       "</style>\n",
       "<table border=\"1\" class=\"dataframe\">\n",
       "  <thead>\n",
       "    <tr style=\"text-align: right;\">\n",
       "      <th></th>\n",
       "      <th>firstName_English</th>\n",
       "      <th>lastName_English</th>\n",
       "      <th>studentID</th>\n",
       "      <th>grade_English</th>\n",
       "      <th>grade_Math</th>\n",
       "      <th>GPA</th>\n",
       "    </tr>\n",
       "  </thead>\n",
       "  <tbody>\n",
       "    <tr>\n",
       "      <th>0</th>\n",
       "      <td>Emma</td>\n",
       "      <td>Smith</td>\n",
       "      <td>10959</td>\n",
       "      <td>95</td>\n",
       "      <td>90</td>\n",
       "      <td>92.5</td>\n",
       "    </tr>\n",
       "    <tr>\n",
       "      <th>1</th>\n",
       "      <td>Sophia</td>\n",
       "      <td>Robinson</td>\n",
       "      <td>75175</td>\n",
       "      <td>88</td>\n",
       "      <td>95</td>\n",
       "      <td>91.5</td>\n",
       "    </tr>\n",
       "    <tr>\n",
       "      <th>2</th>\n",
       "      <td>Emma</td>\n",
       "      <td>Taylor</td>\n",
       "      <td>42257</td>\n",
       "      <td>87</td>\n",
       "      <td>85</td>\n",
       "      <td>86.0</td>\n",
       "    </tr>\n",
       "    <tr>\n",
       "      <th>3</th>\n",
       "      <td>David</td>\n",
       "      <td>Robinson</td>\n",
       "      <td>55148</td>\n",
       "      <td>86</td>\n",
       "      <td>87</td>\n",
       "      <td>86.5</td>\n",
       "    </tr>\n",
       "    <tr>\n",
       "      <th>4</th>\n",
       "      <td>Stephen</td>\n",
       "      <td>Curry</td>\n",
       "      <td>30303</td>\n",
       "      <td>90</td>\n",
       "      <td>88</td>\n",
       "      <td>89.0</td>\n",
       "    </tr>\n",
       "  </tbody>\n",
       "</table>\n",
       "</div>"
      ],
      "text/plain": [
       "  firstName_English lastName_English  studentID  grade_English  grade_Math  \\\n",
       "0              Emma            Smith      10959             95          90   \n",
       "1            Sophia         Robinson      75175             88          95   \n",
       "2              Emma           Taylor      42257             87          85   \n",
       "3             David         Robinson      55148             86          87   \n",
       "4           Stephen            Curry      30303             90          88   \n",
       "\n",
       "    GPA  \n",
       "0  92.5  \n",
       "1  91.5  \n",
       "2  86.0  \n",
       "3  86.5  \n",
       "4  89.0  "
      ]
     },
     "execution_count": 7,
     "metadata": {},
     "output_type": "execute_result"
    }
   ],
   "source": [
    "# Let's display the data again. Use an appropriate method (hint: already used before)\n",
    "# (1 mark)\n",
    "df_studentGrades.head()"
   ]
  },
  {
   "cell_type": "code",
   "execution_count": 8,
   "id": "f0476460-6156-49ee-bc84-0878207e2dfa",
   "metadata": {
    "id": "f0476460-6156-49ee-bc84-0878207e2dfa"
   },
   "outputs": [],
   "source": [
    "# Let's also rename the first and last names appropriately.\n",
    "# Complete the code in the space below by replacing \"<>\" with the proper column name\n",
    "# (1 mark)\n",
    "\n",
    "df_studentGrades = df_studentGrades.rename(columns={\n",
    "    'firstName_English': 'firstName',\n",
    "    'lastName_English': 'lastName',\n",
    "    'grade_English': 'englishGrade',\n",
    "    'grade_Math': 'mathGrade'\n",
    "})"
   ]
  },
  {
   "cell_type": "code",
   "execution_count": 9,
   "id": "5c2b26e6-3c03-4950-b56d-5d00cf9361c4",
   "metadata": {
    "id": "5c2b26e6-3c03-4950-b56d-5d00cf9361c4"
   },
   "outputs": [
    {
     "data": {
      "text/html": [
       "<div>\n",
       "<style scoped>\n",
       "    .dataframe tbody tr th:only-of-type {\n",
       "        vertical-align: middle;\n",
       "    }\n",
       "\n",
       "    .dataframe tbody tr th {\n",
       "        vertical-align: top;\n",
       "    }\n",
       "\n",
       "    .dataframe thead th {\n",
       "        text-align: right;\n",
       "    }\n",
       "</style>\n",
       "<table border=\"1\" class=\"dataframe\">\n",
       "  <thead>\n",
       "    <tr style=\"text-align: right;\">\n",
       "      <th></th>\n",
       "      <th>studentID</th>\n",
       "      <th>englishGrade</th>\n",
       "      <th>mathGrade</th>\n",
       "      <th>GPA</th>\n",
       "    </tr>\n",
       "  </thead>\n",
       "  <tbody>\n",
       "    <tr>\n",
       "      <th>count</th>\n",
       "      <td>14.000000</td>\n",
       "      <td>14.000000</td>\n",
       "      <td>14.000000</td>\n",
       "      <td>14.00000</td>\n",
       "    </tr>\n",
       "    <tr>\n",
       "      <th>mean</th>\n",
       "      <td>54086.714286</td>\n",
       "      <td>86.928571</td>\n",
       "      <td>88.571429</td>\n",
       "      <td>87.75000</td>\n",
       "    </tr>\n",
       "    <tr>\n",
       "      <th>std</th>\n",
       "      <td>24610.266586</td>\n",
       "      <td>6.145221</td>\n",
       "      <td>5.918865</td>\n",
       "      <td>3.63609</td>\n",
       "    </tr>\n",
       "    <tr>\n",
       "      <th>min</th>\n",
       "      <td>10959.000000</td>\n",
       "      <td>76.000000</td>\n",
       "      <td>79.000000</td>\n",
       "      <td>82.00000</td>\n",
       "    </tr>\n",
       "    <tr>\n",
       "      <th>25%</th>\n",
       "      <td>33291.500000</td>\n",
       "      <td>82.500000</td>\n",
       "      <td>85.250000</td>\n",
       "      <td>84.50000</td>\n",
       "    </tr>\n",
       "    <tr>\n",
       "      <th>50%</th>\n",
       "      <td>58087.000000</td>\n",
       "      <td>87.500000</td>\n",
       "      <td>87.500000</td>\n",
       "      <td>89.00000</td>\n",
       "    </tr>\n",
       "    <tr>\n",
       "      <th>75%</th>\n",
       "      <td>72214.250000</td>\n",
       "      <td>90.750000</td>\n",
       "      <td>91.500000</td>\n",
       "      <td>90.50000</td>\n",
       "    </tr>\n",
       "    <tr>\n",
       "      <th>max</th>\n",
       "      <td>90449.000000</td>\n",
       "      <td>98.000000</td>\n",
       "      <td>99.000000</td>\n",
       "      <td>92.50000</td>\n",
       "    </tr>\n",
       "  </tbody>\n",
       "</table>\n",
       "</div>"
      ],
      "text/plain": [
       "          studentID  englishGrade  mathGrade       GPA\n",
       "count     14.000000     14.000000  14.000000  14.00000\n",
       "mean   54086.714286     86.928571  88.571429  87.75000\n",
       "std    24610.266586      6.145221   5.918865   3.63609\n",
       "min    10959.000000     76.000000  79.000000  82.00000\n",
       "25%    33291.500000     82.500000  85.250000  84.50000\n",
       "50%    58087.000000     87.500000  87.500000  89.00000\n",
       "75%    72214.250000     90.750000  91.500000  90.50000\n",
       "max    90449.000000     98.000000  99.000000  92.50000"
      ]
     },
     "execution_count": 9,
     "metadata": {},
     "output_type": "execute_result"
    }
   ],
   "source": [
    "# Now let's find out some statistics about our student grades!\n",
    "# Please use an appropriate Pandas method in the space below to display statistical values like\n",
    "# mean, standard deviation, min, max, and others.\n",
    "# (1 mark)\n",
    "df_studentGrades.describe()"
   ]
  },
  {
   "cell_type": "code",
   "execution_count": 10,
   "id": "22589631-5517-4b64-937e-61a53ade15fa",
   "metadata": {
    "id": "22589631-5517-4b64-937e-61a53ade15fa"
   },
   "outputs": [],
   "source": [
    "# Do you notice a problem?\n",
    "# Some statistics are not relevant. The average of studentIDs have no meaning in reality!\n",
    "# Let's typecast each column appropriately so as to only get meaningful statistics.\n",
    "# In the code below, replace '<>' by choosing between 'str' for string or 'float' for float \n",
    "# to properly typecast each column.\n",
    "# (3 marks)\n",
    "df_studentGrades['studentID'] = df_studentGrades['studentID'].astype(str)\n",
    "df_studentGrades['firstName'] = df_studentGrades['firstName'].astype(str)\n",
    "df_studentGrades['lastName'] = df_studentGrades['lastName'].astype(str)\n",
    "df_studentGrades['englishGrade'] = df_studentGrades['englishGrade'].astype(float)\n",
    "df_studentGrades['mathGrade'] = df_studentGrades['mathGrade'].astype(float)\n",
    "df_studentGrades['GPA'] = df_studentGrades['GPA'].astype(float)"
   ]
  },
  {
   "cell_type": "code",
   "execution_count": 12,
   "id": "6ab40afb-2787-45ab-a62b-e832fdee699d",
   "metadata": {
    "id": "6ab40afb-2787-45ab-a62b-e832fdee699d"
   },
   "outputs": [
    {
     "data": {
      "text/html": [
       "<div>\n",
       "<style scoped>\n",
       "    .dataframe tbody tr th:only-of-type {\n",
       "        vertical-align: middle;\n",
       "    }\n",
       "\n",
       "    .dataframe tbody tr th {\n",
       "        vertical-align: top;\n",
       "    }\n",
       "\n",
       "    .dataframe thead th {\n",
       "        text-align: right;\n",
       "    }\n",
       "</style>\n",
       "<table border=\"1\" class=\"dataframe\">\n",
       "  <thead>\n",
       "    <tr style=\"text-align: right;\">\n",
       "      <th></th>\n",
       "      <th>englishGrade</th>\n",
       "      <th>mathGrade</th>\n",
       "      <th>GPA</th>\n",
       "    </tr>\n",
       "  </thead>\n",
       "  <tbody>\n",
       "    <tr>\n",
       "      <th>count</th>\n",
       "      <td>14.000000</td>\n",
       "      <td>14.000000</td>\n",
       "      <td>14.00000</td>\n",
       "    </tr>\n",
       "    <tr>\n",
       "      <th>mean</th>\n",
       "      <td>86.928571</td>\n",
       "      <td>88.571429</td>\n",
       "      <td>87.75000</td>\n",
       "    </tr>\n",
       "    <tr>\n",
       "      <th>std</th>\n",
       "      <td>6.145221</td>\n",
       "      <td>5.918865</td>\n",
       "      <td>3.63609</td>\n",
       "    </tr>\n",
       "    <tr>\n",
       "      <th>min</th>\n",
       "      <td>76.000000</td>\n",
       "      <td>79.000000</td>\n",
       "      <td>82.00000</td>\n",
       "    </tr>\n",
       "    <tr>\n",
       "      <th>25%</th>\n",
       "      <td>82.500000</td>\n",
       "      <td>85.250000</td>\n",
       "      <td>84.50000</td>\n",
       "    </tr>\n",
       "    <tr>\n",
       "      <th>50%</th>\n",
       "      <td>87.500000</td>\n",
       "      <td>87.500000</td>\n",
       "      <td>89.00000</td>\n",
       "    </tr>\n",
       "    <tr>\n",
       "      <th>75%</th>\n",
       "      <td>90.750000</td>\n",
       "      <td>91.500000</td>\n",
       "      <td>90.50000</td>\n",
       "    </tr>\n",
       "    <tr>\n",
       "      <th>max</th>\n",
       "      <td>98.000000</td>\n",
       "      <td>99.000000</td>\n",
       "      <td>92.50000</td>\n",
       "    </tr>\n",
       "  </tbody>\n",
       "</table>\n",
       "</div>"
      ],
      "text/plain": [
       "       englishGrade  mathGrade       GPA\n",
       "count     14.000000  14.000000  14.00000\n",
       "mean      86.928571  88.571429  87.75000\n",
       "std        6.145221   5.918865   3.63609\n",
       "min       76.000000  79.000000  82.00000\n",
       "25%       82.500000  85.250000  84.50000\n",
       "50%       87.500000  87.500000  89.00000\n",
       "75%       90.750000  91.500000  90.50000\n",
       "max       98.000000  99.000000  92.50000"
      ]
     },
     "execution_count": 12,
     "metadata": {},
     "output_type": "execute_result"
    }
   ],
   "source": [
    "# Now let's see our statistics!\n",
    "df_studentGrades.describe()"
   ]
  },
  {
   "cell_type": "code",
   "execution_count": 13,
   "id": "8wd6ggXcaszZ",
   "metadata": {
    "id": "8wd6ggXcaszZ"
   },
   "outputs": [],
   "source": [
    "# Now sort the merged dataframe so that it is in descending order based on GPA, and print it\n",
    "# (1 mark)\n",
    "df_studentsGPASorted = df_studentGrades.sort_values(by='GPA', ascending=False)\n",
    "print(df_studentsGPASorted)"
   ]
  },
  {
   "cell_type": "code",
   "execution_count": null,
   "id": "Y7Kjr1Jqbv_R",
   "metadata": {
    "id": "Y7Kjr1Jqbv_R"
   },
   "outputs": [],
   "source": [
    "# If we wanted to access the student with the highest gpa based on df_studentsGPASorted, \n",
    "# does .iloc or .loc make more sense and why?\n",
    "# (2 marks)\n",
    "# In this case, it makes more sense to use .iloc since it is used for positional indexing, while loc is used for label indexing.\n",
    "# since we want to pick the student with the highest GPA we can select the student in the first position (0)."
   ]
  },
  {
   "cell_type": "code",
   "execution_count": 25,
   "id": "6pQN2HYDeMrm",
   "metadata": {
    "id": "6pQN2HYDeMrm"
   },
   "outputs": [],
   "source": [
    "# Now using the method you specified, assign the variable below to the row containing the student with the highest GPA\n",
    "# (1 mark)\n",
    "top_student = df_studentsGPASorted.iloc[0]"
   ]
  },
  {
   "cell_type": "code",
   "execution_count": 26,
   "id": "C-oIXOOwdpx2",
   "metadata": {
    "id": "C-oIXOOwdpx2"
   },
   "outputs": [
    {
     "name": "stdout",
     "output_type": "stream",
     "text": [
      "The student with the highest GPA is Emma Smith with a GPA of 92.50\n"
     ]
    }
   ],
   "source": [
    "# Now print the student first name and last name with the highest GPA in this format:\n",
    "# \"The student with the highest GPA is <firstName> <lastName> with a GPA of <GPA>\"\n",
    "# (1 mark)\n",
    "print(f\"The student with the highest GPA is {top_student['firstName']} {top_student['lastName']} with a GPA of {top_student['GPA']:.2f}\")"
   ]
  },
  {
   "cell_type": "code",
   "execution_count": 27,
   "id": "4-U4nZbRee4x",
   "metadata": {
    "id": "4-U4nZbRee4x"
   },
   "outputs": [
    {
     "name": "stdout",
     "output_type": "stream",
     "text": [
      "  firstName  lastName studentID  englishGrade  mathGrade   GPA\n",
      "1    Sophia  Robinson     75175          88.0       95.0  91.5\n",
      "9      Anne     Clark     90449          82.0       99.0  90.5\n",
      "8     Sarah     Swift     61026          80.0       98.0  89.0\n",
      "7     James     Jones     87707          76.0       92.0  84.0\n"
     ]
    }
   ],
   "source": [
    "# We can use logical expressions to filter and print data. For example, let's print the students with math grades higher than 90:\n",
    "df_mathGrade_over90 = df_studentsGPASorted[df_studentsGPASorted['mathGrade'] > 90]\n",
    "print(df_mathGrade_over90)"
   ]
  },
  {
   "cell_type": "code",
   "execution_count": 28,
   "id": "lTp6vfG2fVQM",
   "metadata": {
    "id": "lTp6vfG2fVQM"
   },
   "outputs": [
    {
     "name": "stdout",
     "output_type": "stream",
     "text": [
      "   firstName  lastName studentID  englishGrade  mathGrade   GPA\n",
      "7      James     Jones     87707          76.0       92.0  84.0\n",
      "5   Isabella  Thompson     72824          88.0       79.0  83.5\n",
      "13   Matthew     White     25376          80.0       85.0  82.5\n",
      "6    Jasmine     Smith     70385          84.0       80.0  82.0\n"
     ]
    }
   ],
   "source": [
    "# Now print the students whos GPA are lower than 85\n",
    "# (2 marks)\n",
    "df_gpa_below_85 = df_studentsGPASorted[df_studentsGPASorted['GPA'] < 85]\n",
    "print(df_gpa_below_85)"
   ]
  },
  {
   "cell_type": "markdown",
   "id": "7zMefl3LSqQs",
   "metadata": {
    "id": "7zMefl3LSqQs"
   },
   "source": [
    "## Part 3: More Data Analytics using Pandas\n",
    "### (20 marks)"
   ]
  },
  {
   "cell_type": "code",
   "execution_count": 29,
   "id": "F_W0PBCdSxg9",
   "metadata": {
    "id": "F_W0PBCdSxg9"
   },
   "outputs": [
    {
     "name": "stdout",
     "output_type": "stream",
     "text": [
      "0     95\n",
      "1     88\n",
      "2     87\n",
      "3     86\n",
      "4     90\n",
      "5     88\n",
      "6     84\n",
      "7     76\n",
      "8     80\n",
      "9     82\n",
      "10    92\n",
      "11    91\n",
      "12    98\n",
      "13    80\n",
      "Name: grade, dtype: int64\n"
     ]
    }
   ],
   "source": [
    "# Select the column 'grade' from the original English grade dataset and print it\n",
    "# (1 mark)\n",
    "print(df_english['grade'])"
   ]
  },
  {
   "cell_type": "code",
   "execution_count": 30,
   "id": "d_Mo59OuT0IV",
   "metadata": {
    "id": "d_Mo59OuT0IV"
   },
   "outputs": [
    {
     "name": "stdout",
     "output_type": "stream",
     "text": [
      "0     92.5\n",
      "1     91.5\n",
      "2     86.0\n",
      "3     86.5\n",
      "4     89.0\n",
      "5     83.5\n",
      "6     82.0\n",
      "7     84.0\n",
      "8     89.0\n",
      "9     90.5\n",
      "10    90.5\n",
      "11    89.0\n",
      "12    92.0\n",
      "13    82.5\n",
      "Name: GPA, dtype: float64\n"
     ]
    }
   ],
   "source": [
    "# Select the column 'GPA' from the df_studentGrades and print it\n",
    "# (1 mark)\n",
    "print(df_studentGrades['GPA'])"
   ]
  },
  {
   "cell_type": "code",
   "execution_count": 31,
   "id": "EdHYR2hYVbef",
   "metadata": {
    "id": "EdHYR2hYVbef"
   },
   "outputs": [],
   "source": [
    "# What is the data type of grade from the English grade dataset?\n",
    "# (0.5 mark)\n",
    "# The data type of grade from the English grade dataset is int64.\n",
    "\n",
    "# What is the data type of GPA from the merged dataset?\n",
    "# (0.5 mark)\n",
    "# The data type of GPA from the merged dataset is float64.\n",
    "\n",
    "# Is it different? Why?\n",
    "# (1 mark)\n",
    "# Yes it is different, the grade column is an integer while the GPA column is a floating-point number.\n",
    "# They are different because individual grades are usually whole numbers, whil GPA is usually a decimal value so it is stored as a float."
   ]
  },
  {
   "cell_type": "code",
   "execution_count": 32,
   "id": "chmwegDeV6Dr",
   "metadata": {
    "id": "chmwegDeV6Dr"
   },
   "outputs": [],
   "source": [
    "# Load the student homeroom CSV file into a DataFrame using the following variable name\n",
    "# (1 mark)\n",
    "df_homeroom = pd.read_csv('studentHomerooms.csv')"
   ]
  },
  {
   "cell_type": "code",
   "execution_count": 34,
   "id": "7ISGewvrXI7u",
   "metadata": {
    "id": "7ISGewvrXI7u"
   },
   "outputs": [
    {
     "data": {
      "text/html": [
       "<div>\n",
       "<style scoped>\n",
       "    .dataframe tbody tr th:only-of-type {\n",
       "        vertical-align: middle;\n",
       "    }\n",
       "\n",
       "    .dataframe tbody tr th {\n",
       "        vertical-align: top;\n",
       "    }\n",
       "\n",
       "    .dataframe thead th {\n",
       "        text-align: right;\n",
       "    }\n",
       "</style>\n",
       "<table border=\"1\" class=\"dataframe\">\n",
       "  <thead>\n",
       "    <tr style=\"text-align: right;\">\n",
       "      <th></th>\n",
       "      <th>firstName</th>\n",
       "      <th>lastName</th>\n",
       "      <th>studentID</th>\n",
       "      <th>englishGrade</th>\n",
       "      <th>mathGrade</th>\n",
       "      <th>GPA</th>\n",
       "      <th>homeRoom</th>\n",
       "    </tr>\n",
       "  </thead>\n",
       "  <tbody>\n",
       "    <tr>\n",
       "      <th>0</th>\n",
       "      <td>Emma</td>\n",
       "      <td>Smith</td>\n",
       "      <td>10959</td>\n",
       "      <td>95.0</td>\n",
       "      <td>90.0</td>\n",
       "      <td>92.5</td>\n",
       "      <td>313</td>\n",
       "    </tr>\n",
       "    <tr>\n",
       "      <th>1</th>\n",
       "      <td>Sophia</td>\n",
       "      <td>Robinson</td>\n",
       "      <td>75175</td>\n",
       "      <td>88.0</td>\n",
       "      <td>95.0</td>\n",
       "      <td>91.5</td>\n",
       "      <td>311</td>\n",
       "    </tr>\n",
       "    <tr>\n",
       "      <th>2</th>\n",
       "      <td>Emma</td>\n",
       "      <td>Taylor</td>\n",
       "      <td>42257</td>\n",
       "      <td>87.0</td>\n",
       "      <td>85.0</td>\n",
       "      <td>86.0</td>\n",
       "      <td>311</td>\n",
       "    </tr>\n",
       "    <tr>\n",
       "      <th>3</th>\n",
       "      <td>David</td>\n",
       "      <td>Robinson</td>\n",
       "      <td>55148</td>\n",
       "      <td>86.0</td>\n",
       "      <td>87.0</td>\n",
       "      <td>86.5</td>\n",
       "      <td>313</td>\n",
       "    </tr>\n",
       "    <tr>\n",
       "      <th>4</th>\n",
       "      <td>Stephen</td>\n",
       "      <td>Curry</td>\n",
       "      <td>30303</td>\n",
       "      <td>90.0</td>\n",
       "      <td>88.0</td>\n",
       "      <td>89.0</td>\n",
       "      <td>313</td>\n",
       "    </tr>\n",
       "  </tbody>\n",
       "</table>\n",
       "</div>"
      ],
      "text/plain": [
       "  firstName  lastName studentID  englishGrade  mathGrade   GPA  homeRoom\n",
       "0      Emma     Smith     10959          95.0       90.0  92.5       313\n",
       "1    Sophia  Robinson     75175          88.0       95.0  91.5       311\n",
       "2      Emma    Taylor     42257          87.0       85.0  86.0       311\n",
       "3     David  Robinson     55148          86.0       87.0  86.5       313\n",
       "4   Stephen     Curry     30303          90.0       88.0  89.0       313"
      ]
     },
     "execution_count": 34,
     "metadata": {},
     "output_type": "execute_result"
    }
   ],
   "source": [
    "# Merge the studentHomerooms with the merged dataset. Make sure that the key you are joining on are the same typecast for both datasets.\n",
    "# Also ensure that there are no redundant columns, and finally display the first few rows.\n",
    "# Hint: try joining on more than one column to avoid having to drop redundant columns, ie. on=['studentID', '<ColumnA>', '<ColumnB>'] ...\n",
    "# (5 marks)\n",
    "\n",
    "# Make sure the studentID columns are of the same type in both datasets\n",
    "df_homeroom['studentID'] = df_homeroom['studentID'].astype(str)\n",
    "df_studentGrades['studentID'] = df_studentGrades['studentID'].astype(str)\n",
    "\n",
    "# Merge the datasets on 'studentID' and other columns\n",
    "df_studentInfo = pd.merge(df_studentGrades, df_homeroom, on=['studentID', 'firstName', 'lastName'])\n",
    "\n",
    "# Display first few rows\n",
    "df_studentInfo.head()"
   ]
  },
  {
   "cell_type": "code",
   "execution_count": 36,
   "id": "aZIl5LCWZ2cL",
   "metadata": {
    "id": "aZIl5LCWZ2cL"
   },
   "outputs": [
    {
     "name": "stdout",
     "output_type": "stream",
     "text": [
      "The homeroom with the highest GPA is 311.\n"
     ]
    }
   ],
   "source": [
    "# The code below calculates the mean of each homeroom class.\n",
    "df_grouped = df_studentInfo.groupby('homeRoom')['GPA'].mean()\n",
    "\n",
    "# Which homeroom has a higher GPA?\n",
    "# (1 mark)\n",
    "# Homeroom 311 has the highest GPA\n",
    "highest_gpa_homeroom = df_grouped.idxmax()\n",
    "print(f\"The homeroom with the highest GPA is {highest_gpa_homeroom}.\")"
   ]
  },
  {
   "cell_type": "code",
   "execution_count": 37,
   "id": "I1EtLRpVkCJt",
   "metadata": {
    "id": "I1EtLRpVkCJt"
   },
   "outputs": [
    {
     "data": {
      "text/html": [
       "<div>\n",
       "<style scoped>\n",
       "    .dataframe tbody tr th:only-of-type {\n",
       "        vertical-align: middle;\n",
       "    }\n",
       "\n",
       "    .dataframe tbody tr th {\n",
       "        vertical-align: top;\n",
       "    }\n",
       "\n",
       "    .dataframe thead th {\n",
       "        text-align: right;\n",
       "    }\n",
       "</style>\n",
       "<table border=\"1\" class=\"dataframe\">\n",
       "  <thead>\n",
       "    <tr style=\"text-align: right;\">\n",
       "      <th></th>\n",
       "      <th>firstName</th>\n",
       "      <th>lastName</th>\n",
       "      <th>studentID</th>\n",
       "      <th>englishGrade</th>\n",
       "      <th>mathGrade</th>\n",
       "      <th>GPA</th>\n",
       "      <th>homeRoom</th>\n",
       "    </tr>\n",
       "  </thead>\n",
       "  <tbody>\n",
       "    <tr>\n",
       "      <th>0</th>\n",
       "      <td>Emma</td>\n",
       "      <td>Smith</td>\n",
       "      <td>10959</td>\n",
       "      <td>95.0</td>\n",
       "      <td>90.0</td>\n",
       "      <td>92.5</td>\n",
       "      <td>313</td>\n",
       "    </tr>\n",
       "    <tr>\n",
       "      <th>10</th>\n",
       "      <td>Ryan</td>\n",
       "      <td>Thomas</td>\n",
       "      <td>62137</td>\n",
       "      <td>92.0</td>\n",
       "      <td>89.0</td>\n",
       "      <td>90.5</td>\n",
       "      <td>313</td>\n",
       "    </tr>\n",
       "    <tr>\n",
       "      <th>4</th>\n",
       "      <td>Stephen</td>\n",
       "      <td>Curry</td>\n",
       "      <td>30303</td>\n",
       "      <td>90.0</td>\n",
       "      <td>88.0</td>\n",
       "      <td>89.0</td>\n",
       "      <td>313</td>\n",
       "    </tr>\n",
       "    <tr>\n",
       "      <th>3</th>\n",
       "      <td>David</td>\n",
       "      <td>Robinson</td>\n",
       "      <td>55148</td>\n",
       "      <td>86.0</td>\n",
       "      <td>87.0</td>\n",
       "      <td>86.5</td>\n",
       "      <td>313</td>\n",
       "    </tr>\n",
       "    <tr>\n",
       "      <th>7</th>\n",
       "      <td>James</td>\n",
       "      <td>Jones</td>\n",
       "      <td>87707</td>\n",
       "      <td>76.0</td>\n",
       "      <td>92.0</td>\n",
       "      <td>84.0</td>\n",
       "      <td>313</td>\n",
       "    </tr>\n",
       "  </tbody>\n",
       "</table>\n",
       "</div>"
      ],
      "text/plain": [
       "   firstName  lastName studentID  englishGrade  mathGrade   GPA  homeRoom\n",
       "0       Emma     Smith     10959          95.0       90.0  92.5       313\n",
       "10      Ryan    Thomas     62137          92.0       89.0  90.5       313\n",
       "4    Stephen     Curry     30303          90.0       88.0  89.0       313\n",
       "3      David  Robinson     55148          86.0       87.0  86.5       313\n",
       "7      James     Jones     87707          76.0       92.0  84.0       313"
      ]
     },
     "execution_count": 37,
     "metadata": {},
     "output_type": "execute_result"
    }
   ],
   "source": [
    "# Now let's work with multiple sorts. The .sort_values() method can sort by multiple columns, meaning you can specify a primary column and a secondary column for sorting.\n",
    "# For example, by=['ColumnA', 'ColumnB'] will first sort by ColumnA and then by ColumnB.\n",
    "# Create and print a DataFrame, df_studentsGPASorted_homeroom, which is sorted by homeRoom and then by GPA, both in descending order.\n",
    "# (3 mark)\n",
    "\n",
    "# Sort the DataFrame by homeRoom and GPA in descending order\n",
    "df_studentsGPASorted_homeroom = df_studentInfo.sort_values(by=['homeRoom', 'GPA'], ascending=[False, False])\n",
    "df_studentsGPASorted_homeroom.head()\n"
   ]
  },
  {
   "cell_type": "code",
   "execution_count": 38,
   "id": "7XWCjnSCox1a",
   "metadata": {
    "id": "7XWCjnSCox1a"
   },
   "outputs": [
    {
     "name": "stdout",
     "output_type": "stream",
     "text": [
      "         firstName  lastName studentID  englishGrade  mathGrade   GPA  \\\n",
      "newIndex                                                                \n",
      "313-1         Emma     Smith     10959          95.0       90.0  92.5   \n",
      "313-2         Ryan    Thomas     62137          92.0       89.0  90.5   \n",
      "313-3      Stephen     Curry     30303          90.0       88.0  89.0   \n",
      "313-4        David  Robinson     55148          86.0       87.0  86.5   \n",
      "313-5        James     Jones     87707          76.0       92.0  84.0   \n",
      "313-6      Matthew     White     25376          80.0       85.0  82.5   \n",
      "313-7      Jasmine     Smith     70385          84.0       80.0  82.0   \n",
      "311-1         Sara       Doe     47991          98.0       86.0  92.0   \n",
      "311-2       Sophia  Robinson     75175          88.0       95.0  91.5   \n",
      "311-3         Anne     Clark     90449          82.0       99.0  90.5   \n",
      "311-4        Sarah     Swift     61026          80.0       98.0  89.0   \n",
      "311-5       Daniel     White     25477          91.0       87.0  89.0   \n",
      "311-6         Emma    Taylor     42257          87.0       85.0  86.0   \n",
      "311-7     Isabella  Thompson     72824          88.0       79.0  83.5   \n",
      "\n",
      "          homeRoom  \n",
      "newIndex            \n",
      "313-1          313  \n",
      "313-2          313  \n",
      "313-3          313  \n",
      "313-4          313  \n",
      "313-5          313  \n",
      "313-6          313  \n",
      "313-7          313  \n",
      "311-1          311  \n",
      "311-2          311  \n",
      "311-3          311  \n",
      "311-4          311  \n",
      "311-5          311  \n",
      "311-6          311  \n",
      "311-7          311  \n"
     ]
    }
   ],
   "source": [
    "# Do you notice a problem with the indices? They are basically meaningless now that we have sorted by homeroom and GPA.\n",
    "\n",
    "# The code below changes the index of the dataframe so that it is more intuitive.\n",
    "df_studentsGPASorted_homeroom['studentRank'] = df_studentsGPASorted_homeroom.groupby('homeRoom').cumcount() + 1\n",
    "df_studentsGPASorted_homeroom['newIndex'] = df_studentsGPASorted_homeroom['homeRoom'].astype(str) + '-' + df_studentsGPASorted_homeroom['studentRank'].astype(str)\n",
    "df_studentsGPASorted_homeroom = df_studentsGPASorted_homeroom.set_index('newIndex')\n",
    "df_studentsGPASorted_homeroom = df_studentsGPASorted_homeroom.drop(columns=['studentRank'])\n",
    "\n",
    "print(df_studentsGPASorted_homeroom)"
   ]
  },
  {
   "cell_type": "code",
   "execution_count": null,
   "id": "CUwJVCXfpsdJ",
   "metadata": {
    "id": "CUwJVCXfpsdJ"
   },
   "outputs": [],
   "source": [
    "# Describe what each coding line in the cell above is doing\n",
    "# (4 marks)\n",
    "\n",
    "# df_studentsGPASorted_homeroom['studentRank'] = df_studentsGPASorted_homeroom.groupby('homeRoom').cumcount() + 1\n",
    "# This line assigns a new column studentRank to the Dataframe. It calculates a rank for each student in their homeroom.\n",
    "# The rank is based on the sorted order.\n",
    " \n",
    "# df_studentsGPASorted_homeroom['newIndex'] = df_studentsGPASorted_homeroom['homeRoom'].astype(str) + '-' + df_studentsGPASorted_homeroom['studentRank'].astype(str) \n",
    "# This line creates a new column called newIndex, which is used as the new index of the DataFrame.\n",
    "# It concatenates the homeRoom number with a hyphen '-' and the studentRank after, so the form will look like \"311-1\".\n",
    "\n",
    "# df_studentsGPASorted_homeroom = df_studentsGPASorted_homeroom.set_index('newIndex')\n",
    "# This line sets the newIndex column as the new index of the DataFrame.\n",
    "\n",
    "# df_studentsGPASorted_homeroom = df_studentsGPASorted_homeroom.drop(columns=['studentRank'])\n",
    "# This line drops the studentRank column from the DataFrame."
   ]
  },
  {
   "cell_type": "code",
   "execution_count": 39,
   "id": "t1iojeTVqLWW",
   "metadata": {
    "id": "t1iojeTVqLWW"
   },
   "outputs": [
    {
     "name": "stdout",
     "output_type": "stream",
     "text": [
      "         firstName lastName studentID  englishGrade  mathGrade   GPA  homeRoom\n",
      "newIndex                                                                      \n",
      "311-1         Sara      Doe     47991          98.0       86.0  92.0       311\n",
      "313-1         Emma    Smith     10959          95.0       90.0  92.5       313\n"
     ]
    }
   ],
   "source": [
    "# Given df_studentsGPASorted_homeroom, please find and print the students with the highest GPA in each homeroom using the .loc method.\n",
    "# (2 marks)\n",
    "\n",
    "# Find the index of the student with the highest GPA in each homeroom\n",
    "index = df_studentsGPASorted_homeroom.groupby('homeRoom')['GPA'].idxmax()\n",
    "\n",
    "# Use .loc to select those rows with the highest GPA in each homeroom\n",
    "students_highest_gpa_each_homeroom = df_studentsGPASorted_homeroom.loc[index]\n",
    "\n",
    "print(students_highest_gpa_each_homeroom)\n"
   ]
  },
  {
   "cell_type": "markdown",
   "id": "6360bc9f-ac32-4d0d-986d-f2cb21d422a9",
   "metadata": {
    "id": "6360bc9f-ac32-4d0d-986d-f2cb21d422a9"
   },
   "source": [
    "## Part 4: Using Matplotlib for Data Analytics\n",
    "### (14 marks)"
   ]
  },
  {
   "cell_type": "code",
   "execution_count": 40,
   "id": "44538b76-33d8-466e-8cc1-0936c22b541c",
   "metadata": {
    "id": "44538b76-33d8-466e-8cc1-0936c22b541c"
   },
   "outputs": [],
   "source": [
    "# In the space below, please import the matplotlib library\n",
    "# (1 mark)\n",
    "import matplotlib.pyplot as plt"
   ]
  },
  {
   "cell_type": "code",
   "execution_count": 43,
   "id": "995a219d-fa27-4948-a51d-88aad7a24731",
   "metadata": {
    "id": "995a219d-fa27-4948-a51d-88aad7a24731"
   },
   "outputs": [
    {
     "data": {
      "image/png": "[encoded data removed]",
      "text/plain": [
       "<Figure size 1000x600 with 1 Axes>"
      ]
     },
     "metadata": {},
     "output_type": "display_data"
    }
   ],
   "source": [
    "# Let's use matplotlib to display a histogram of the grades distribution\n",
    "# Histograms are useful for seeing the distribution of the students grades\n",
    "\n",
    "plt.figure(figsize=(10, 6))\n",
    "plt.hist(df_studentGrades['englishGrade'], bins=10, alpha=0.7, label='English Grades', color='blue')\n",
    "\n",
    "# Step 1: Use the line above as reference to create a histogram for the math grades\n",
    "# (1 mark)\n",
    "plt.hist(df_studentGrades['mathGrade'], bins=10, alpha=0.7, label='Math Grades', color='red')\n",
    "\n",
    "# Step 2: Ensure that your plot is descriptive, so use labels (x and y axis), a title, and a legend.\n",
    "# Hint: Use the matplotlib .legend(loc='<location>') to add and place the legend.\n",
    "# You can use 'upper left', 'upper right', 'lower left', and 'lower right' to specify the location.\n",
    "# (4 marks)\n",
    "plt.xlabel('Grades')\n",
    "plt.ylabel('Number of Students')\n",
    "plt.title('Distribution of English and Math Grades')\n",
    "plt.legend(loc='upper right')\n",
    "\n",
    "plt.grid(True)\n",
    "\n",
    "# Step 3: Use the .savefig('<image_title>'.png) to output an image file of the histogram.\n",
    "# Please be sure to use a descriptive title!\n",
    "# (1 mark)\n",
    "plt.savefig('grade_distribution_histogram.png')\n",
    "\n",
    "plt.show()"
   ]
  },
  {
   "cell_type": "code",
   "execution_count": 44,
   "id": "631d4d69-dd89-4a31-a857-0f4eb1230bbc",
   "metadata": {
    "id": "631d4d69-dd89-4a31-a857-0f4eb1230bbc"
   },
   "outputs": [
    {
     "data": {
      "image/png": "[encoded data removed]",
      "text/plain": [
       "<Figure size 1000x600 with 1 Axes>"
      ]
     },
     "metadata": {},
     "output_type": "display_data"
    }
   ],
   "source": [
    "# Let's also use matplotlib to display a scatter plot of English vs. Math grades\n",
    "# Scatter plots are useful for seeing the relationship between two variables\n",
    "plt.figure(figsize=(10, 6))\n",
    "\n",
    "# Step 1: Use .scatter(x_data, y_data) to create a scatter plot using the English grades on the x-axis, and Math grades on the y-axis\n",
    "# (2 mark)\n",
    "plt.scatter(df_studentGrades['englishGrade'], df_studentGrades['mathGrade'])\n",
    "\n",
    "# Step 1: Properly label the x and y axes as well as the title of your plot.\n",
    "# (3 marks)\n",
    "plt.xlabel('English Grades')\n",
    "plt.ylabel('Math Grades')\n",
    "plt.title('Scatter Plot of English vs Math Grades')\n",
    "\n",
    "plt.grid(True)\n",
    "\n",
    "# Step 2: Output an image file for the scatter plot with a descriptive file name\n",
    "# (1 mark)\n",
    "plt.savefig('english_vs_math_grades_scatter_plot.png')\n",
    "\n",
    "plt.show()"
   ]
  },
  {
   "cell_type": "code",
   "execution_count": null,
   "id": "B69uvG5uioH0",
   "metadata": {
    "id": "B69uvG5uioH0"
   },
   "outputs": [],
   "source": [
    "# From the scatter plot, is there a relationship between the Math and English grades?\n",
    "# (1 mark)\n",
    "# The points are scattered without a consistent upward or downward trend, because the closer the points align along a line,\n",
    "# the stronger the correlation. This suggests that there isn't a linear relationship or correlation between the two sets of grades."
   ]
  }
 ],
 "metadata": {
  "colab": {
   "provenance": []
  },
  "kernelspec": {
   "display_name": "Python 3 (ipykernel)",
   "language": "python",
   "name": "python3"
  },
  "language_info": {
   "codemirror_mode": {
    "name": "ipython",
    "version": 3
   },
   "file_extension": ".py",
   "mimetype": "text/x-python",
   "name": "python",
   "nbconvert_exporter": "python",
   "pygments_lexer": "ipython3",
   "version": "3.10.7"
  }
 },
 "nbformat": 4,
 "nbformat_minor": 5
}
